{
 "cells": [
  {
   "cell_type": "markdown",
   "metadata": {
    "tags": [
     "e5c1f0c2-db9f-43a0-99b9-4875c52427e8"
    ]
   },
   "source": [
    "#                                                 Projecto integrado 1"
   ]
  },
  {
   "cell_type": "markdown",
   "metadata": {},
   "source": [
    "En este projecto trabajaremos con un data de videojuegos en el cual obtendremos datos del 2016 con la intención de analizarlos con el objetivo de crear campañas publicitarias para el año 2017, esto para garantizar meojrar las ventas en relación a los datos del año previo."
   ]
  },
  {
   "cell_type": "markdown",
   "metadata": {},
   "source": [
    "En esta ocasión trabajamos para la tienda online \"Ice\" que vende videojuegos por todo el mundo. \n",
    "\n",
    "Las reseñas de usuarios y expertos, los géneros, las plataformas (por ejemplo, Xbox o PlayStation) y los datos históricos sobre las ventas de juegos están disponibles en fuentes abiertas. \n",
    "\n",
    "Para este trabajo identificaremos patrones que determinen si un juego tiene éxito o no. Esto te permitirá detectar proyectos prometedores y planificar campañas publicitarias.\n"
   ]
  },
  {
   "cell_type": "markdown",
   "metadata": {},
   "source": [
    "# Descripción del data"
   ]
  },
  {
   "cell_type": "markdown",
   "metadata": {},
   "source": [
    "— Name (Nombre)\n",
    "\n",
    "— Platform (Plataforma)\n",
    "\n",
    "— Year_of_Release (Año de lanzamiento)\n",
    "\n",
    "— Genre (Género) \n",
    "\n",
    "— NA_sales (ventas en Norteamérica en millones de dólares estadounidenses) \n",
    "\n",
    "— EU_sales (ventas en Europa en millones de dólares estadounidenses) \n",
    "\n",
    "— JP_sales (ventas en Japón en millones de dólares estadounidenses) \n",
    "\n",
    "— Other_sales (ventas en otros países en millones de dólares estadounidenses) \n",
    "\n",
    "— Critic_Score (máximo de 100) \n",
    "\n",
    "— User_Score (máximo de 10) \n",
    "\n",
    "— Rating (ESRB)\n",
    "En la columna \"rating\" que almacena la clasificación ESRB de cada juego. El Entertainment Software Rating Board (la Junta de clasificación de software de entretenimiento) evalúa el contenido de un juego y asigna una clasificación de edad como Adolescente o Adulto."
   ]
  },
  {
   "cell_type": "code",
   "execution_count": 1,
   "metadata": {},
   "outputs": [],
   "source": [
    "#importar librerias a utilizar\n",
    "import pandas as pd\n",
    "import numpy as np\n",
    "import seaborn as sns\n",
    "from matplotlib import pyplot as plt\n",
    "from scipy import stats as st\n"
   ]
  },
  {
   "cell_type": "code",
   "execution_count": 2,
   "metadata": {},
   "outputs": [],
   "source": [
    "#cargar el archivo \n",
    "data= pd.read_csv(\"/datasets/games.csv\")"
   ]
  },
  {
   "cell_type": "code",
   "execution_count": 3,
   "metadata": {},
   "outputs": [
    {
     "name": "stdout",
     "output_type": "stream",
     "text": [
      "<class 'pandas.core.frame.DataFrame'>\n",
      "RangeIndex: 16715 entries, 0 to 16714\n",
      "Data columns (total 11 columns):\n",
      " #   Column           Non-Null Count  Dtype  \n",
      "---  ------           --------------  -----  \n",
      " 0   Name             16713 non-null  object \n",
      " 1   Platform         16715 non-null  object \n",
      " 2   Year_of_Release  16446 non-null  float64\n",
      " 3   Genre            16713 non-null  object \n",
      " 4   NA_sales         16715 non-null  float64\n",
      " 5   EU_sales         16715 non-null  float64\n",
      " 6   JP_sales         16715 non-null  float64\n",
      " 7   Other_sales      16715 non-null  float64\n",
      " 8   Critic_Score     8137 non-null   float64\n",
      " 9   User_Score       10014 non-null  object \n",
      " 10  Rating           9949 non-null   object \n",
      "dtypes: float64(6), object(5)\n",
      "memory usage: 1.4+ MB\n"
     ]
    }
   ],
   "source": [
    "#checar la info de las columnas general\n",
    "data.info()"
   ]
  },
  {
   "cell_type": "code",
   "execution_count": 4,
   "metadata": {},
   "outputs": [
    {
     "name": "stdout",
     "output_type": "stream",
     "text": [
      "Name                  2\n",
      "Platform              0\n",
      "Year_of_Release     269\n",
      "Genre                 2\n",
      "NA_sales              0\n",
      "EU_sales              0\n",
      "JP_sales              0\n",
      "Other_sales           0\n",
      "Critic_Score       8578\n",
      "User_Score         6701\n",
      "Rating             6766\n",
      "dtype: int64\n"
     ]
    }
   ],
   "source": [
    "print(data.isna().sum())"
   ]
  },
  {
   "cell_type": "markdown",
   "metadata": {},
   "source": [
    "La primera revision nos indica datos faltantes en las columnas:\n",
    "\n",
    "-Genre (2 filas)\n",
    "\n",
    "-Name (2 filas)\n",
    "\n",
    "-Critic score (mas del 50% de datos faltantes)\n",
    "\n",
    "-User score\n",
    "\n",
    "-Rating"
   ]
  },
  {
   "cell_type": "code",
   "execution_count": 5,
   "metadata": {},
   "outputs": [
    {
     "data": {
      "text/html": [
       "<div>\n",
       "<style scoped>\n",
       "    .dataframe tbody tr th:only-of-type {\n",
       "        vertical-align: middle;\n",
       "    }\n",
       "\n",
       "    .dataframe tbody tr th {\n",
       "        vertical-align: top;\n",
       "    }\n",
       "\n",
       "    .dataframe thead th {\n",
       "        text-align: right;\n",
       "    }\n",
       "</style>\n",
       "<table border=\"1\" class=\"dataframe\">\n",
       "  <thead>\n",
       "    <tr style=\"text-align: right;\">\n",
       "      <th></th>\n",
       "      <th>Name</th>\n",
       "      <th>Platform</th>\n",
       "      <th>Year_of_Release</th>\n",
       "      <th>Genre</th>\n",
       "      <th>NA_sales</th>\n",
       "      <th>EU_sales</th>\n",
       "      <th>JP_sales</th>\n",
       "      <th>Other_sales</th>\n",
       "      <th>Critic_Score</th>\n",
       "      <th>User_Score</th>\n",
       "      <th>Rating</th>\n",
       "    </tr>\n",
       "  </thead>\n",
       "  <tbody>\n",
       "    <tr>\n",
       "      <th>0</th>\n",
       "      <td>Wii Sports</td>\n",
       "      <td>Wii</td>\n",
       "      <td>2006.0</td>\n",
       "      <td>Sports</td>\n",
       "      <td>41.36</td>\n",
       "      <td>28.96</td>\n",
       "      <td>3.77</td>\n",
       "      <td>8.45</td>\n",
       "      <td>76.0</td>\n",
       "      <td>8</td>\n",
       "      <td>E</td>\n",
       "    </tr>\n",
       "    <tr>\n",
       "      <th>1</th>\n",
       "      <td>Super Mario Bros.</td>\n",
       "      <td>NES</td>\n",
       "      <td>1985.0</td>\n",
       "      <td>Platform</td>\n",
       "      <td>29.08</td>\n",
       "      <td>3.58</td>\n",
       "      <td>6.81</td>\n",
       "      <td>0.77</td>\n",
       "      <td>NaN</td>\n",
       "      <td>NaN</td>\n",
       "      <td>NaN</td>\n",
       "    </tr>\n",
       "    <tr>\n",
       "      <th>2</th>\n",
       "      <td>Mario Kart Wii</td>\n",
       "      <td>Wii</td>\n",
       "      <td>2008.0</td>\n",
       "      <td>Racing</td>\n",
       "      <td>15.68</td>\n",
       "      <td>12.76</td>\n",
       "      <td>3.79</td>\n",
       "      <td>3.29</td>\n",
       "      <td>82.0</td>\n",
       "      <td>8.3</td>\n",
       "      <td>E</td>\n",
       "    </tr>\n",
       "    <tr>\n",
       "      <th>3</th>\n",
       "      <td>Wii Sports Resort</td>\n",
       "      <td>Wii</td>\n",
       "      <td>2009.0</td>\n",
       "      <td>Sports</td>\n",
       "      <td>15.61</td>\n",
       "      <td>10.93</td>\n",
       "      <td>3.28</td>\n",
       "      <td>2.95</td>\n",
       "      <td>80.0</td>\n",
       "      <td>8</td>\n",
       "      <td>E</td>\n",
       "    </tr>\n",
       "    <tr>\n",
       "      <th>4</th>\n",
       "      <td>Pokemon Red/Pokemon Blue</td>\n",
       "      <td>GB</td>\n",
       "      <td>1996.0</td>\n",
       "      <td>Role-Playing</td>\n",
       "      <td>11.27</td>\n",
       "      <td>8.89</td>\n",
       "      <td>10.22</td>\n",
       "      <td>1.00</td>\n",
       "      <td>NaN</td>\n",
       "      <td>NaN</td>\n",
       "      <td>NaN</td>\n",
       "    </tr>\n",
       "  </tbody>\n",
       "</table>\n",
       "</div>"
      ],
      "text/plain": [
       "                       Name Platform  Year_of_Release         Genre  NA_sales  \\\n",
       "0                Wii Sports      Wii           2006.0        Sports     41.36   \n",
       "1         Super Mario Bros.      NES           1985.0      Platform     29.08   \n",
       "2            Mario Kart Wii      Wii           2008.0        Racing     15.68   \n",
       "3         Wii Sports Resort      Wii           2009.0        Sports     15.61   \n",
       "4  Pokemon Red/Pokemon Blue       GB           1996.0  Role-Playing     11.27   \n",
       "\n",
       "   EU_sales  JP_sales  Other_sales  Critic_Score User_Score Rating  \n",
       "0     28.96      3.77         8.45          76.0          8      E  \n",
       "1      3.58      6.81         0.77           NaN        NaN    NaN  \n",
       "2     12.76      3.79         3.29          82.0        8.3      E  \n",
       "3     10.93      3.28         2.95          80.0          8      E  \n",
       "4      8.89     10.22         1.00           NaN        NaN    NaN  "
      ]
     },
     "execution_count": 5,
     "metadata": {},
     "output_type": "execute_result"
    }
   ],
   "source": [
    "data.head()\n",
    "#mostar las primeras filas para observar la estructura del data general"
   ]
  },
  {
   "cell_type": "markdown",
   "metadata": {},
   "source": [
    "# Preparación de los datos"
   ]
  },
  {
   "cell_type": "markdown",
   "metadata": {},
   "source": [
    "Limpiaremos los datos a profundidad para tener la mejor calidad de datos y así poder tener mejores análisis.\n",
    "Buscaremos datos duplicados, ausentes y mejoras generales que ayudarán a entender mejor los resultados a mostrar."
   ]
  },
  {
   "cell_type": "code",
   "execution_count": 6,
   "metadata": {},
   "outputs": [],
   "source": [
    "#mejorar el nombre de las columnas, pasaremos todos los nombres en minúscula\n",
    "data.columns =data.columns.str.lower()"
   ]
  },
  {
   "cell_type": "code",
   "execution_count": 7,
   "metadata": {},
   "outputs": [
    {
     "data": {
      "text/html": [
       "<div>\n",
       "<style scoped>\n",
       "    .dataframe tbody tr th:only-of-type {\n",
       "        vertical-align: middle;\n",
       "    }\n",
       "\n",
       "    .dataframe tbody tr th {\n",
       "        vertical-align: top;\n",
       "    }\n",
       "\n",
       "    .dataframe thead th {\n",
       "        text-align: right;\n",
       "    }\n",
       "</style>\n",
       "<table border=\"1\" class=\"dataframe\">\n",
       "  <thead>\n",
       "    <tr style=\"text-align: right;\">\n",
       "      <th></th>\n",
       "      <th>name</th>\n",
       "      <th>platform</th>\n",
       "      <th>year_of_release</th>\n",
       "      <th>genre</th>\n",
       "      <th>na_sales</th>\n",
       "      <th>eu_sales</th>\n",
       "      <th>jp_sales</th>\n",
       "      <th>other_sales</th>\n",
       "      <th>critic_score</th>\n",
       "      <th>user_score</th>\n",
       "      <th>rating</th>\n",
       "    </tr>\n",
       "  </thead>\n",
       "  <tbody>\n",
       "    <tr>\n",
       "      <th>0</th>\n",
       "      <td>Wii Sports</td>\n",
       "      <td>Wii</td>\n",
       "      <td>2006.0</td>\n",
       "      <td>Sports</td>\n",
       "      <td>41.36</td>\n",
       "      <td>28.96</td>\n",
       "      <td>3.77</td>\n",
       "      <td>8.45</td>\n",
       "      <td>76.0</td>\n",
       "      <td>8</td>\n",
       "      <td>E</td>\n",
       "    </tr>\n",
       "    <tr>\n",
       "      <th>1</th>\n",
       "      <td>Super Mario Bros.</td>\n",
       "      <td>NES</td>\n",
       "      <td>1985.0</td>\n",
       "      <td>Platform</td>\n",
       "      <td>29.08</td>\n",
       "      <td>3.58</td>\n",
       "      <td>6.81</td>\n",
       "      <td>0.77</td>\n",
       "      <td>NaN</td>\n",
       "      <td>NaN</td>\n",
       "      <td>NaN</td>\n",
       "    </tr>\n",
       "    <tr>\n",
       "      <th>2</th>\n",
       "      <td>Mario Kart Wii</td>\n",
       "      <td>Wii</td>\n",
       "      <td>2008.0</td>\n",
       "      <td>Racing</td>\n",
       "      <td>15.68</td>\n",
       "      <td>12.76</td>\n",
       "      <td>3.79</td>\n",
       "      <td>3.29</td>\n",
       "      <td>82.0</td>\n",
       "      <td>8.3</td>\n",
       "      <td>E</td>\n",
       "    </tr>\n",
       "    <tr>\n",
       "      <th>3</th>\n",
       "      <td>Wii Sports Resort</td>\n",
       "      <td>Wii</td>\n",
       "      <td>2009.0</td>\n",
       "      <td>Sports</td>\n",
       "      <td>15.61</td>\n",
       "      <td>10.93</td>\n",
       "      <td>3.28</td>\n",
       "      <td>2.95</td>\n",
       "      <td>80.0</td>\n",
       "      <td>8</td>\n",
       "      <td>E</td>\n",
       "    </tr>\n",
       "    <tr>\n",
       "      <th>4</th>\n",
       "      <td>Pokemon Red/Pokemon Blue</td>\n",
       "      <td>GB</td>\n",
       "      <td>1996.0</td>\n",
       "      <td>Role-Playing</td>\n",
       "      <td>11.27</td>\n",
       "      <td>8.89</td>\n",
       "      <td>10.22</td>\n",
       "      <td>1.00</td>\n",
       "      <td>NaN</td>\n",
       "      <td>NaN</td>\n",
       "      <td>NaN</td>\n",
       "    </tr>\n",
       "    <tr>\n",
       "      <th>...</th>\n",
       "      <td>...</td>\n",
       "      <td>...</td>\n",
       "      <td>...</td>\n",
       "      <td>...</td>\n",
       "      <td>...</td>\n",
       "      <td>...</td>\n",
       "      <td>...</td>\n",
       "      <td>...</td>\n",
       "      <td>...</td>\n",
       "      <td>...</td>\n",
       "      <td>...</td>\n",
       "    </tr>\n",
       "    <tr>\n",
       "      <th>16710</th>\n",
       "      <td>Samurai Warriors: Sanada Maru</td>\n",
       "      <td>PS3</td>\n",
       "      <td>2016.0</td>\n",
       "      <td>Action</td>\n",
       "      <td>0.00</td>\n",
       "      <td>0.00</td>\n",
       "      <td>0.01</td>\n",
       "      <td>0.00</td>\n",
       "      <td>NaN</td>\n",
       "      <td>NaN</td>\n",
       "      <td>NaN</td>\n",
       "    </tr>\n",
       "    <tr>\n",
       "      <th>16711</th>\n",
       "      <td>LMA Manager 2007</td>\n",
       "      <td>X360</td>\n",
       "      <td>2006.0</td>\n",
       "      <td>Sports</td>\n",
       "      <td>0.00</td>\n",
       "      <td>0.01</td>\n",
       "      <td>0.00</td>\n",
       "      <td>0.00</td>\n",
       "      <td>NaN</td>\n",
       "      <td>NaN</td>\n",
       "      <td>NaN</td>\n",
       "    </tr>\n",
       "    <tr>\n",
       "      <th>16712</th>\n",
       "      <td>Haitaka no Psychedelica</td>\n",
       "      <td>PSV</td>\n",
       "      <td>2016.0</td>\n",
       "      <td>Adventure</td>\n",
       "      <td>0.00</td>\n",
       "      <td>0.00</td>\n",
       "      <td>0.01</td>\n",
       "      <td>0.00</td>\n",
       "      <td>NaN</td>\n",
       "      <td>NaN</td>\n",
       "      <td>NaN</td>\n",
       "    </tr>\n",
       "    <tr>\n",
       "      <th>16713</th>\n",
       "      <td>Spirits &amp; Spells</td>\n",
       "      <td>GBA</td>\n",
       "      <td>2003.0</td>\n",
       "      <td>Platform</td>\n",
       "      <td>0.01</td>\n",
       "      <td>0.00</td>\n",
       "      <td>0.00</td>\n",
       "      <td>0.00</td>\n",
       "      <td>NaN</td>\n",
       "      <td>NaN</td>\n",
       "      <td>NaN</td>\n",
       "    </tr>\n",
       "    <tr>\n",
       "      <th>16714</th>\n",
       "      <td>Winning Post 8 2016</td>\n",
       "      <td>PSV</td>\n",
       "      <td>2016.0</td>\n",
       "      <td>Simulation</td>\n",
       "      <td>0.00</td>\n",
       "      <td>0.00</td>\n",
       "      <td>0.01</td>\n",
       "      <td>0.00</td>\n",
       "      <td>NaN</td>\n",
       "      <td>NaN</td>\n",
       "      <td>NaN</td>\n",
       "    </tr>\n",
       "  </tbody>\n",
       "</table>\n",
       "<p>16715 rows × 11 columns</p>\n",
       "</div>"
      ],
      "text/plain": [
       "                                name platform  year_of_release         genre  \\\n",
       "0                         Wii Sports      Wii           2006.0        Sports   \n",
       "1                  Super Mario Bros.      NES           1985.0      Platform   \n",
       "2                     Mario Kart Wii      Wii           2008.0        Racing   \n",
       "3                  Wii Sports Resort      Wii           2009.0        Sports   \n",
       "4           Pokemon Red/Pokemon Blue       GB           1996.0  Role-Playing   \n",
       "...                              ...      ...              ...           ...   \n",
       "16710  Samurai Warriors: Sanada Maru      PS3           2016.0        Action   \n",
       "16711               LMA Manager 2007     X360           2006.0        Sports   \n",
       "16712        Haitaka no Psychedelica      PSV           2016.0     Adventure   \n",
       "16713               Spirits & Spells      GBA           2003.0      Platform   \n",
       "16714            Winning Post 8 2016      PSV           2016.0    Simulation   \n",
       "\n",
       "       na_sales  eu_sales  jp_sales  other_sales  critic_score user_score  \\\n",
       "0         41.36     28.96      3.77         8.45          76.0          8   \n",
       "1         29.08      3.58      6.81         0.77           NaN        NaN   \n",
       "2         15.68     12.76      3.79         3.29          82.0        8.3   \n",
       "3         15.61     10.93      3.28         2.95          80.0          8   \n",
       "4         11.27      8.89     10.22         1.00           NaN        NaN   \n",
       "...         ...       ...       ...          ...           ...        ...   \n",
       "16710      0.00      0.00      0.01         0.00           NaN        NaN   \n",
       "16711      0.00      0.01      0.00         0.00           NaN        NaN   \n",
       "16712      0.00      0.00      0.01         0.00           NaN        NaN   \n",
       "16713      0.01      0.00      0.00         0.00           NaN        NaN   \n",
       "16714      0.00      0.00      0.01         0.00           NaN        NaN   \n",
       "\n",
       "      rating  \n",
       "0          E  \n",
       "1        NaN  \n",
       "2          E  \n",
       "3          E  \n",
       "4        NaN  \n",
       "...      ...  \n",
       "16710    NaN  \n",
       "16711    NaN  \n",
       "16712    NaN  \n",
       "16713    NaN  \n",
       "16714    NaN  \n",
       "\n",
       "[16715 rows x 11 columns]"
      ]
     },
     "execution_count": 7,
     "metadata": {},
     "output_type": "execute_result"
    }
   ],
   "source": [
    "#verificar los cambios\n",
    "data\n"
   ]
  },
  {
   "cell_type": "code",
   "execution_count": 8,
   "metadata": {},
   "outputs": [
    {
     "name": "stdout",
     "output_type": "stream",
     "text": [
      "0\n"
     ]
    }
   ],
   "source": [
    "#verificar si existen datos duplicados\n",
    "print(data.duplicated().sum())"
   ]
  },
  {
   "cell_type": "code",
   "execution_count": 9,
   "metadata": {},
   "outputs": [],
   "source": [
    "#reemplazar valores ausentes de la columna year por 0\n",
    "data [\"year_of_release\"] = data [\"year_of_release\"].fillna(0)"
   ]
  },
  {
   "cell_type": "code",
   "execution_count": 10,
   "metadata": {},
   "outputs": [],
   "source": [
    "#modificar los datos de la  columna \"year\" a tipo int \n",
    "data [\"year_of_release\"] = data [\"year_of_release\"].astype(\"int\")\n"
   ]
  },
  {
   "cell_type": "code",
   "execution_count": 11,
   "metadata": {},
   "outputs": [
    {
     "name": "stdout",
     "output_type": "stream",
     "text": [
      "0    2008\n",
      "dtype: int64\n"
     ]
    }
   ],
   "source": [
    "#buscar la moda de la columna year para llenar nuevamente con ese dato los valores ausentes antes colocados con 0\n",
    "moda= data[\"year_of_release\"].mode()\n",
    "print(moda)"
   ]
  },
  {
   "cell_type": "code",
   "execution_count": 12,
   "metadata": {},
   "outputs": [],
   "source": [
    "#reemplazar valores 0 de la columna year por 2008 que es la moda\n",
    "data [\"year_of_release\"] = data [\"year_of_release\"].replace(0,2008)"
   ]
  },
  {
   "cell_type": "code",
   "execution_count": 13,
   "metadata": {},
   "outputs": [
    {
     "data": {
      "text/html": [
       "<div>\n",
       "<style scoped>\n",
       "    .dataframe tbody tr th:only-of-type {\n",
       "        vertical-align: middle;\n",
       "    }\n",
       "\n",
       "    .dataframe tbody tr th {\n",
       "        vertical-align: top;\n",
       "    }\n",
       "\n",
       "    .dataframe thead th {\n",
       "        text-align: right;\n",
       "    }\n",
       "</style>\n",
       "<table border=\"1\" class=\"dataframe\">\n",
       "  <thead>\n",
       "    <tr style=\"text-align: right;\">\n",
       "      <th></th>\n",
       "      <th>name</th>\n",
       "      <th>platform</th>\n",
       "      <th>year_of_release</th>\n",
       "      <th>genre</th>\n",
       "      <th>na_sales</th>\n",
       "      <th>eu_sales</th>\n",
       "      <th>jp_sales</th>\n",
       "      <th>other_sales</th>\n",
       "      <th>critic_score</th>\n",
       "      <th>user_score</th>\n",
       "      <th>rating</th>\n",
       "    </tr>\n",
       "  </thead>\n",
       "  <tbody>\n",
       "    <tr>\n",
       "      <th>0</th>\n",
       "      <td>Wii Sports</td>\n",
       "      <td>Wii</td>\n",
       "      <td>2006</td>\n",
       "      <td>Sports</td>\n",
       "      <td>41.36</td>\n",
       "      <td>28.96</td>\n",
       "      <td>3.77</td>\n",
       "      <td>8.45</td>\n",
       "      <td>76.0</td>\n",
       "      <td>8</td>\n",
       "      <td>E</td>\n",
       "    </tr>\n",
       "    <tr>\n",
       "      <th>1</th>\n",
       "      <td>Super Mario Bros.</td>\n",
       "      <td>NES</td>\n",
       "      <td>1985</td>\n",
       "      <td>Platform</td>\n",
       "      <td>29.08</td>\n",
       "      <td>3.58</td>\n",
       "      <td>6.81</td>\n",
       "      <td>0.77</td>\n",
       "      <td>NaN</td>\n",
       "      <td>NaN</td>\n",
       "      <td>NaN</td>\n",
       "    </tr>\n",
       "    <tr>\n",
       "      <th>2</th>\n",
       "      <td>Mario Kart Wii</td>\n",
       "      <td>Wii</td>\n",
       "      <td>2008</td>\n",
       "      <td>Racing</td>\n",
       "      <td>15.68</td>\n",
       "      <td>12.76</td>\n",
       "      <td>3.79</td>\n",
       "      <td>3.29</td>\n",
       "      <td>82.0</td>\n",
       "      <td>8.3</td>\n",
       "      <td>E</td>\n",
       "    </tr>\n",
       "    <tr>\n",
       "      <th>3</th>\n",
       "      <td>Wii Sports Resort</td>\n",
       "      <td>Wii</td>\n",
       "      <td>2009</td>\n",
       "      <td>Sports</td>\n",
       "      <td>15.61</td>\n",
       "      <td>10.93</td>\n",
       "      <td>3.28</td>\n",
       "      <td>2.95</td>\n",
       "      <td>80.0</td>\n",
       "      <td>8</td>\n",
       "      <td>E</td>\n",
       "    </tr>\n",
       "    <tr>\n",
       "      <th>4</th>\n",
       "      <td>Pokemon Red/Pokemon Blue</td>\n",
       "      <td>GB</td>\n",
       "      <td>1996</td>\n",
       "      <td>Role-Playing</td>\n",
       "      <td>11.27</td>\n",
       "      <td>8.89</td>\n",
       "      <td>10.22</td>\n",
       "      <td>1.00</td>\n",
       "      <td>NaN</td>\n",
       "      <td>NaN</td>\n",
       "      <td>NaN</td>\n",
       "    </tr>\n",
       "  </tbody>\n",
       "</table>\n",
       "</div>"
      ],
      "text/plain": [
       "                       name platform  year_of_release         genre  na_sales  \\\n",
       "0                Wii Sports      Wii             2006        Sports     41.36   \n",
       "1         Super Mario Bros.      NES             1985      Platform     29.08   \n",
       "2            Mario Kart Wii      Wii             2008        Racing     15.68   \n",
       "3         Wii Sports Resort      Wii             2009        Sports     15.61   \n",
       "4  Pokemon Red/Pokemon Blue       GB             1996  Role-Playing     11.27   \n",
       "\n",
       "   eu_sales  jp_sales  other_sales  critic_score user_score rating  \n",
       "0     28.96      3.77         8.45          76.0          8      E  \n",
       "1      3.58      6.81         0.77           NaN        NaN    NaN  \n",
       "2     12.76      3.79         3.29          82.0        8.3      E  \n",
       "3     10.93      3.28         2.95          80.0          8      E  \n",
       "4      8.89     10.22         1.00           NaN        NaN    NaN  "
      ]
     },
     "execution_count": 13,
     "metadata": {},
     "output_type": "execute_result"
    }
   ],
   "source": [
    "#corroborar cambios en el tipo de dato de columna year\n",
    "data.head()"
   ]
  },
  {
   "cell_type": "code",
   "execution_count": 14,
   "metadata": {},
   "outputs": [
    {
     "name": "stdout",
     "output_type": "stream",
     "text": [
      "['Sports' 'Platform' 'Racing' 'Role-Playing' 'Puzzle' 'Misc' 'Shooter'\n",
      " 'Simulation' 'Action' 'Fighting' 'Adventure' 'Strategy' nan]\n"
     ]
    }
   ],
   "source": [
    "#conocer los datos unicos de la columna Genre\n",
    "print(data[\"genre\"].unique())"
   ]
  },
  {
   "cell_type": "code",
   "execution_count": 15,
   "metadata": {},
   "outputs": [],
   "source": [
    "#Sustituir las 2 filas con valores ausentes con Other para identificar los juegos sin género y no perder esos datos\n",
    "data[\"genre\"] = data [\"genre\"]. fillna (\"Other\")"
   ]
  },
  {
   "cell_type": "code",
   "execution_count": 16,
   "metadata": {},
   "outputs": [
    {
     "name": "stdout",
     "output_type": "stream",
     "text": [
      "['Wii Sports' 'Super Mario Bros.' 'Mario Kart Wii' ...\n",
      " 'Woody Woodpecker in Crazy Castle 5' 'LMA Manager 2007'\n",
      " 'Haitaka no Psychedelica']\n"
     ]
    }
   ],
   "source": [
    "#conocer los datos unicos de la columna Name\n",
    "print(data[\"name\"].unique())"
   ]
  },
  {
   "cell_type": "code",
   "execution_count": 17,
   "metadata": {},
   "outputs": [],
   "source": [
    "#sustituir las 2 filas con los valores ausentes con Desconocido para identificar los juegos sin nombre pero sin perder los datos\n",
    "data[\"name\"] = data[\"name\"].fillna(\"Unknown\")"
   ]
  },
  {
   "cell_type": "markdown",
   "metadata": {},
   "source": [
    "Se cambió el estilo de los nombres de las columnas para mayor comodidad a la hora de trabajar con ellos.\n",
    "Los datos faltantes de la columna Year fueron sustituidos por su dato más repetido (moda) que fue el año 2008, asi poder cambiar el tipo de formato de str a int, esto con la finalidad de poder tener un mejor uso de los datos ya que una gran parte de los datos que nos intesa analizar con lleva el analisis del año de lanzamiento, así no perderemos los datos y los datos sustituidos por 2008 no sesgaran los datos al ser analizados posteriormente.\n",
    "\n",
    "Las  filas con genero faltante se le coloco el nombre \"Other\" para evitar los datos ausentes y solo no especificar el género, esto no afecta ya que 2 filas corresponden al 0.0119% de los datos a analizar, no se eliminan, pero se busca ubicarlos cambiando su género.\n",
    "\n",
    "Lo mismo se busca con las 2 filas de nombre, no perder su informacion aunque sea insignificante y conservar sus datos para su analisis de ser necesario."
   ]
  },
  {
   "cell_type": "code",
   "execution_count": 18,
   "metadata": {},
   "outputs": [
    {
     "name": "stdout",
     "output_type": "stream",
     "text": [
      "name                  0\n",
      "platform              0\n",
      "year_of_release       0\n",
      "genre                 0\n",
      "na_sales              0\n",
      "eu_sales              0\n",
      "jp_sales              0\n",
      "other_sales           0\n",
      "critic_score       8578\n",
      "user_score         6701\n",
      "rating             6766\n",
      "dtype: int64\n"
     ]
    }
   ],
   "source": [
    "#vuelve a llamar a los datos ausentes para evaluar la seriedad de los datos ausentes de los Score y Rating y buscar soluciones\n",
    "print(data.isna().sum())"
   ]
  },
  {
   "cell_type": "markdown",
   "metadata": {},
   "source": [
    "Se han eliminado los valores ausentes de las primeras columnas, esto nos ayudara a tener un mejor analisis y control de los datos.\n",
    "Ahora proseguiremos con las últimas columnas con más datos ausentes para buscar solución a estos datos."
   ]
  },
  {
   "cell_type": "code",
   "execution_count": 19,
   "metadata": {},
   "outputs": [
    {
     "data": {
      "text/html": [
       "<div>\n",
       "<style scoped>\n",
       "    .dataframe tbody tr th:only-of-type {\n",
       "        vertical-align: middle;\n",
       "    }\n",
       "\n",
       "    .dataframe tbody tr th {\n",
       "        vertical-align: top;\n",
       "    }\n",
       "\n",
       "    .dataframe thead th {\n",
       "        text-align: right;\n",
       "    }\n",
       "</style>\n",
       "<table border=\"1\" class=\"dataframe\">\n",
       "  <thead>\n",
       "    <tr style=\"text-align: right;\">\n",
       "      <th></th>\n",
       "      <th>year_of_release</th>\n",
       "      <th>na_sales</th>\n",
       "      <th>eu_sales</th>\n",
       "      <th>jp_sales</th>\n",
       "      <th>other_sales</th>\n",
       "      <th>critic_score</th>\n",
       "    </tr>\n",
       "  </thead>\n",
       "  <tbody>\n",
       "    <tr>\n",
       "      <th>count</th>\n",
       "      <td>16715.000000</td>\n",
       "      <td>16715.000000</td>\n",
       "      <td>16715.000000</td>\n",
       "      <td>16715.000000</td>\n",
       "      <td>16715.000000</td>\n",
       "      <td>8137.000000</td>\n",
       "    </tr>\n",
       "    <tr>\n",
       "      <th>mean</th>\n",
       "      <td>2006.509004</td>\n",
       "      <td>0.263377</td>\n",
       "      <td>0.145060</td>\n",
       "      <td>0.077617</td>\n",
       "      <td>0.047342</td>\n",
       "      <td>68.967679</td>\n",
       "    </tr>\n",
       "    <tr>\n",
       "      <th>std</th>\n",
       "      <td>5.832683</td>\n",
       "      <td>0.813604</td>\n",
       "      <td>0.503339</td>\n",
       "      <td>0.308853</td>\n",
       "      <td>0.186731</td>\n",
       "      <td>13.938165</td>\n",
       "    </tr>\n",
       "    <tr>\n",
       "      <th>min</th>\n",
       "      <td>1980.000000</td>\n",
       "      <td>0.000000</td>\n",
       "      <td>0.000000</td>\n",
       "      <td>0.000000</td>\n",
       "      <td>0.000000</td>\n",
       "      <td>13.000000</td>\n",
       "    </tr>\n",
       "    <tr>\n",
       "      <th>25%</th>\n",
       "      <td>2003.000000</td>\n",
       "      <td>0.000000</td>\n",
       "      <td>0.000000</td>\n",
       "      <td>0.000000</td>\n",
       "      <td>0.000000</td>\n",
       "      <td>60.000000</td>\n",
       "    </tr>\n",
       "    <tr>\n",
       "      <th>50%</th>\n",
       "      <td>2008.000000</td>\n",
       "      <td>0.080000</td>\n",
       "      <td>0.020000</td>\n",
       "      <td>0.000000</td>\n",
       "      <td>0.010000</td>\n",
       "      <td>71.000000</td>\n",
       "    </tr>\n",
       "    <tr>\n",
       "      <th>75%</th>\n",
       "      <td>2010.000000</td>\n",
       "      <td>0.240000</td>\n",
       "      <td>0.110000</td>\n",
       "      <td>0.040000</td>\n",
       "      <td>0.030000</td>\n",
       "      <td>79.000000</td>\n",
       "    </tr>\n",
       "    <tr>\n",
       "      <th>max</th>\n",
       "      <td>2016.000000</td>\n",
       "      <td>41.360000</td>\n",
       "      <td>28.960000</td>\n",
       "      <td>10.220000</td>\n",
       "      <td>10.570000</td>\n",
       "      <td>98.000000</td>\n",
       "    </tr>\n",
       "  </tbody>\n",
       "</table>\n",
       "</div>"
      ],
      "text/plain": [
       "       year_of_release      na_sales      eu_sales      jp_sales  \\\n",
       "count     16715.000000  16715.000000  16715.000000  16715.000000   \n",
       "mean       2006.509004      0.263377      0.145060      0.077617   \n",
       "std           5.832683      0.813604      0.503339      0.308853   \n",
       "min        1980.000000      0.000000      0.000000      0.000000   \n",
       "25%        2003.000000      0.000000      0.000000      0.000000   \n",
       "50%        2008.000000      0.080000      0.020000      0.000000   \n",
       "75%        2010.000000      0.240000      0.110000      0.040000   \n",
       "max        2016.000000     41.360000     28.960000     10.220000   \n",
       "\n",
       "        other_sales  critic_score  \n",
       "count  16715.000000   8137.000000  \n",
       "mean       0.047342     68.967679  \n",
       "std        0.186731     13.938165  \n",
       "min        0.000000     13.000000  \n",
       "25%        0.000000     60.000000  \n",
       "50%        0.010000     71.000000  \n",
       "75%        0.030000     79.000000  \n",
       "max       10.570000     98.000000  "
      ]
     },
     "execution_count": 19,
     "metadata": {},
     "output_type": "execute_result"
    }
   ],
   "source": [
    "data.describe()"
   ]
  },
  {
   "cell_type": "code",
   "execution_count": 20,
   "metadata": {},
   "outputs": [
    {
     "name": "stdout",
     "output_type": "stream",
     "text": [
      "71.0\n"
     ]
    }
   ],
   "source": [
    "print(data[\"critic_score\"].median())"
   ]
  },
  {
   "cell_type": "markdown",
   "metadata": {},
   "source": [
    "Para la columna Critic Score contengo el 51.3% de los datos sin información.\n",
    "Con un promedio de 68, minimo de 13, un máximo de 98 y una mediana de 71.\n",
    "Tanto la media como la mediana no tienen una gran diferencia entre ellos lo que es un buen indicador de que no existen valores atipicos. \n",
    "Se podría rellenar los valores ausentes con la media, pero esto podría afectar a que es un indicador falso sobre como ha sido evaluado el producto."
   ]
  },
  {
   "cell_type": "markdown",
   "metadata": {},
   "source": [
    "¿Por qué existen los valores que están ausentes? \n",
    "\n",
    "Analizando el data puede notar que los valores ausentes se presentan principalmente en video juegos que han sido lanzados hace más de 20 años, lo que es un factor común en casi todos aquellos videojuegos viejos, existen excepciones de video uegos recientes con valores ausentes, aunque la mayoría son de videojuegos del 2000 para atrás.\n",
    "\n",
    "Esto pudo suceder ya que la digitalización de los datos pudo afectar en la pérdida de dicha información por los años que han transcurrido y que probablemente la evaluación de los videojuegos en épocas pasados no erá tan sencilla como lo es de unos años para aca.\n",
    "\n",
    "En el caso de los videojuegos más actuales con datos ausentes más actuales pude deberse a una falla en el momento de capturar los datos o un error en el sistema que hizo que sta información se perdidera de nuestra data."
   ]
  },
  {
   "cell_type": "markdown",
   "metadata": {},
   "source": [
    "## Tratamiento de datos TBD (to be determined)"
   ]
  },
  {
   "cell_type": "markdown",
   "metadata": {},
   "source": [
    "Ante el problema ya identificado y el gran porcentaje de datos que contienen valores ausentes en las ultimas  columnas, he decidido no usar ni la media ni mediana para sustituir estos valores ausentes, ya que estaria colocando datos que pueden sesgar la infomación que tenemos, al sr el 50% de los datos no veo buena opción cambiar estos valores y tampoco deseo perder la información de estos vieo juegos, por los cual tampoco se elimiinaran estas filas.\n",
    "\n",
    "En su lugar colocaremos un -1 para identicar los valores ausentes para solo ignorar estas filas y poder trabajar los datos reales que se nos han sido porporcionados y poder hacer una proyección real para el negocio. Posteriormente los valores -1 deberan ser ignorados estrictamente.\n",
    "\n",
    "Esto garantiza el analisis de estos videojuegos en otras categorias que no sea la puntuación y evita sesgos de los datos en estas columnas.\n",
    "\n",
    "Para la columna User score podemos encontrar valores TBD, to be defined, los cuales nos dificultan convertir la columna a entero, para estos datos preferimos colocar un espacio vacío en vez de tbd en la columna y así poder tener un analisis más completo de los score de los juegos, esta decisión fue tomada con la finalidad de poder convertir la columna a int. Los datos TBD no son datos con los que contamos por el momento y para el analisis actual solo dificulta la tarea. No deseo perder la información pero si hacer la columna más manejable.\n"
   ]
  },
  {
   "cell_type": "code",
   "execution_count": 21,
   "metadata": {},
   "outputs": [],
   "source": [
    "#tratamiento de los valores TBD, con replpace tbd a espacio vacio\n",
    "data[\"user_score\"] = data[\"user_score\"].replace('tbd', -1)"
   ]
  },
  {
   "cell_type": "code",
   "execution_count": 22,
   "metadata": {},
   "outputs": [],
   "source": [
    "#se sustituyen los valores ausentes con TBD para conservar las filas\n",
    "data[\"user_score\"] = data [\"user_score\"].fillna(-1)"
   ]
  },
  {
   "cell_type": "code",
   "execution_count": 23,
   "metadata": {},
   "outputs": [],
   "source": [
    "#cambiar la columna user score a int\n",
    "data [\"user_score\"] = data [\"user_score\"].astype(\"float\")"
   ]
  },
  {
   "cell_type": "code",
   "execution_count": 24,
   "metadata": {},
   "outputs": [
    {
     "name": "stdout",
     "output_type": "stream",
     "text": [
      "<class 'pandas.core.frame.DataFrame'>\n",
      "RangeIndex: 16715 entries, 0 to 16714\n",
      "Data columns (total 11 columns):\n",
      " #   Column           Non-Null Count  Dtype  \n",
      "---  ------           --------------  -----  \n",
      " 0   name             16715 non-null  object \n",
      " 1   platform         16715 non-null  object \n",
      " 2   year_of_release  16715 non-null  int64  \n",
      " 3   genre            16715 non-null  object \n",
      " 4   na_sales         16715 non-null  float64\n",
      " 5   eu_sales         16715 non-null  float64\n",
      " 6   jp_sales         16715 non-null  float64\n",
      " 7   other_sales      16715 non-null  float64\n",
      " 8   critic_score     8137 non-null   float64\n",
      " 9   user_score       16715 non-null  float64\n",
      " 10  rating           9949 non-null   object \n",
      "dtypes: float64(6), int64(1), object(4)\n",
      "memory usage: 1.4+ MB\n"
     ]
    }
   ],
   "source": [
    "data.info()"
   ]
  },
  {
   "cell_type": "code",
   "execution_count": 25,
   "metadata": {},
   "outputs": [],
   "source": [
    "#se sustituyen los valores ausentes con espacio para conservar las filas\n",
    "data[\"critic_score\"] = data [\"critic_score\"].fillna(-1)"
   ]
  },
  {
   "cell_type": "code",
   "execution_count": 26,
   "metadata": {},
   "outputs": [],
   "source": [
    "#cabio el tipo de dato de critic score\n",
    "data [\"critic_score\"] = data [\"critic_score\"].astype(\"float\")"
   ]
  },
  {
   "cell_type": "code",
   "execution_count": 27,
   "metadata": {},
   "outputs": [],
   "source": [
    "#se sustituyen los valores ausentes con TBD para conservar las filas\n",
    "data[\"rating\"] = data [\"rating\"].fillna(\" \")"
   ]
  },
  {
   "cell_type": "code",
   "execution_count": 28,
   "metadata": {},
   "outputs": [
    {
     "name": "stdout",
     "output_type": "stream",
     "text": [
      "name               0\n",
      "platform           0\n",
      "year_of_release    0\n",
      "genre              0\n",
      "na_sales           0\n",
      "eu_sales           0\n",
      "jp_sales           0\n",
      "other_sales        0\n",
      "critic_score       0\n",
      "user_score         0\n",
      "rating             0\n",
      "dtype: int64\n"
     ]
    }
   ],
   "source": [
    "#manda a imprimir el data para visualizar que ya no tenemos valores ausentes en el data\n",
    "print(data.isna().sum())"
   ]
  },
  {
   "cell_type": "markdown",
   "metadata": {},
   "source": [
    "Ahora se creará una nueva columna donde se sumarán las ventas tanto de EU, JP, NA y otros paises para el analisis de cada videojuego posteriormente"
   ]
  },
  {
   "cell_type": "code",
   "execution_count": 29,
   "metadata": {},
   "outputs": [],
   "source": [
    "#Crear una nueva columna para sumar las 4 columnas de ventas a nivel mundial para cada juego\n",
    "data[\"total_sales\"] = data[\"na_sales\"] + data[\"eu_sales\"] + data[\"jp_sales\"] + data[\"other_sales\"]"
   ]
  },
  {
   "cell_type": "code",
   "execution_count": 30,
   "metadata": {},
   "outputs": [
    {
     "data": {
      "text/html": [
       "<div>\n",
       "<style scoped>\n",
       "    .dataframe tbody tr th:only-of-type {\n",
       "        vertical-align: middle;\n",
       "    }\n",
       "\n",
       "    .dataframe tbody tr th {\n",
       "        vertical-align: top;\n",
       "    }\n",
       "\n",
       "    .dataframe thead th {\n",
       "        text-align: right;\n",
       "    }\n",
       "</style>\n",
       "<table border=\"1\" class=\"dataframe\">\n",
       "  <thead>\n",
       "    <tr style=\"text-align: right;\">\n",
       "      <th></th>\n",
       "      <th>name</th>\n",
       "      <th>platform</th>\n",
       "      <th>year_of_release</th>\n",
       "      <th>genre</th>\n",
       "      <th>na_sales</th>\n",
       "      <th>eu_sales</th>\n",
       "      <th>jp_sales</th>\n",
       "      <th>other_sales</th>\n",
       "      <th>critic_score</th>\n",
       "      <th>user_score</th>\n",
       "      <th>rating</th>\n",
       "      <th>total_sales</th>\n",
       "    </tr>\n",
       "  </thead>\n",
       "  <tbody>\n",
       "    <tr>\n",
       "      <th>0</th>\n",
       "      <td>Wii Sports</td>\n",
       "      <td>Wii</td>\n",
       "      <td>2006</td>\n",
       "      <td>Sports</td>\n",
       "      <td>41.36</td>\n",
       "      <td>28.96</td>\n",
       "      <td>3.77</td>\n",
       "      <td>8.45</td>\n",
       "      <td>76.0</td>\n",
       "      <td>8.0</td>\n",
       "      <td>E</td>\n",
       "      <td>82.54</td>\n",
       "    </tr>\n",
       "    <tr>\n",
       "      <th>1</th>\n",
       "      <td>Super Mario Bros.</td>\n",
       "      <td>NES</td>\n",
       "      <td>1985</td>\n",
       "      <td>Platform</td>\n",
       "      <td>29.08</td>\n",
       "      <td>3.58</td>\n",
       "      <td>6.81</td>\n",
       "      <td>0.77</td>\n",
       "      <td>-1.0</td>\n",
       "      <td>-1.0</td>\n",
       "      <td></td>\n",
       "      <td>40.24</td>\n",
       "    </tr>\n",
       "    <tr>\n",
       "      <th>2</th>\n",
       "      <td>Mario Kart Wii</td>\n",
       "      <td>Wii</td>\n",
       "      <td>2008</td>\n",
       "      <td>Racing</td>\n",
       "      <td>15.68</td>\n",
       "      <td>12.76</td>\n",
       "      <td>3.79</td>\n",
       "      <td>3.29</td>\n",
       "      <td>82.0</td>\n",
       "      <td>8.3</td>\n",
       "      <td>E</td>\n",
       "      <td>35.52</td>\n",
       "    </tr>\n",
       "    <tr>\n",
       "      <th>3</th>\n",
       "      <td>Wii Sports Resort</td>\n",
       "      <td>Wii</td>\n",
       "      <td>2009</td>\n",
       "      <td>Sports</td>\n",
       "      <td>15.61</td>\n",
       "      <td>10.93</td>\n",
       "      <td>3.28</td>\n",
       "      <td>2.95</td>\n",
       "      <td>80.0</td>\n",
       "      <td>8.0</td>\n",
       "      <td>E</td>\n",
       "      <td>32.77</td>\n",
       "    </tr>\n",
       "    <tr>\n",
       "      <th>4</th>\n",
       "      <td>Pokemon Red/Pokemon Blue</td>\n",
       "      <td>GB</td>\n",
       "      <td>1996</td>\n",
       "      <td>Role-Playing</td>\n",
       "      <td>11.27</td>\n",
       "      <td>8.89</td>\n",
       "      <td>10.22</td>\n",
       "      <td>1.00</td>\n",
       "      <td>-1.0</td>\n",
       "      <td>-1.0</td>\n",
       "      <td></td>\n",
       "      <td>31.38</td>\n",
       "    </tr>\n",
       "  </tbody>\n",
       "</table>\n",
       "</div>"
      ],
      "text/plain": [
       "                       name platform  year_of_release         genre  na_sales  \\\n",
       "0                Wii Sports      Wii             2006        Sports     41.36   \n",
       "1         Super Mario Bros.      NES             1985      Platform     29.08   \n",
       "2            Mario Kart Wii      Wii             2008        Racing     15.68   \n",
       "3         Wii Sports Resort      Wii             2009        Sports     15.61   \n",
       "4  Pokemon Red/Pokemon Blue       GB             1996  Role-Playing     11.27   \n",
       "\n",
       "   eu_sales  jp_sales  other_sales  critic_score  user_score rating  \\\n",
       "0     28.96      3.77         8.45          76.0         8.0      E   \n",
       "1      3.58      6.81         0.77          -1.0        -1.0          \n",
       "2     12.76      3.79         3.29          82.0         8.3      E   \n",
       "3     10.93      3.28         2.95          80.0         8.0      E   \n",
       "4      8.89     10.22         1.00          -1.0        -1.0          \n",
       "\n",
       "   total_sales  \n",
       "0        82.54  \n",
       "1        40.24  \n",
       "2        35.52  \n",
       "3        32.77  \n",
       "4        31.38  "
      ]
     },
     "execution_count": 30,
     "metadata": {},
     "output_type": "execute_result"
    }
   ],
   "source": [
    "#muestra nuevamente el data para confirmar la crecaión de la nueva columna\n",
    "data.head()"
   ]
  },
  {
   "cell_type": "markdown",
   "metadata": {},
   "source": [
    "# Análisis de datos"
   ]
  },
  {
   "cell_type": "markdown",
   "metadata": {},
   "source": [
    "Primero analizaremos la creación de los videojuegos atraves del tiempo para comprender el crecimiento de la industria a inicios del S XXI y su evolución con el paso de los años "
   ]
  },
  {
   "cell_type": "code",
   "execution_count": 31,
   "metadata": {},
   "outputs": [
    {
     "data": {
      "image/png": "[encoded data removed]",
      "text/plain": [
       "<Figure size 640x480 with 1 Axes>"
      ]
     },
     "metadata": {},
     "output_type": "display_data"
    }
   ],
   "source": [
    "#Se agrupa por años de lanzamiento para ver el crecimiento de los videojuegos atraves del tiempo\n",
    "games_by_year=data.groupby(\"year_of_release\")[\"year_of_release\"].count()\n",
    "\n",
    "#Se crea un gráfico de barras para mejor visualización de los datos agrupados\n",
    "games_by_year.plot(x=\"year_of_release\", kind=\"bar\", xlabel= \"Lanzamientos de videojuegos por año\",\n",
    "                   ylabel=\"Cantidad de videojuegos lanzados\",\n",
    "                   title=\"Crecimiento del lanzamiento de videojuegos a traves de los años\", \n",
    "                   color=\"pink\")\n",
    "plt.show()"
   ]
  },
  {
   "cell_type": "markdown",
   "metadata": {},
   "source": [
    "¿Son significativos los datos de cada período?\n",
    "\n",
    "Podemos observar como a inicios de los 90s era muy bajo y constante, a partir de 1994 inicia un crecimiento exponencial donde 13 años después (2007) había aumentado 300% más el número de lanzamientos por año.\n",
    "Pero solo inciando una disminución drástica a partir del 2009, teniendo su punto más bajo en 2013 abajo del 50% de los lanzamientos.\n",
    "Aunque aparir de ese año los lanzamientos se estabilizarón no han tenido un aumento desde ese año, hasta el año actual (2016).\n"
   ]
  },
  {
   "cell_type": "markdown",
   "metadata": {},
   "source": [
    "\n",
    "Ahora analizaremos cómo varían las ventas de una plataforma a otra. Comparando entre ellas la venta total lograda para tener el impacto mundial del video juego.\n",
    "\n",
    "Asi posteriormente con esta información elegir las plataformas con las mayores ventas totales y construire una distribución basada en los datos de cada año."
   ]
  },
  {
   "cell_type": "code",
   "execution_count": 32,
   "metadata": {},
   "outputs": [
    {
     "name": "stdout",
     "output_type": "stream",
     "text": [
      "count      37.000000\n",
      "mean      451.756757\n",
      "std       469.619728\n",
      "min         9.000000\n",
      "25%        36.000000\n",
      "50%       338.000000\n",
      "75%       762.000000\n",
      "max      1696.000000\n",
      "Name: year_of_release, dtype: float64\n"
     ]
    }
   ],
   "source": [
    "print(games_by_year.describe())"
   ]
  },
  {
   "cell_type": "code",
   "execution_count": 33,
   "metadata": {},
   "outputs": [
    {
     "data": {
      "image/png": "[encoded data removed]",
      "text/plain": [
       "<Figure size 640x480 with 1 Axes>"
      ]
     },
     "metadata": {},
     "output_type": "display_data"
    }
   ],
   "source": [
    "#Se agrupa por vents totales y plataforma de lanzamiento para su analisis.\n",
    "sales_vs_platform=data.groupby(\"platform\")[\"total_sales\"].count()\n",
    "\n",
    "#Se crea un gráfico de barras para mejor visualización de los datos agrupados\n",
    "sales_vs_platform.plot(x=\"platform\", kind=\"bar\", xlabel= \"Plataforma de lanzamiento\",\n",
    "                   ylabel=\"Ventas totales generadas a nivel mundial\",\n",
    "                   title=\"Ventas generadas por plataforma\", \n",
    "                   color=\"orange\")\n",
    "plt.show()"
   ]
  },
  {
   "cell_type": "markdown",
   "metadata": {},
   "source": [
    "Se escogeran las 5 plataformas más populares según sus ventas para su análisis:\n",
    "\n",
    "-DS\n",
    "\n",
    "-PS2\n",
    "\n",
    "-PS3\n",
    "\n",
    "-WII\n",
    "\n",
    "-X360\n",
    "\n",
    "Ya con las plataformas a trabajar se construirá una distribución basada en los datos de cada año de sus ventas y analizar que ha pasado con dichas plataformas en los últimos años."
   ]
  },
  {
   "cell_type": "code",
   "execution_count": 34,
   "metadata": {
    "scrolled": true
   },
   "outputs": [
    {
     "data": {
      "image/png": "[encoded data removed]",
      "text/plain": [
       "<Figure size 640x480 with 1 Axes>"
      ]
     },
     "metadata": {},
     "output_type": "display_data"
    }
   ],
   "source": [
    "# ¿Cuánto tardan generalmente las nuevas plataformas en aparecer y las antiguas en desaparecer?\n",
    "\n",
    "#Se construye una distribución basada en los datos por año de sus ventas totales\n",
    "# Comparan las 5 plataformas seleccionadas y sus ventas con un histograma.\n",
    "#se filtra cada plataforma con las ventas totales\n",
    "data[data[\"platform\"]== \"DS\"].groupby([\"year_of_release\", \"total_sales\"])[\"year_of_release\"].sum().plot(kind= \"hist\", bins=25, alpha=0.8, color= \"aqua\")\n",
    "data[data[\"platform\"]== \"PS2\"].groupby([\"year_of_release\", \"total_sales\"])[\"year_of_release\"].sum().plot(kind= \"hist\", bins=25, alpha=0.8, color= \"violet\")\n",
    "data[data[\"platform\"]== \"PS3\"].groupby([\"year_of_release\", \"total_sales\"])[\"year_of_release\"].sum().plot(kind= \"hist\", bins=25, alpha=0.8, color= \"olive\")\n",
    "data[data[\"platform\"]== \"Wii\"].groupby([\"year_of_release\", \"total_sales\"])[\"year_of_release\"].sum().plot(kind= \"hist\", bins=25, alpha=0.9, color= \"orange\")\n",
    "data[data[\"platform\"]== \"X360\"].groupby([\"year_of_release\", \"total_sales\"])[\"year_of_release\"].sum().plot(kind= \"hist\", bins=25, alpha=0.8, color= \"yellow\")\n",
    "\n",
    "#añade informacion al gráfico para mejor visualización\n",
    "plt.title(\"Cuanto tardan las plataformas en aparecer y desaparecer del mercado\")\n",
    "plt.legend([\"DS\",\"PS2\", \"PS3\", \"Wii\", \"X360\"])\n",
    "plt.xlabel(\"Año de lanzamiento\")\n",
    "plt.ylabel(\"Ventas por año\")\n",
    "plt.show()"
   ]
  },
  {
   "cell_type": "markdown",
   "metadata": {},
   "source": [
    "Basado en los analisis pasados podemos determinar que para el modelo buscado para el 2017, tomaremos en cuenta de la media en adelante, esto ya que la media que inicia en 2008 que el punto más grande de ventas registrado en la historia hasta el momento y aunque ha disminuido es un buen punto partida, ya que buscamos comparar los años siguientes hasta la actualidad (2016) para lograr con tener el mejor analisis de como ha cambiando los video juegos y hacer una correcta proyección para las vetas del siguiente año."
   ]
  },
  {
   "cell_type": "markdown",
   "metadata": {},
   "source": [
    "Es por eso que hemos decidido ignorar los datos del año 2008 hacia atrás en los siguientes analisis.\n",
    "Apartir de este momento solo visualiaremos los datos de nustras 5 plataformas con mejores ventas ya definidas anteriormenete (DS, PS2, PS3, WII,X360)  en los años seleccionados."
   ]
  },
  {
   "cell_type": "code",
   "execution_count": 35,
   "metadata": {},
   "outputs": [
    {
     "data": {
      "image/png": "[encoded data removed]",
      "text/plain": [
       "<Figure size 640x480 with 1 Axes>"
      ]
     },
     "metadata": {},
     "output_type": "display_data"
    }
   ],
   "source": [
    "#se crea un filtro para seleccionar los videojuegos y del año 2008 en adelante\n",
    "select_platforms= [\"PS2\", \"PS3\", \"DS\", \"Wii\", \"X360\"]\n",
    "\n",
    "\n",
    "select= data[(data[\"year_of_release\"] >= 2008) & (data [\"platform\"].isin(select_platforms))]\n",
    "\n",
    "#agrupar por plataformas y años y suma y ventas totales\n",
    "final_select= select.groupby([\"year_of_release\", \"platform\"])[\"total_sales\"].sum()\n",
    "\n",
    "#Se crea un gráfico de barras para mejor visualización de los datos agrupados\n",
    "final_select.plot(x=\"year_of_release\", kind=\"bar\", xlabel= \"Plataorma por año de lanzamiento\",\n",
    "                   ylabel=\"Suma de las ventas anueles\",\n",
    "                   title=\"Ventas generadas por plataforma en los últimos 8 años\", \n",
    "                   color=\"hotpink\")\n",
    "\n",
    "plt.show()"
   ]
  },
  {
   "cell_type": "markdown",
   "metadata": {},
   "source": [
    "Como podemos observar aunque el 2008 fue un gran año para las ventas de video juegos las ventas cayeron drásticamente para todas las plataformas logrando sobevivir únicamente PS3 Y X360 del 2014 para el año 2016.\n",
    "\n",
    "¿Cuáles crecen y cuáles se reducen? \n",
    "Aunque ninguna plataforma tuvo un gran crecimeinto en los últimos años de nuestras 5 plataormas con más ventas lás que mejores ventas logran tener hasta 2014 fueron PS3 Y X360.\n",
    "Del 2008 al 2013 desaparecieron las centan de las plataformas DS, PS2 Y WII\n",
    "\n",
    "Las plataformas más rentables hasta el momento basado en ventas  existencia actual son la plataforma XBOX 360  PS3, que aunque sus ventas disminuyeron drásticamente en los últimos 2 años Elige varias plataformas potencialmente rentables."
   ]
  },
  {
   "cell_type": "code",
   "execution_count": 36,
   "metadata": {},
   "outputs": [
    {
     "data": {
      "image/png": "[encoded data removed]",
      "text/plain": [
       "<Figure size 1000x2000 with 1 Axes>"
      ]
     },
     "metadata": {},
     "output_type": "display_data"
    }
   ],
   "source": [
    "# Traza un diagrama de caja para visualizar las ventas globales de los video juegos, desglosados por plataforma.\n",
    "\n",
    "#filtro para solo graficar las plataormas seleccionadas\n",
    "plataformas = data[data[\"platform\"].isin([\"PS2\", \"PS3\", \"DS\", \"X360\", \"Wii\"])] \n",
    "\n",
    "\n",
    "fig = plt.figure(figsize =(10, 20))\n",
    "\n",
    "#creacion de la grafica de caja\n",
    "sns.boxplot(data= plataformas, \n",
    "            x=\"platform\", y=\"total_sales\", color=\"pink\")\n",
    "\n",
    "plt.title(\"Caja para cada plataforma y sus ventas totales\")\n",
    "plt.show()"
   ]
  },
  {
   "cell_type": "code",
   "execution_count": 37,
   "metadata": {},
   "outputs": [
    {
     "data": {
      "text/html": [
       "<div>\n",
       "<style scoped>\n",
       "    .dataframe tbody tr th:only-of-type {\n",
       "        vertical-align: middle;\n",
       "    }\n",
       "\n",
       "    .dataframe tbody tr th {\n",
       "        vertical-align: top;\n",
       "    }\n",
       "\n",
       "    .dataframe thead th {\n",
       "        text-align: right;\n",
       "    }\n",
       "</style>\n",
       "<table border=\"1\" class=\"dataframe\">\n",
       "  <thead>\n",
       "    <tr style=\"text-align: right;\">\n",
       "      <th></th>\n",
       "      <th>name</th>\n",
       "      <th>platform</th>\n",
       "      <th>year_of_release</th>\n",
       "      <th>genre</th>\n",
       "      <th>na_sales</th>\n",
       "      <th>eu_sales</th>\n",
       "      <th>jp_sales</th>\n",
       "      <th>other_sales</th>\n",
       "      <th>critic_score</th>\n",
       "      <th>user_score</th>\n",
       "      <th>rating</th>\n",
       "      <th>total_sales</th>\n",
       "    </tr>\n",
       "  </thead>\n",
       "  <tbody>\n",
       "    <tr>\n",
       "      <th>0</th>\n",
       "      <td>Wii Sports</td>\n",
       "      <td>Wii</td>\n",
       "      <td>2006</td>\n",
       "      <td>Sports</td>\n",
       "      <td>41.36</td>\n",
       "      <td>28.96</td>\n",
       "      <td>3.77</td>\n",
       "      <td>8.45</td>\n",
       "      <td>76.0</td>\n",
       "      <td>8.0</td>\n",
       "      <td>E</td>\n",
       "      <td>82.54</td>\n",
       "    </tr>\n",
       "    <tr>\n",
       "      <th>1</th>\n",
       "      <td>Super Mario Bros.</td>\n",
       "      <td>NES</td>\n",
       "      <td>1985</td>\n",
       "      <td>Platform</td>\n",
       "      <td>29.08</td>\n",
       "      <td>3.58</td>\n",
       "      <td>6.81</td>\n",
       "      <td>0.77</td>\n",
       "      <td>-1.0</td>\n",
       "      <td>-1.0</td>\n",
       "      <td></td>\n",
       "      <td>40.24</td>\n",
       "    </tr>\n",
       "    <tr>\n",
       "      <th>2</th>\n",
       "      <td>Mario Kart Wii</td>\n",
       "      <td>Wii</td>\n",
       "      <td>2008</td>\n",
       "      <td>Racing</td>\n",
       "      <td>15.68</td>\n",
       "      <td>12.76</td>\n",
       "      <td>3.79</td>\n",
       "      <td>3.29</td>\n",
       "      <td>82.0</td>\n",
       "      <td>8.3</td>\n",
       "      <td>E</td>\n",
       "      <td>35.52</td>\n",
       "    </tr>\n",
       "    <tr>\n",
       "      <th>3</th>\n",
       "      <td>Wii Sports Resort</td>\n",
       "      <td>Wii</td>\n",
       "      <td>2009</td>\n",
       "      <td>Sports</td>\n",
       "      <td>15.61</td>\n",
       "      <td>10.93</td>\n",
       "      <td>3.28</td>\n",
       "      <td>2.95</td>\n",
       "      <td>80.0</td>\n",
       "      <td>8.0</td>\n",
       "      <td>E</td>\n",
       "      <td>32.77</td>\n",
       "    </tr>\n",
       "    <tr>\n",
       "      <th>4</th>\n",
       "      <td>Pokemon Red/Pokemon Blue</td>\n",
       "      <td>GB</td>\n",
       "      <td>1996</td>\n",
       "      <td>Role-Playing</td>\n",
       "      <td>11.27</td>\n",
       "      <td>8.89</td>\n",
       "      <td>10.22</td>\n",
       "      <td>1.00</td>\n",
       "      <td>-1.0</td>\n",
       "      <td>-1.0</td>\n",
       "      <td></td>\n",
       "      <td>31.38</td>\n",
       "    </tr>\n",
       "  </tbody>\n",
       "</table>\n",
       "</div>"
      ],
      "text/plain": [
       "                       name platform  year_of_release         genre  na_sales  \\\n",
       "0                Wii Sports      Wii             2006        Sports     41.36   \n",
       "1         Super Mario Bros.      NES             1985      Platform     29.08   \n",
       "2            Mario Kart Wii      Wii             2008        Racing     15.68   \n",
       "3         Wii Sports Resort      Wii             2009        Sports     15.61   \n",
       "4  Pokemon Red/Pokemon Blue       GB             1996  Role-Playing     11.27   \n",
       "\n",
       "   eu_sales  jp_sales  other_sales  critic_score  user_score rating  \\\n",
       "0     28.96      3.77         8.45          76.0         8.0      E   \n",
       "1      3.58      6.81         0.77          -1.0        -1.0          \n",
       "2     12.76      3.79         3.29          82.0         8.3      E   \n",
       "3     10.93      3.28         2.95          80.0         8.0      E   \n",
       "4      8.89     10.22         1.00          -1.0        -1.0          \n",
       "\n",
       "   total_sales  \n",
       "0        82.54  \n",
       "1        40.24  \n",
       "2        35.52  \n",
       "3        32.77  \n",
       "4        31.38  "
      ]
     },
     "execution_count": 37,
     "metadata": {},
     "output_type": "execute_result"
    }
   ],
   "source": [
    "#saca el zscore para filtrar los valores atípicos del data en la columna total_sales\n",
    "\n",
    "z_score = st.zscore(data['total_sales']) #saca zscore de la columna totales sales\n",
    "abs_z_score = np.abs(z_score)\n",
    "outliers = data[abs_z_score > 3] #se filtra a 3 desviaciones\n",
    "outliers.head()"
   ]
  },
  {
   "cell_type": "code",
   "execution_count": 38,
   "metadata": {},
   "outputs": [
    {
     "data": {
      "image/png": "[encoded data removed]",
      "text/plain": [
       "<Figure size 1000x1000 with 1 Axes>"
      ]
     },
     "metadata": {},
     "output_type": "display_data"
    }
   ],
   "source": [
    "# Traza nuevamente un diagrama de caja para visualizar las ventas globales de los video juegos, \n",
    "#ya con los datos atipicos eliminadoses.\n",
    "\n",
    "#filtro con el data filtrado para solo gráficar las plataformas seleccionadas\n",
    "platafor_filtro = outliers[outliers[\"platform\"].isin([\"PS2\", \"PS3\", \"DS\", \"X360\", \"Wii\"])] \n",
    "\n",
    "\n",
    "fig = plt.figure(figsize =(10, 10))\n",
    "\n",
    "#creacion de la grafica de caja\n",
    "sns.boxplot(data= platafor_filtro, \n",
    "            x=\"platform\", y=\"total_sales\", color=\"pink\")\n",
    "\n",
    "plt.title(\"Caja para cada plataforma y sus ventas totales\")\n",
    "plt.show()"
   ]
  },
  {
   "cell_type": "markdown",
   "metadata": {},
   "source": [
    "¿Son significativas las diferencias en las ventas? \n",
    "En este diagrama podemos observar que en gneral las cajas del X360, PS Y PS2 Sson muy parecidas, pero Wii y Ds son menores, el problema radica en los valores atipicos que esta presentando sobre todo wii para tener un gráfico más claro, debemos evaluar los valores y pensar si se pueden eliminar para una mejor visulaización de la gráfica.\n",
    "\n",
    "¿Qué sucede con las ventas promedio en varias plataformas? \n",
    "Las ventas para los 5 juegos seleccionados son las mejores ventas que se tienen de todas las plataformas, el problema en todas radica en la cantidad de ventas atipicas muyy altas que se realizaron de ciertas plataformas lo que sesga el analisis objetivo de nuestras plataformas, se debe evaluar que hacer con dichos valores para tener un analisis más detallado sobre las ventas de nuestra top 5 de plataformas."
   ]
  },
  {
   "cell_type": "markdown",
   "metadata": {},
   "source": [
    "Ahora analizaremos como las reseñas de los usaurios y los profesionales han afectado a la plataforma que considermos la más importante basado en los analisis anteriores- PS2.\n",
    "\n",
    "*Recordemos que el 50% de los datos de estas columnas no están disponibles y se encontrarán con datos -1 por lo que analizaremos esta plataforma solo con los datos positivos, esto para considerar que la muestra será mucho menor."
   ]
  },
  {
   "cell_type": "code",
   "execution_count": 39,
   "metadata": {},
   "outputs": [],
   "source": [
    "#se crea una nueva columna sumando ambas columnas de evaluación para su analisis general\n",
    "data[\"total_score\"]= data[\"user_score\"] + data[\"critic_score\"]"
   ]
  },
  {
   "cell_type": "code",
   "execution_count": 40,
   "metadata": {},
   "outputs": [
    {
     "data": {
      "image/png": "[encoded data removed]",
      "text/plain": [
       "<Figure size 640x480 with 1 Axes>"
      ]
     },
     "metadata": {},
     "output_type": "display_data"
    }
   ],
   "source": [
    "# Se crea un gráfico de dispersión y calcula la correlación entre las reseñas y las ventas. \n",
    "\n",
    "#Se filtra por reseñas y solo videojuegos de la plataforma PS2\n",
    "sales_ps=data[data[\"platform\"]== \"PS2\"]\n",
    "               \n",
    "               \n",
    "#Se crea un gráfico de barras para mejor visualización de los datos agrupados\n",
    "sales_ps.plot( x=\"total_score\", y=\"total_sales\", kind=\"scatter\", xlabel= \"reseñas\", ylabel=\"total de ventas\",\n",
    "            title=\"Gráfico de dispersión para entender el impacto de las reseñas en los videojuegos\", color=\"hotpink\")\n",
    "               \n",
    "plt.show()"
   ]
  },
  {
   "cell_type": "markdown",
   "metadata": {},
   "source": [
    "Antes de empezar los puntos situados en el 0 serán datos ignorados ya que recordemos fue un valor colcado para sustituir los valores ausentes en el data.\n",
    "\n",
    "Podemos observar como si hay una relación entre mayor es la puntuacion de nuestros juego mayores ventas se ven registradas, influyendo en los reseñas directamnete en las ventas de nuestros bideo juegos en la plataforma PS2."
   ]
  },
  {
   "cell_type": "code",
   "execution_count": 41,
   "metadata": {},
   "outputs": [
    {
     "data": {
      "image/png": "[encoded data removed]",
      "text/plain": [
       "<Figure size 640x480 with 1 Axes>"
      ]
     },
     "metadata": {},
     "output_type": "display_data"
    }
   ],
   "source": [
    "# Analizaremos la distribución general de los juegos por género.\n",
    "sales_by_genre=data.groupby(\"genre\")[\"total_sales\"].count()\n",
    "\n",
    "#Se crea un gráfico de barras para mejor visualización de los datos\n",
    "sales_by_genre.plot( x=\"genre\", y=\"total_sales\", kind=\"bar\", xlabel= \"generó\", ylabel=\"total de ventas\",\n",
    "            title=\"Gráfico de barras sobre el impacto del género y las ventas en los videojuegos\", color=\"hotpink\")\n",
    "               \n",
    "plt.show()\n"
   ]
  },
  {
   "cell_type": "markdown",
   "metadata": {},
   "source": [
    "Los generos más rentables a nivel mundial son Acción, Sports, Misc, Role- Playing principalmente.\n",
    "\n",
    "No encuentro alguna relación o patron sobre el grupo de generos que producen mayores ventas a los que producen menos ventas. \n",
    "Tendría que conocer más a fondo de forma general de que trata cada genero para entender si existe un patron evidene ante dicha información y como es que se relaciona con las ventas a nivel mundial."
   ]
  },
  {
   "cell_type": "markdown",
   "metadata": {},
   "source": [
    "# Perfil de usuario por región "
   ]
  },
  {
   "cell_type": "markdown",
   "metadata": {},
   "source": [
    "En la siguiente sección analizaremos como los juegos tienen ventas e impactos diferentes dependiendo las diferentes regiones del mundo donde fue vendido. \n",
    "\n",
    "Esto nos dará mayor información sobre las preferencias dependiendo el contienento donde se vende y el impacto en las ventas.\n",
    "\n",
    "Analizaremos las 3 regiones principales proporcionadas por el data NA (Norte America), UE (Europa) y JP (Japón)"
   ]
  },
  {
   "cell_type": "markdown",
   "metadata": {},
   "source": [
    "Las siguientes 3 gráficas nos mostrarán las principales pataformas de usa dependiendo la región"
   ]
  },
  {
   "cell_type": "code",
   "execution_count": 42,
   "metadata": {},
   "outputs": [
    {
     "data": {
      "image/png": "[encoded data removed]",
      "text/plain": [
       "<Figure size 640x480 with 1 Axes>"
      ]
     },
     "metadata": {},
     "output_type": "display_data"
    }
   ],
   "source": [
    "# se agrupa por plataformas para japón\n",
    "jp_genre= data.groupby([\"platform\"])[\"jp_sales\"].count()\n",
    "\n",
    "#Se crea un gráfico de barras para mejor visualización de los datos agrupados\n",
    "jp_genre.plot(x=\"platform\", kind=\"bar\", xlabel= \"platarfomas\",\n",
    "        title=\"Gráfico de barras para concer las plataformas favoritas de videojuegos en japón\", \n",
    "        color=\"orange\")\n",
    "plt.show() #muestra la gráfica"
   ]
  },
  {
   "cell_type": "code",
   "execution_count": 43,
   "metadata": {},
   "outputs": [
    {
     "data": {
      "image/png": "[encoded data removed]",
      "text/plain": [
       "<Figure size 640x480 with 1 Axes>"
      ]
     },
     "metadata": {},
     "output_type": "display_data"
    }
   ],
   "source": [
    "# se agrupa por plataformas para Norte America\n",
    "na_genre= data.groupby([\"platform\"])[\"na_sales\"].count()\n",
    "\n",
    "#Se crea un gráfico de barras para mejor visualización de los datos agrupados\n",
    "na_genre.plot(x=\"platform\", kind=\"bar\", xlabel= \"plataformas\",\n",
    "        title=\"Gráfico de barras para concer las plataformas favoritas de videojuegos en Norte America\", \n",
    "        color=\"hotpink\")\n",
    "plt.show() #muestra la gráfica"
   ]
  },
  {
   "cell_type": "code",
   "execution_count": 44,
   "metadata": {},
   "outputs": [
    {
     "data": {
      "image/png": "[encoded data removed]",
      "text/plain": [
       "<Figure size 640x480 with 1 Axes>"
      ]
     },
     "metadata": {},
     "output_type": "display_data"
    }
   ],
   "source": [
    "# se agrupa por plataformas para europa\n",
    "eu_genre= data.groupby([\"platform\"])[\"eu_sales\"].count()\n",
    "\n",
    "#Se crea un gráfico de barras para mejor visualización de los datos agrupados\n",
    "eu_genre.plot(x=\"platform\", kind=\"bar\", xlabel= \"plataformas\",\n",
    "        title=\"Gráfico de barras para concer las plataformas favoritas de videojuegos en europa\", \n",
    "        color=\"aqua\")\n",
    "plt.show() #muestra la gráfica"
   ]
  },
  {
   "cell_type": "markdown",
   "metadata": {},
   "source": [
    "#Describe las variaciones en sus cuotas de mercado de una región a otra\n",
    "Analizando los resultados en las gráficas, las 3 regiones coinciden con las plataformas de uso más populares.\n",
    "Las 3 plataformas coincien con su mayor uso en la plataforma, DS, PS2 y Wii.\n",
    "Japon tiene preferencia con PS, y Europa y Norte America tienen preferencia con Xbox 360.\n",
    "\n",
    "Esto nos puede hablar de la popularidad de estas plataformas a nivel mundial, se tendría que analia a fondo las diferencecias entre plataformas por las cuales las  regiones más importantes a nivel mundial prefieren las mismas plataromas, generando las mejores ventas en todas las plataformas al mismo nivel en cada plataforma."
   ]
  },
  {
   "cell_type": "markdown",
   "metadata": {},
   "source": [
    "Ahora analizaremos cada región y los generos principales para conocer los gustos por continente "
   ]
  },
  {
   "cell_type": "code",
   "execution_count": 45,
   "metadata": {},
   "outputs": [
    {
     "data": {
      "image/png": "[encoded data removed]",
      "text/plain": [
       "<Figure size 640x480 with 1 Axes>"
      ]
     },
     "metadata": {},
     "output_type": "display_data"
    }
   ],
   "source": [
    "# se agrupa por genero para japón\n",
    "jp_genre= data.groupby([\"genre\"])[\"jp_sales\"].count()\n",
    "\n",
    "#Se crea un gráfico de barras para mejor visualización de los datos agrupados\n",
    "jp_genre.plot(x=\"genre\", kind=\"bar\", xlabel= \"generos\",\n",
    "        title=\"Gráfico de barras para concer los generos favoritos de videojuegos en japón\", \n",
    "        color=\"orange\")\n",
    "plt.show()"
   ]
  },
  {
   "cell_type": "code",
   "execution_count": 46,
   "metadata": {},
   "outputs": [
    {
     "data": {
      "image/png": "[encoded data removed]",
      "text/plain": [
       "<Figure size 640x480 with 1 Axes>"
      ]
     },
     "metadata": {},
     "output_type": "display_data"
    }
   ],
   "source": [
    "# se agrupa por genero para norte america\n",
    "na_genre= data.groupby([\"genre\"])[\"na_sales\"].count()\n",
    "\n",
    "#Se crea un gráfico de barras para mejor visualización de los datos agrupados\n",
    "na_genre.plot(x=\"genre\", kind=\"bar\", xlabel= \"generos\",\n",
    "        title=\"Gráfico de barras para concer los generos favoritos de videojuegos en Norte America\", \n",
    "        color=\"hotpink\")\n",
    "plt.show()"
   ]
  },
  {
   "cell_type": "code",
   "execution_count": 47,
   "metadata": {},
   "outputs": [
    {
     "data": {
      "image/png": "[encoded data removed]",
      "text/plain": [
       "<Figure size 640x480 with 1 Axes>"
      ]
     },
     "metadata": {},
     "output_type": "display_data"
    }
   ],
   "source": [
    "# se agrupa por genero para europa\n",
    "eu_genre= data.groupby([\"genre\"])[\"eu_sales\"].count()\n",
    "\n",
    "#Se crea un gráfico de barras para mejor visualización de los datos agrupados\n",
    "eu_genre.plot(x=\"genre\", kind=\"bar\", xlabel= \"generos\",\n",
    "        title=\"Gráfico de barras para concer los generos favoritos de videojuegos en europa\", \n",
    "        color=\"aqua\")\n",
    "plt.show()"
   ]
  },
  {
   "cell_type": "markdown",
   "metadata": {},
   "source": [
    "Es intresante analizar todas las gráficas y darnos cuenta que en todas las regiones los generos que predominan en su totalidad son Action, Sports y Misc.\n",
    "Por regiones se esperaria que los generos busados pueden ser difernetes, pero la poblacon en general sin importar la localizacion geografica estan buscando los mismos juegos para su consumo.\n",
    "Esto lo sabemos ya que se tomo en cuenta para estas graficas las ventas en cada region generadas."
   ]
  },
  {
   "cell_type": "markdown",
   "metadata": {},
   "source": [
    "# Prueba de hipótesis"
   ]
  },
  {
   "cell_type": "markdown",
   "metadata": {},
   "source": [
    "Pondremos a prueba las siguientes 2 hipótesis a las cuales pondremos a prueba mediante las pruebas corrspondientes para determinar si podemos aceptarlas o no en el caso de cada una:"
   ]
  },
  {
   "cell_type": "markdown",
   "metadata": {},
   "source": [
    "#hipotesis a analizar\n",
    "\n",
    "\n",
    "Ho:\n",
    "Las calificaciones promedio de los usuarios para las plataformas Xbox One y PC son las mismas.\n",
    "\n",
    "H1:\n",
    "Las calificaciones promedio de los usuarios para las plataformas Xbox One no PC son las mismas.\n",
    "\n",
    "\n",
    "Alpha= 0.05"
   ]
  },
  {
   "cell_type": "code",
   "execution_count": 51,
   "metadata": {},
   "outputs": [
    {
     "name": "stdout",
     "output_type": "stream",
     "text": [
      "Valor p: 1.3896435533548819e-05\n",
      "Se rechaza la Ho\n"
     ]
    }
   ],
   "source": [
    "# Prueba las hipótesis\n",
    "# Separar los datos por plan para su analisis\n",
    "#se haceun segundo filtro para usar solo los valores iguales o mayor a 0 para eliminar los datos -1 colocados anteriormente\n",
    "xboxone = data[(data['platform'] == 'XOne') & ( data [\"user_score\"] >= 0)][\"user_score\"] \n",
    "pc = data[( data['platform'] == 'PC') & ( data [\"user_score\"] >= 0)][\"user_score\"]\n",
    "\n",
    "#coloca un nivel de significancia estadistica critica del 5%\n",
    "alpha= 0.05\n",
    "\n",
    "#mostar resultados\n",
    "results=st.ttest_ind(xboxone, pc)\n",
    "\n",
    "#imrime el valor p\n",
    "print(\"Valor p:\", results.pvalue)\n",
    "\n",
    "if results.pvalue < alpha:\n",
    "    print(\"Se rechaza la Ho\")\n",
    "    \n",
    "else:\n",
    "    print(\"No se rechaza la Ho\")"
   ]
  },
  {
   "cell_type": "markdown",
   "metadata": {},
   "source": [
    "\n",
    "— Nuestra pregunta en esta ocasión erá conocer si la puntuación que se le daba a las plataormas Xbox One y Pc erán en general iguales, y esto poder tener relevancia si lo comparamos con las gráficas anteriores y comprobar la relación entre ambas plataformas. Para esta prueba se dio un 5% de valor de diferencia para poder tener un margén para hacer la prueba.\n",
    "\n",
    "— Para esta prueba usamos la prueba T de Student, para observar si existen diferencias significtivas entre ambos grupos a comparar y así poder comprobar si se puede rechazar o aceptar las hipotesis planteadas.\n",
    "\n",
    "Al comparar gráficas y las pruebas de estadisica, quitando los valores -1 colocados estrategicamente para no perder la información de los videojuegos, podemos concluir que las plataformas Xbox One y Pc NO SON IGUALES en su forma de ser evaluadas. Los usuarios no tienen una critica igual sobre ambas plataformas. \n",
    "Dicha información se puede corroborar en las gráficas al ver que sus Score no son siquiera cercanas. Tal vez entre otras plataformas la hipótesis nula podría aceptarse, pero con estas 2 plataformas NO. \n",
    "\n",
    "Es por esto que se rechaza la h0 la cual plantea que no existen diferencias entre plataformas."
   ]
  },
  {
   "cell_type": "markdown",
   "metadata": {},
   "source": [
    "hipotesis  2 a analizar\n",
    "\n",
    "\n",
    "Ho: \n",
    "Las calificaciones promedio de los usuarios para los géneros de Acción y Deportes son iguales.\n",
    "\n",
    "H1:\n",
    "Las calificaciones promedio de los usuarios para los géneros de Acción y Deportes son diferentes.\n",
    "\n",
    "\n",
    "Alpha=0.05"
   ]
  },
  {
   "cell_type": "code",
   "execution_count": 52,
   "metadata": {},
   "outputs": [
    {
     "name": "stdout",
     "output_type": "stream",
     "text": [
      "Valor p: 0.10406951359049141\n",
      "No se rechaza la Ho\n"
     ]
    }
   ],
   "source": [
    "# Prueba las hipótesis\n",
    "# Separar los datos por plan para su analisis\n",
    "# se hace un segundo filtro para eliminar los datos -1 colocados anteriormente\n",
    "sports = data[(data['genre'] == 'Sports') &  ( data [\"user_score\"] >= 0)]['user_score']\n",
    "action= data[(data['genre'] == \"Action\") &  ( data [\"user_score\"] >= 0)]['user_score']\n",
    "\n",
    "#coloca un nivel de significancia estadistica critica del 5%\n",
    "alpha= 0.05\n",
    "\n",
    "#muestra de resultados\n",
    "results=st.ttest_ind(sports, action)\n",
    "\n",
    "#imrime el valor p\n",
    "print(\"Valor p:\", results.pvalue)\n",
    "\n",
    "if results.pvalue < alpha:\n",
    "    print(\"Se rechaza la Ho\")\n",
    "    \n",
    "else:\n",
    "    print(\"No se rechaza la Ho\")"
   ]
  },
  {
   "cell_type": "markdown",
   "metadata": {},
   "source": [
    "\n",
    "— Para esta segunda hipótesis se busca conocer si la puntuación dada a los géneros de Acción y Deportes son iguales o existen diferencias significativas entre ambos. Para esta prueba se dio un 5% de valor alpha de diferencia para poder tener un margén para hacer la prueba.\n",
    "\n",
    "— Para esta prueba usamos la prueba T de Student, para observar si existen diferencias significtivas entre ambos grupos a comparar y así poder comprobar si se puede rechazar o aceptar las hipotesis planteadas.\n",
    "\n",
    "Al realizar las pruebas de estadistica podemos concluir que los generos Deportes y Acción SON IGUALES en su forma de ser evaluadas. \n",
    "Anteriormente si tomabamos en cuenta los número -1 colocados, nos daba que había diferenia significativa.\n",
    "Al agregar el segundo filtro y eliminar los datos no obtenidos reales por los usuarios, podemos concluir que ambos géneros tienen una evaluación muy diferente entre ellos.\n",
    "Dicha información se puede corroborar en las gráficas vistas previamente en el documento. \n",
    "\n",
    "Es por esta razón que No se rechaza la h0, la cual plantea que: H1: Las calificaciones promedio de los usuarios para los géneros de Acción y Deportes son iguales."
   ]
  },
  {
   "cell_type": "markdown",
   "metadata": {},
   "source": [
    "# Conclusión general"
   ]
  },
  {
   "cell_type": "markdown",
   "metadata": {},
   "source": [
    "Aunque el mundo de los videojuegos es un mundo fascinante para todos aquellos que lo conocen, es evidente que de unos años para aca ha tenido una caída grave en cuanto a ventas, esto hablando de todas las plataformas analizadas.\n",
    "\n",
    "Aunque no han desaparecido en su totalidad las ventas ya no son lo que eran hace 8 años (2008).\n",
    "\n",
    "Los generos que se mantienen  a nivel mundial más fuertes en cuanto a su venta son Acción y Deportes, es importante enfocarnos en esos dos ya que son los que mejores resultados han dado este último año.\n",
    "\n",
    "Existen plataformas como PS3 Y DS que se posicionan como las mejores en ventas, se puede crear un enfoque nuevamente en esas plataformas para la estrategia buscada para el siguiente año.\n",
    "\n",
    "Aunque los mercados entre norte america, europa y japon son muy variados, en cuestión de videojuegos se comportan de manera similar en cuanto al genero y plataforma lo que nos ayuda a buscar una estrategia similar para todas las regiones.\n",
    "\n"
   ]
  },
  {
   "cell_type": "code",
   "execution_count": null,
   "metadata": {},
   "outputs": [],
   "source": []
  }
 ],
 "metadata": {
  "ExecuteTimeLog": [
   {
    "duration": 298,
    "start_time": "2024-11-12T00:40:59.265Z"
   },
   {
    "duration": 36,
    "start_time": "2024-11-12T00:41:01.521Z"
   },
   {
    "duration": 12,
    "start_time": "2024-11-12T00:41:11.721Z"
   },
   {
    "duration": 17,
    "start_time": "2024-11-12T00:42:01.121Z"
   },
   {
    "duration": 177,
    "start_time": "2024-11-12T00:44:26.671Z"
   },
   {
    "duration": 11,
    "start_time": "2024-11-12T00:44:37.885Z"
   },
   {
    "duration": 14,
    "start_time": "2024-11-12T00:44:46.010Z"
   },
   {
    "duration": 284,
    "start_time": "2024-11-12T00:45:08.001Z"
   },
   {
    "duration": 32,
    "start_time": "2024-11-12T00:45:08.287Z"
   },
   {
    "duration": 11,
    "start_time": "2024-11-12T00:45:08.320Z"
   },
   {
    "duration": 13,
    "start_time": "2024-11-12T00:45:08.334Z"
   },
   {
    "duration": 2,
    "start_time": "2024-11-12T00:45:08.349Z"
   },
   {
    "duration": 2,
    "start_time": "2024-11-12T00:45:08.353Z"
   },
   {
    "duration": 10,
    "start_time": "2024-11-12T00:45:08.357Z"
   },
   {
    "duration": 2,
    "start_time": "2024-11-12T00:45:08.369Z"
   },
   {
    "duration": 3,
    "start_time": "2024-11-12T00:45:08.372Z"
   },
   {
    "duration": 34,
    "start_time": "2024-11-12T00:45:08.378Z"
   },
   {
    "duration": 4,
    "start_time": "2024-11-12T00:45:08.414Z"
   },
   {
    "duration": 3,
    "start_time": "2024-11-12T00:45:08.419Z"
   },
   {
    "duration": 3,
    "start_time": "2024-11-12T00:45:08.424Z"
   },
   {
    "duration": 3,
    "start_time": "2024-11-12T00:45:08.428Z"
   },
   {
    "duration": 3,
    "start_time": "2024-11-12T00:45:08.432Z"
   },
   {
    "duration": 3,
    "start_time": "2024-11-12T00:45:08.436Z"
   },
   {
    "duration": 3,
    "start_time": "2024-11-12T00:45:08.441Z"
   },
   {
    "duration": 3,
    "start_time": "2024-11-12T00:45:08.446Z"
   },
   {
    "duration": 304,
    "start_time": "2024-11-12T15:52:53.248Z"
   },
   {
    "duration": 36,
    "start_time": "2024-11-12T15:52:53.933Z"
   },
   {
    "duration": 12,
    "start_time": "2024-11-12T15:52:54.960Z"
   },
   {
    "duration": 15,
    "start_time": "2024-11-12T15:52:59.668Z"
   },
   {
    "duration": 175,
    "start_time": "2024-11-12T16:01:47.714Z"
   },
   {
    "duration": 11,
    "start_time": "2024-11-12T16:01:59.246Z"
   },
   {
    "duration": 10,
    "start_time": "2024-11-12T16:02:40.534Z"
   },
   {
    "duration": 13,
    "start_time": "2024-11-12T16:14:32.641Z"
   },
   {
    "duration": 13,
    "start_time": "2024-11-12T16:14:54.480Z"
   },
   {
    "duration": 3,
    "start_time": "2024-11-12T16:15:38.261Z"
   },
   {
    "duration": 22,
    "start_time": "2024-11-12T16:32:26.906Z"
   },
   {
    "duration": 212,
    "start_time": "2024-11-12T16:33:46.057Z"
   },
   {
    "duration": 5,
    "start_time": "2024-11-12T16:36:40.103Z"
   },
   {
    "duration": 20,
    "start_time": "2024-11-12T16:37:15.285Z"
   },
   {
    "duration": 4,
    "start_time": "2024-11-12T16:39:28.297Z"
   },
   {
    "duration": 23,
    "start_time": "2024-11-12T16:40:44.611Z"
   },
   {
    "duration": 22,
    "start_time": "2024-11-12T16:41:15.383Z"
   },
   {
    "duration": 17,
    "start_time": "2024-11-12T16:42:05.583Z"
   },
   {
    "duration": 24,
    "start_time": "2024-11-12T16:43:47.195Z"
   },
   {
    "duration": 12,
    "start_time": "2024-11-12T16:45:25.443Z"
   },
   {
    "duration": 282,
    "start_time": "2024-11-12T16:45:40.598Z"
   },
   {
    "duration": 27,
    "start_time": "2024-11-12T16:45:40.882Z"
   },
   {
    "duration": 14,
    "start_time": "2024-11-12T16:45:40.910Z"
   },
   {
    "duration": 15,
    "start_time": "2024-11-12T16:45:40.927Z"
   },
   {
    "duration": 3,
    "start_time": "2024-11-12T16:45:40.945Z"
   },
   {
    "duration": 210,
    "start_time": "2024-11-12T16:45:40.950Z"
   },
   {
    "duration": 0,
    "start_time": "2024-11-12T16:45:41.162Z"
   },
   {
    "duration": 0,
    "start_time": "2024-11-12T16:45:41.163Z"
   },
   {
    "duration": 0,
    "start_time": "2024-11-12T16:45:41.164Z"
   },
   {
    "duration": 0,
    "start_time": "2024-11-12T16:45:41.165Z"
   },
   {
    "duration": 0,
    "start_time": "2024-11-12T16:45:41.166Z"
   },
   {
    "duration": 0,
    "start_time": "2024-11-12T16:45:41.168Z"
   },
   {
    "duration": 0,
    "start_time": "2024-11-12T16:45:41.169Z"
   },
   {
    "duration": 0,
    "start_time": "2024-11-12T16:45:41.169Z"
   },
   {
    "duration": 0,
    "start_time": "2024-11-12T16:45:41.170Z"
   },
   {
    "duration": 0,
    "start_time": "2024-11-12T16:45:41.171Z"
   },
   {
    "duration": 0,
    "start_time": "2024-11-12T16:45:41.172Z"
   },
   {
    "duration": 0,
    "start_time": "2024-11-12T16:45:41.173Z"
   },
   {
    "duration": 0,
    "start_time": "2024-11-12T16:45:41.174Z"
   },
   {
    "duration": 0,
    "start_time": "2024-11-12T16:45:41.175Z"
   },
   {
    "duration": 0,
    "start_time": "2024-11-12T16:45:41.176Z"
   },
   {
    "duration": 2966,
    "start_time": "2024-11-12T19:29:03.009Z"
   },
   {
    "duration": 36,
    "start_time": "2024-11-12T19:29:09.893Z"
   },
   {
    "duration": 11,
    "start_time": "2024-11-12T19:29:11.161Z"
   },
   {
    "duration": 19,
    "start_time": "2024-11-12T19:29:15.841Z"
   },
   {
    "duration": 3,
    "start_time": "2024-11-12T19:29:24.356Z"
   },
   {
    "duration": 214,
    "start_time": "2024-11-12T19:29:25.741Z"
   },
   {
    "duration": 4,
    "start_time": "2024-11-12T19:30:30.074Z"
   },
   {
    "duration": 15,
    "start_time": "2024-11-12T19:30:44.377Z"
   },
   {
    "duration": 4,
    "start_time": "2024-11-12T19:30:53.314Z"
   },
   {
    "duration": 14,
    "start_time": "2024-11-12T19:31:04.164Z"
   },
   {
    "duration": 14,
    "start_time": "2024-11-12T19:31:12.936Z"
   },
   {
    "duration": 791,
    "start_time": "2024-11-12T19:31:27.594Z"
   },
   {
    "duration": 25,
    "start_time": "2024-11-12T19:31:29.472Z"
   },
   {
    "duration": 12,
    "start_time": "2024-11-12T19:31:30.474Z"
   },
   {
    "duration": 14,
    "start_time": "2024-11-12T19:31:31.674Z"
   },
   {
    "duration": 333,
    "start_time": "2024-11-12T19:31:57.613Z"
   },
   {
    "duration": 585,
    "start_time": "2024-11-12T19:32:24.428Z"
   },
   {
    "duration": 4,
    "start_time": "2024-11-12T19:37:17.285Z"
   },
   {
    "duration": 5,
    "start_time": "2024-11-12T19:37:22.273Z"
   },
   {
    "duration": 4,
    "start_time": "2024-11-12T19:38:27.905Z"
   },
   {
    "duration": 14,
    "start_time": "2024-11-12T19:40:23.944Z"
   },
   {
    "duration": 4,
    "start_time": "2024-11-12T19:40:41.371Z"
   },
   {
    "duration": 4,
    "start_time": "2024-11-12T19:41:50.781Z"
   },
   {
    "duration": 3,
    "start_time": "2024-11-12T19:43:22.506Z"
   },
   {
    "duration": 48,
    "start_time": "2024-11-12T19:44:49.703Z"
   },
   {
    "duration": 3,
    "start_time": "2024-11-12T19:46:44.261Z"
   },
   {
    "duration": 10,
    "start_time": "2024-11-12T19:47:14.461Z"
   },
   {
    "duration": 11,
    "start_time": "2024-11-12T19:48:57.428Z"
   },
   {
    "duration": 454,
    "start_time": "2024-11-12T19:49:03.792Z"
   },
   {
    "duration": 6,
    "start_time": "2024-11-12T19:49:11.931Z"
   },
   {
    "duration": 3,
    "start_time": "2024-11-12T19:49:42.707Z"
   },
   {
    "duration": 7,
    "start_time": "2024-11-12T19:49:49.473Z"
   },
   {
    "duration": 4,
    "start_time": "2024-11-12T19:50:01.780Z"
   },
   {
    "duration": 7,
    "start_time": "2024-11-12T19:50:06.996Z"
   },
   {
    "duration": 7,
    "start_time": "2024-11-12T19:51:03.454Z"
   },
   {
    "duration": 2503,
    "start_time": "2024-11-12T21:43:43.458Z"
   },
   {
    "duration": 35,
    "start_time": "2024-11-12T21:43:46.999Z"
   },
   {
    "duration": 13,
    "start_time": "2024-11-12T21:43:48.292Z"
   },
   {
    "duration": 7,
    "start_time": "2024-11-12T21:43:52.135Z"
   },
   {
    "duration": 12,
    "start_time": "2024-11-12T21:43:56.679Z"
   },
   {
    "duration": 717,
    "start_time": "2024-11-12T21:44:02.272Z"
   },
   {
    "duration": 10,
    "start_time": "2024-11-12T21:44:41.025Z"
   },
   {
    "duration": 87,
    "start_time": "2024-11-12T21:45:59.031Z"
   },
   {
    "duration": 3,
    "start_time": "2024-11-12T21:46:10.541Z"
   },
   {
    "duration": 47,
    "start_time": "2024-11-12T21:46:15.527Z"
   },
   {
    "duration": 3,
    "start_time": "2024-11-12T21:46:33.476Z"
   },
   {
    "duration": 46,
    "start_time": "2024-11-12T21:46:34.204Z"
   },
   {
    "duration": 3,
    "start_time": "2024-11-12T21:47:10.500Z"
   },
   {
    "duration": 4,
    "start_time": "2024-11-12T21:47:14.346Z"
   },
   {
    "duration": 11,
    "start_time": "2024-11-12T21:47:19.068Z"
   },
   {
    "duration": 4,
    "start_time": "2024-11-12T21:47:24.247Z"
   },
   {
    "duration": 4,
    "start_time": "2024-11-12T21:47:28.618Z"
   },
   {
    "duration": 5,
    "start_time": "2024-11-12T21:47:39.492Z"
   },
   {
    "duration": 7,
    "start_time": "2024-11-12T21:48:00.713Z"
   },
   {
    "duration": 3,
    "start_time": "2024-11-12T21:48:16.414Z"
   },
   {
    "duration": 6,
    "start_time": "2024-11-12T21:48:21.294Z"
   },
   {
    "duration": 11,
    "start_time": "2024-11-12T21:55:28.008Z"
   },
   {
    "duration": 21,
    "start_time": "2024-11-12T21:57:14.240Z"
   },
   {
    "duration": 4,
    "start_time": "2024-11-12T22:03:25.903Z"
   },
   {
    "duration": 41,
    "start_time": "2024-11-12T22:05:30.012Z"
   },
   {
    "duration": 19,
    "start_time": "2024-11-12T22:06:23.315Z"
   },
   {
    "duration": 22,
    "start_time": "2024-11-12T22:15:08.517Z"
   },
   {
    "duration": 24,
    "start_time": "2024-11-12T22:21:35.867Z"
   },
   {
    "duration": 21,
    "start_time": "2024-11-12T22:21:46.619Z"
   },
   {
    "duration": 19,
    "start_time": "2024-11-12T22:24:23.244Z"
   },
   {
    "duration": 23,
    "start_time": "2024-11-12T22:26:13.631Z"
   },
   {
    "duration": 4,
    "start_time": "2024-11-12T22:27:36.434Z"
   },
   {
    "duration": 10,
    "start_time": "2024-11-12T22:27:49.317Z"
   },
   {
    "duration": 4,
    "start_time": "2024-11-12T22:29:59.104Z"
   },
   {
    "duration": 17,
    "start_time": "2024-11-12T22:30:05.205Z"
   },
   {
    "duration": 3,
    "start_time": "2024-11-12T22:30:12.625Z"
   },
   {
    "duration": 3,
    "start_time": "2024-11-12T22:30:17.639Z"
   },
   {
    "duration": 4,
    "start_time": "2024-11-12T22:30:21.629Z"
   },
   {
    "duration": 3,
    "start_time": "2024-11-12T22:30:21.656Z"
   },
   {
    "duration": 805,
    "start_time": "2024-11-12T22:30:33.408Z"
   },
   {
    "duration": 25,
    "start_time": "2024-11-12T22:30:34.720Z"
   },
   {
    "duration": 13,
    "start_time": "2024-11-12T22:30:35.570Z"
   },
   {
    "duration": 7,
    "start_time": "2024-11-12T22:30:36.213Z"
   },
   {
    "duration": 13,
    "start_time": "2024-11-12T22:30:41.074Z"
   },
   {
    "duration": 3,
    "start_time": "2024-11-12T22:32:38.406Z"
   },
   {
    "duration": 17,
    "start_time": "2024-11-12T22:32:40.045Z"
   },
   {
    "duration": 11,
    "start_time": "2024-11-12T22:32:49.138Z"
   },
   {
    "duration": 646,
    "start_time": "2024-11-12T22:32:50.598Z"
   },
   {
    "duration": 4,
    "start_time": "2024-11-12T22:33:02.464Z"
   },
   {
    "duration": 3,
    "start_time": "2024-11-12T22:33:15.000Z"
   },
   {
    "duration": 10,
    "start_time": "2024-11-12T22:33:16.805Z"
   },
   {
    "duration": 3,
    "start_time": "2024-11-12T22:33:21.940Z"
   },
   {
    "duration": 5,
    "start_time": "2024-11-12T22:33:30.958Z"
   },
   {
    "duration": 4,
    "start_time": "2024-11-12T22:33:36.755Z"
   },
   {
    "duration": 7,
    "start_time": "2024-11-12T22:33:41.658Z"
   },
   {
    "duration": 4,
    "start_time": "2024-11-12T22:34:02.605Z"
   },
   {
    "duration": 5,
    "start_time": "2024-11-12T22:34:03.523Z"
   },
   {
    "duration": 7,
    "start_time": "2024-11-12T22:34:10.841Z"
   },
   {
    "duration": 4,
    "start_time": "2024-11-12T22:37:08.824Z"
   },
   {
    "duration": 6,
    "start_time": "2024-11-12T22:37:12.993Z"
   },
   {
    "duration": 20,
    "start_time": "2024-11-12T22:38:49.811Z"
   },
   {
    "duration": 40,
    "start_time": "2024-11-12T22:38:55.670Z"
   },
   {
    "duration": 4,
    "start_time": "2024-11-12T22:39:04.758Z"
   },
   {
    "duration": 47,
    "start_time": "2024-11-12T22:39:32.464Z"
   },
   {
    "duration": 4,
    "start_time": "2024-11-12T22:39:43.973Z"
   },
   {
    "duration": 11,
    "start_time": "2024-11-12T22:39:44.011Z"
   },
   {
    "duration": 151,
    "start_time": "2024-11-12T22:44:25.051Z"
   },
   {
    "duration": 41,
    "start_time": "2024-11-12T22:45:22.405Z"
   },
   {
    "duration": 8,
    "start_time": "2024-11-12T22:46:18.896Z"
   },
   {
    "duration": 83,
    "start_time": "2024-11-12T22:48:33.833Z"
   },
   {
    "duration": 56,
    "start_time": "2024-11-12T22:49:50.874Z"
   },
   {
    "duration": 66,
    "start_time": "2024-11-12T22:55:24.210Z"
   },
   {
    "duration": 847,
    "start_time": "2024-11-12T22:55:32.244Z"
   },
   {
    "duration": 28,
    "start_time": "2024-11-12T22:55:33.093Z"
   },
   {
    "duration": 11,
    "start_time": "2024-11-12T22:55:33.122Z"
   },
   {
    "duration": 6,
    "start_time": "2024-11-12T22:55:33.135Z"
   },
   {
    "duration": 13,
    "start_time": "2024-11-12T22:55:33.143Z"
   },
   {
    "duration": 3,
    "start_time": "2024-11-12T22:55:33.157Z"
   },
   {
    "duration": 48,
    "start_time": "2024-11-12T22:55:33.161Z"
   },
   {
    "duration": 11,
    "start_time": "2024-11-12T22:55:33.210Z"
   },
   {
    "duration": 3,
    "start_time": "2024-11-12T22:55:33.223Z"
   },
   {
    "duration": 3,
    "start_time": "2024-11-12T22:55:33.231Z"
   },
   {
    "duration": 10,
    "start_time": "2024-11-12T22:55:33.235Z"
   },
   {
    "duration": 4,
    "start_time": "2024-11-12T22:55:33.247Z"
   },
   {
    "duration": 3,
    "start_time": "2024-11-12T22:55:33.253Z"
   },
   {
    "duration": 5,
    "start_time": "2024-11-12T22:55:33.258Z"
   },
   {
    "duration": 4,
    "start_time": "2024-11-12T22:55:33.264Z"
   },
   {
    "duration": 8,
    "start_time": "2024-11-12T22:55:33.309Z"
   },
   {
    "duration": 19,
    "start_time": "2024-11-12T22:55:33.318Z"
   },
   {
    "duration": 4,
    "start_time": "2024-11-12T22:55:33.339Z"
   },
   {
    "duration": 2,
    "start_time": "2024-11-12T22:55:33.345Z"
   },
   {
    "duration": 5,
    "start_time": "2024-11-12T22:55:33.348Z"
   },
   {
    "duration": 12,
    "start_time": "2024-11-12T22:55:33.354Z"
   },
   {
    "duration": 745,
    "start_time": "2024-11-12T22:55:33.368Z"
   },
   {
    "duration": 0,
    "start_time": "2024-11-12T22:55:34.115Z"
   },
   {
    "duration": 0,
    "start_time": "2024-11-12T22:55:34.116Z"
   },
   {
    "duration": 0,
    "start_time": "2024-11-12T22:55:34.118Z"
   },
   {
    "duration": 0,
    "start_time": "2024-11-12T22:55:34.119Z"
   },
   {
    "duration": 1,
    "start_time": "2024-11-12T22:55:34.120Z"
   },
   {
    "duration": 0,
    "start_time": "2024-11-12T22:55:34.122Z"
   },
   {
    "duration": 0,
    "start_time": "2024-11-12T22:55:34.123Z"
   },
   {
    "duration": 0,
    "start_time": "2024-11-12T22:55:34.125Z"
   },
   {
    "duration": 0,
    "start_time": "2024-11-12T22:55:34.126Z"
   },
   {
    "duration": 280,
    "start_time": "2024-11-12T22:58:11.030Z"
   },
   {
    "duration": 86,
    "start_time": "2024-11-12T22:58:35.906Z"
   },
   {
    "duration": 281,
    "start_time": "2024-11-12T22:59:22.464Z"
   },
   {
    "duration": 60,
    "start_time": "2024-11-12T22:59:46.856Z"
   },
   {
    "duration": 203,
    "start_time": "2024-11-12T23:00:16.460Z"
   },
   {
    "duration": 144,
    "start_time": "2024-11-12T23:01:44.839Z"
   },
   {
    "duration": 75,
    "start_time": "2024-11-12T23:01:52.210Z"
   },
   {
    "duration": 58,
    "start_time": "2024-11-12T23:06:28.436Z"
   },
   {
    "duration": 164,
    "start_time": "2024-11-12T23:07:54.704Z"
   },
   {
    "duration": 240,
    "start_time": "2024-11-12T23:08:28.796Z"
   },
   {
    "duration": 48286,
    "start_time": "2024-11-12T23:26:05.985Z"
   },
   {
    "duration": 420,
    "start_time": "2024-11-12T23:28:09.582Z"
   },
   {
    "duration": 48298,
    "start_time": "2024-11-12T23:28:32.271Z"
   },
   {
    "duration": 201,
    "start_time": "2024-11-12T23:29:36.402Z"
   },
   {
    "duration": 231,
    "start_time": "2024-11-12T23:29:49.747Z"
   },
   {
    "duration": 194,
    "start_time": "2024-11-12T23:31:05.633Z"
   },
   {
    "duration": 194,
    "start_time": "2024-11-12T23:32:02.057Z"
   },
   {
    "duration": 28,
    "start_time": "2024-11-12T23:32:28.553Z"
   },
   {
    "duration": 111,
    "start_time": "2024-11-12T23:32:35.712Z"
   },
   {
    "duration": 27,
    "start_time": "2024-11-12T23:33:01.399Z"
   },
   {
    "duration": 195,
    "start_time": "2024-11-12T23:33:11.553Z"
   },
   {
    "duration": 229,
    "start_time": "2024-11-12T23:33:47.113Z"
   },
   {
    "duration": 214,
    "start_time": "2024-11-12T23:34:05.313Z"
   },
   {
    "duration": 158,
    "start_time": "2024-11-12T23:34:39.392Z"
   },
   {
    "duration": 200,
    "start_time": "2024-11-12T23:34:47.793Z"
   },
   {
    "duration": 263,
    "start_time": "2024-11-13T00:02:06.339Z"
   },
   {
    "duration": 271,
    "start_time": "2024-11-13T00:02:39.796Z"
   },
   {
    "duration": 233,
    "start_time": "2024-11-13T00:03:07.128Z"
   },
   {
    "duration": 181,
    "start_time": "2024-11-13T00:03:41.801Z"
   },
   {
    "duration": 188,
    "start_time": "2024-11-13T00:04:01.731Z"
   },
   {
    "duration": 159,
    "start_time": "2024-11-13T00:04:43.837Z"
   },
   {
    "duration": 2656,
    "start_time": "2024-11-13T13:49:18.785Z"
   },
   {
    "duration": 37,
    "start_time": "2024-11-13T13:49:21.444Z"
   },
   {
    "duration": 12,
    "start_time": "2024-11-13T13:49:21.483Z"
   },
   {
    "duration": 6,
    "start_time": "2024-11-13T13:49:21.496Z"
   },
   {
    "duration": 13,
    "start_time": "2024-11-13T13:49:21.509Z"
   },
   {
    "duration": 2,
    "start_time": "2024-11-13T13:49:21.524Z"
   },
   {
    "duration": 15,
    "start_time": "2024-11-13T13:49:21.528Z"
   },
   {
    "duration": 11,
    "start_time": "2024-11-13T13:49:21.545Z"
   },
   {
    "duration": 3,
    "start_time": "2024-11-13T13:49:21.557Z"
   },
   {
    "duration": 2,
    "start_time": "2024-11-13T13:49:21.562Z"
   },
   {
    "duration": 46,
    "start_time": "2024-11-13T13:49:21.566Z"
   },
   {
    "duration": 3,
    "start_time": "2024-11-13T13:49:21.614Z"
   },
   {
    "duration": 3,
    "start_time": "2024-11-13T13:49:21.619Z"
   },
   {
    "duration": 3,
    "start_time": "2024-11-13T13:49:21.626Z"
   },
   {
    "duration": 3,
    "start_time": "2024-11-13T13:49:21.631Z"
   },
   {
    "duration": 7,
    "start_time": "2024-11-13T13:49:21.635Z"
   },
   {
    "duration": 19,
    "start_time": "2024-11-13T13:49:21.644Z"
   },
   {
    "duration": 3,
    "start_time": "2024-11-13T13:49:21.665Z"
   },
   {
    "duration": 40,
    "start_time": "2024-11-13T13:49:21.669Z"
   },
   {
    "duration": 5,
    "start_time": "2024-11-13T13:49:21.711Z"
   },
   {
    "duration": 11,
    "start_time": "2024-11-13T13:49:21.718Z"
   },
   {
    "duration": 270,
    "start_time": "2024-11-13T13:49:21.730Z"
   },
   {
    "duration": 199,
    "start_time": "2024-11-13T13:49:22.002Z"
   },
   {
    "duration": 177,
    "start_time": "2024-11-13T13:49:22.202Z"
   },
   {
    "duration": 2,
    "start_time": "2024-11-13T13:49:22.381Z"
   },
   {
    "duration": 2,
    "start_time": "2024-11-13T13:49:22.385Z"
   },
   {
    "duration": 2,
    "start_time": "2024-11-13T13:49:22.389Z"
   },
   {
    "duration": 17,
    "start_time": "2024-11-13T13:49:22.393Z"
   },
   {
    "duration": 2,
    "start_time": "2024-11-13T13:49:22.412Z"
   },
   {
    "duration": 2,
    "start_time": "2024-11-13T13:49:22.416Z"
   },
   {
    "duration": 2,
    "start_time": "2024-11-13T13:49:22.420Z"
   },
   {
    "duration": 166,
    "start_time": "2024-11-13T13:50:37.595Z"
   },
   {
    "duration": 267,
    "start_time": "2024-11-13T13:51:12.365Z"
   },
   {
    "duration": 431,
    "start_time": "2024-11-13T13:52:02.593Z"
   },
   {
    "duration": 214,
    "start_time": "2024-11-13T13:52:16.612Z"
   },
   {
    "duration": 193,
    "start_time": "2024-11-13T13:52:56.317Z"
   },
   {
    "duration": 17,
    "start_time": "2024-11-13T13:55:32.518Z"
   },
   {
    "duration": 194,
    "start_time": "2024-11-13T14:11:45.416Z"
   },
   {
    "duration": 186,
    "start_time": "2024-11-13T14:12:20.037Z"
   },
   {
    "duration": 2685,
    "start_time": "2024-11-13T18:22:30.850Z"
   },
   {
    "duration": 38,
    "start_time": "2024-11-13T18:22:33.537Z"
   },
   {
    "duration": 15,
    "start_time": "2024-11-13T18:22:33.576Z"
   },
   {
    "duration": 8,
    "start_time": "2024-11-13T18:22:33.593Z"
   },
   {
    "duration": 14,
    "start_time": "2024-11-13T18:22:33.604Z"
   },
   {
    "duration": 3,
    "start_time": "2024-11-13T18:22:33.619Z"
   },
   {
    "duration": 15,
    "start_time": "2024-11-13T18:22:33.624Z"
   },
   {
    "duration": 11,
    "start_time": "2024-11-13T18:22:33.641Z"
   },
   {
    "duration": 34,
    "start_time": "2024-11-13T18:22:33.654Z"
   },
   {
    "duration": 3,
    "start_time": "2024-11-13T18:22:33.690Z"
   },
   {
    "duration": 12,
    "start_time": "2024-11-13T18:22:33.695Z"
   },
   {
    "duration": 3,
    "start_time": "2024-11-13T18:22:33.709Z"
   },
   {
    "duration": 4,
    "start_time": "2024-11-13T18:22:33.714Z"
   },
   {
    "duration": 3,
    "start_time": "2024-11-13T18:22:33.722Z"
   },
   {
    "duration": 3,
    "start_time": "2024-11-13T18:22:33.727Z"
   },
   {
    "duration": 7,
    "start_time": "2024-11-13T18:22:33.732Z"
   },
   {
    "duration": 62,
    "start_time": "2024-11-13T18:22:33.740Z"
   },
   {
    "duration": 3,
    "start_time": "2024-11-13T18:22:33.804Z"
   },
   {
    "duration": 2,
    "start_time": "2024-11-13T18:22:33.809Z"
   },
   {
    "duration": 4,
    "start_time": "2024-11-13T18:22:33.813Z"
   },
   {
    "duration": 10,
    "start_time": "2024-11-13T18:22:33.819Z"
   },
   {
    "duration": 294,
    "start_time": "2024-11-13T18:22:33.831Z"
   },
   {
    "duration": 205,
    "start_time": "2024-11-13T18:22:34.127Z"
   },
   {
    "duration": 337,
    "start_time": "2024-11-13T18:22:34.334Z"
   },
   {
    "duration": 24,
    "start_time": "2024-11-13T18:22:34.673Z"
   },
   {
    "duration": 2,
    "start_time": "2024-11-13T18:22:34.699Z"
   },
   {
    "duration": 2,
    "start_time": "2024-11-13T18:22:34.703Z"
   },
   {
    "duration": 2,
    "start_time": "2024-11-13T18:22:34.707Z"
   },
   {
    "duration": 3,
    "start_time": "2024-11-13T18:22:34.711Z"
   },
   {
    "duration": 2,
    "start_time": "2024-11-13T18:22:34.716Z"
   },
   {
    "duration": 3,
    "start_time": "2024-11-13T18:22:34.720Z"
   },
   {
    "duration": 3,
    "start_time": "2024-11-13T18:22:34.725Z"
   },
   {
    "duration": 6,
    "start_time": "2024-11-13T18:35:32.794Z"
   },
   {
    "duration": 4,
    "start_time": "2024-11-13T18:35:40.281Z"
   },
   {
    "duration": 4,
    "start_time": "2024-11-13T18:35:44.524Z"
   },
   {
    "duration": 4,
    "start_time": "2024-11-13T18:37:09.740Z"
   },
   {
    "duration": 5,
    "start_time": "2024-11-13T18:37:14.039Z"
   },
   {
    "duration": 8,
    "start_time": "2024-11-13T18:37:43.067Z"
   },
   {
    "duration": 4,
    "start_time": "2024-11-13T18:39:15.065Z"
   },
   {
    "duration": 978,
    "start_time": "2024-11-13T18:39:28.592Z"
   },
   {
    "duration": 28,
    "start_time": "2024-11-13T18:39:29.574Z"
   },
   {
    "duration": 13,
    "start_time": "2024-11-13T18:39:29.604Z"
   },
   {
    "duration": 7,
    "start_time": "2024-11-13T18:39:29.618Z"
   },
   {
    "duration": 15,
    "start_time": "2024-11-13T18:39:29.628Z"
   },
   {
    "duration": 3,
    "start_time": "2024-11-13T18:39:29.644Z"
   },
   {
    "duration": 44,
    "start_time": "2024-11-13T18:39:29.649Z"
   },
   {
    "duration": 11,
    "start_time": "2024-11-13T18:39:29.695Z"
   },
   {
    "duration": 3,
    "start_time": "2024-11-13T18:39:29.708Z"
   },
   {
    "duration": 3,
    "start_time": "2024-11-13T18:39:29.713Z"
   },
   {
    "duration": 10,
    "start_time": "2024-11-13T18:39:29.717Z"
   },
   {
    "duration": 3,
    "start_time": "2024-11-13T18:39:29.729Z"
   },
   {
    "duration": 4,
    "start_time": "2024-11-13T18:39:29.734Z"
   },
   {
    "duration": 3,
    "start_time": "2024-11-13T18:39:29.742Z"
   },
   {
    "duration": 42,
    "start_time": "2024-11-13T18:39:29.747Z"
   },
   {
    "duration": 6,
    "start_time": "2024-11-13T18:39:29.790Z"
   },
   {
    "duration": 19,
    "start_time": "2024-11-13T18:39:29.798Z"
   },
   {
    "duration": 3,
    "start_time": "2024-11-13T18:39:29.819Z"
   },
   {
    "duration": 4,
    "start_time": "2024-11-13T18:39:29.824Z"
   },
   {
    "duration": 4,
    "start_time": "2024-11-13T18:39:29.829Z"
   },
   {
    "duration": 4,
    "start_time": "2024-11-13T18:39:29.835Z"
   },
   {
    "duration": 49,
    "start_time": "2024-11-13T18:39:29.840Z"
   },
   {
    "duration": 5,
    "start_time": "2024-11-13T18:39:29.890Z"
   },
   {
    "duration": 11,
    "start_time": "2024-11-13T18:39:29.896Z"
   },
   {
    "duration": 275,
    "start_time": "2024-11-13T18:39:29.909Z"
   },
   {
    "duration": 264,
    "start_time": "2024-11-13T18:39:30.188Z"
   },
   {
    "duration": 282,
    "start_time": "2024-11-13T18:39:30.454Z"
   },
   {
    "duration": 15,
    "start_time": "2024-11-13T18:39:30.738Z"
   },
   {
    "duration": 3,
    "start_time": "2024-11-13T18:39:30.755Z"
   },
   {
    "duration": 4,
    "start_time": "2024-11-13T18:39:30.759Z"
   },
   {
    "duration": 22,
    "start_time": "2024-11-13T18:39:30.764Z"
   },
   {
    "duration": 2,
    "start_time": "2024-11-13T18:39:30.788Z"
   },
   {
    "duration": 2,
    "start_time": "2024-11-13T18:39:30.792Z"
   },
   {
    "duration": 3,
    "start_time": "2024-11-13T18:39:30.795Z"
   },
   {
    "duration": 4,
    "start_time": "2024-11-13T18:39:30.799Z"
   },
   {
    "duration": 277,
    "start_time": "2024-11-13T18:40:28.396Z"
   },
   {
    "duration": 294,
    "start_time": "2024-11-13T18:41:07.050Z"
   },
   {
    "duration": 329,
    "start_time": "2024-11-13T18:43:23.724Z"
   },
   {
    "duration": 325,
    "start_time": "2024-11-13T18:47:47.965Z"
   },
   {
    "duration": 6,
    "start_time": "2024-11-13T18:48:02.143Z"
   },
   {
    "duration": 309,
    "start_time": "2024-11-13T18:56:02.573Z"
   },
   {
    "duration": 7,
    "start_time": "2024-11-13T20:36:14.991Z"
   },
   {
    "duration": 152,
    "start_time": "2024-11-13T20:36:38.527Z"
   },
   {
    "duration": 2655,
    "start_time": "2024-11-13T20:36:58.267Z"
   },
   {
    "duration": 36,
    "start_time": "2024-11-13T20:37:00.924Z"
   },
   {
    "duration": 12,
    "start_time": "2024-11-13T20:37:00.962Z"
   },
   {
    "duration": 6,
    "start_time": "2024-11-13T20:37:00.976Z"
   },
   {
    "duration": 12,
    "start_time": "2024-11-13T20:37:00.984Z"
   },
   {
    "duration": 3,
    "start_time": "2024-11-13T20:37:01.009Z"
   },
   {
    "duration": 14,
    "start_time": "2024-11-13T20:37:01.014Z"
   },
   {
    "duration": 11,
    "start_time": "2024-11-13T20:37:01.029Z"
   },
   {
    "duration": 3,
    "start_time": "2024-11-13T20:37:01.042Z"
   },
   {
    "duration": 3,
    "start_time": "2024-11-13T20:37:01.048Z"
   },
   {
    "duration": 11,
    "start_time": "2024-11-13T20:37:01.052Z"
   },
   {
    "duration": 6,
    "start_time": "2024-11-13T20:37:01.064Z"
   },
   {
    "duration": 41,
    "start_time": "2024-11-13T20:37:01.071Z"
   },
   {
    "duration": 4,
    "start_time": "2024-11-13T20:37:01.113Z"
   },
   {
    "duration": 3,
    "start_time": "2024-11-13T20:37:01.119Z"
   },
   {
    "duration": 7,
    "start_time": "2024-11-13T20:37:01.124Z"
   },
   {
    "duration": 20,
    "start_time": "2024-11-13T20:37:01.133Z"
   },
   {
    "duration": 4,
    "start_time": "2024-11-13T20:37:01.154Z"
   },
   {
    "duration": 4,
    "start_time": "2024-11-13T20:37:01.160Z"
   },
   {
    "duration": 44,
    "start_time": "2024-11-13T20:37:01.166Z"
   },
   {
    "duration": 4,
    "start_time": "2024-11-13T20:37:01.211Z"
   },
   {
    "duration": 7,
    "start_time": "2024-11-13T20:37:01.217Z"
   },
   {
    "duration": 4,
    "start_time": "2024-11-13T20:37:01.226Z"
   },
   {
    "duration": 10,
    "start_time": "2024-11-13T20:37:01.232Z"
   },
   {
    "duration": 278,
    "start_time": "2024-11-13T20:37:01.244Z"
   },
   {
    "duration": 6,
    "start_time": "2024-11-13T20:37:01.524Z"
   },
   {
    "duration": 209,
    "start_time": "2024-11-13T20:37:01.532Z"
   },
   {
    "duration": 320,
    "start_time": "2024-11-13T20:37:01.746Z"
   },
   {
    "duration": 12,
    "start_time": "2024-11-13T20:37:02.068Z"
   },
   {
    "duration": 11,
    "start_time": "2024-11-13T20:37:02.082Z"
   },
   {
    "duration": 14,
    "start_time": "2024-11-13T20:37:02.095Z"
   },
   {
    "duration": 3,
    "start_time": "2024-11-13T20:37:02.111Z"
   },
   {
    "duration": 3,
    "start_time": "2024-11-13T20:37:02.116Z"
   },
   {
    "duration": 3,
    "start_time": "2024-11-13T20:37:02.120Z"
   },
   {
    "duration": 2,
    "start_time": "2024-11-13T20:37:02.125Z"
   },
   {
    "duration": 401,
    "start_time": "2024-11-13T20:40:42.619Z"
   },
   {
    "duration": 432,
    "start_time": "2024-11-13T20:41:51.205Z"
   },
   {
    "duration": 57,
    "start_time": "2024-11-13T20:42:01.839Z"
   },
   {
    "duration": 16,
    "start_time": "2024-11-13T20:45:24.106Z"
   },
   {
    "duration": 368,
    "start_time": "2024-11-13T20:45:31.986Z"
   },
   {
    "duration": 6,
    "start_time": "2024-11-13T20:56:12.441Z"
   },
   {
    "duration": 5,
    "start_time": "2024-11-13T21:09:20.501Z"
   },
   {
    "duration": 888,
    "start_time": "2024-11-13T21:13:49.117Z"
   },
   {
    "duration": 28,
    "start_time": "2024-11-13T21:13:50.007Z"
   },
   {
    "duration": 12,
    "start_time": "2024-11-13T21:13:50.036Z"
   },
   {
    "duration": 7,
    "start_time": "2024-11-13T21:13:50.050Z"
   },
   {
    "duration": 14,
    "start_time": "2024-11-13T21:13:50.058Z"
   },
   {
    "duration": 3,
    "start_time": "2024-11-13T21:13:50.073Z"
   },
   {
    "duration": 38,
    "start_time": "2024-11-13T21:13:50.077Z"
   },
   {
    "duration": 11,
    "start_time": "2024-11-13T21:13:50.116Z"
   },
   {
    "duration": 3,
    "start_time": "2024-11-13T21:13:50.128Z"
   },
   {
    "duration": 3,
    "start_time": "2024-11-13T21:13:50.134Z"
   },
   {
    "duration": 10,
    "start_time": "2024-11-13T21:13:50.138Z"
   },
   {
    "duration": 4,
    "start_time": "2024-11-13T21:13:50.150Z"
   },
   {
    "duration": 5,
    "start_time": "2024-11-13T21:13:50.155Z"
   },
   {
    "duration": 4,
    "start_time": "2024-11-13T21:13:50.161Z"
   },
   {
    "duration": 42,
    "start_time": "2024-11-13T21:13:50.167Z"
   },
   {
    "duration": 7,
    "start_time": "2024-11-13T21:13:50.211Z"
   },
   {
    "duration": 19,
    "start_time": "2024-11-13T21:13:50.220Z"
   },
   {
    "duration": 3,
    "start_time": "2024-11-13T21:13:50.241Z"
   },
   {
    "duration": 4,
    "start_time": "2024-11-13T21:13:50.246Z"
   },
   {
    "duration": 4,
    "start_time": "2024-11-13T21:13:50.251Z"
   },
   {
    "duration": 5,
    "start_time": "2024-11-13T21:13:50.257Z"
   },
   {
    "duration": 8,
    "start_time": "2024-11-13T21:13:50.263Z"
   },
   {
    "duration": 4,
    "start_time": "2024-11-13T21:13:50.308Z"
   },
   {
    "duration": 10,
    "start_time": "2024-11-13T21:13:50.314Z"
   },
   {
    "duration": 271,
    "start_time": "2024-11-13T21:13:50.326Z"
   },
   {
    "duration": 13,
    "start_time": "2024-11-13T21:13:50.599Z"
   },
   {
    "duration": 246,
    "start_time": "2024-11-13T21:13:50.614Z"
   },
   {
    "duration": 316,
    "start_time": "2024-11-13T21:13:50.865Z"
   },
   {
    "duration": 14,
    "start_time": "2024-11-13T21:13:51.183Z"
   },
   {
    "duration": 680,
    "start_time": "2024-11-13T21:13:51.209Z"
   },
   {
    "duration": 0,
    "start_time": "2024-11-13T21:13:51.891Z"
   },
   {
    "duration": 0,
    "start_time": "2024-11-13T21:13:51.892Z"
   },
   {
    "duration": 0,
    "start_time": "2024-11-13T21:13:51.894Z"
   },
   {
    "duration": 0,
    "start_time": "2024-11-13T21:13:51.896Z"
   },
   {
    "duration": 0,
    "start_time": "2024-11-13T21:13:51.909Z"
   },
   {
    "duration": 0,
    "start_time": "2024-11-13T21:13:51.910Z"
   },
   {
    "duration": 0,
    "start_time": "2024-11-13T21:13:51.911Z"
   },
   {
    "duration": 0,
    "start_time": "2024-11-13T21:13:51.912Z"
   },
   {
    "duration": 0,
    "start_time": "2024-11-13T21:13:51.913Z"
   },
   {
    "duration": 0,
    "start_time": "2024-11-13T21:13:51.914Z"
   },
   {
    "duration": 0,
    "start_time": "2024-11-13T21:13:51.915Z"
   },
   {
    "duration": 396,
    "start_time": "2024-11-13T21:16:44.942Z"
   },
   {
    "duration": 6,
    "start_time": "2024-11-13T21:17:05.989Z"
   },
   {
    "duration": 5,
    "start_time": "2024-11-13T21:19:08.518Z"
   },
   {
    "duration": 269,
    "start_time": "2024-11-13T21:19:19.771Z"
   },
   {
    "duration": 906,
    "start_time": "2024-11-13T21:21:24.049Z"
   },
   {
    "duration": 26,
    "start_time": "2024-11-13T21:21:24.957Z"
   },
   {
    "duration": 11,
    "start_time": "2024-11-13T21:21:24.984Z"
   },
   {
    "duration": 6,
    "start_time": "2024-11-13T21:21:25.010Z"
   },
   {
    "duration": 14,
    "start_time": "2024-11-13T21:21:25.018Z"
   },
   {
    "duration": 3,
    "start_time": "2024-11-13T21:21:25.034Z"
   },
   {
    "duration": 15,
    "start_time": "2024-11-13T21:21:25.039Z"
   },
   {
    "duration": 13,
    "start_time": "2024-11-13T21:21:25.056Z"
   },
   {
    "duration": 2,
    "start_time": "2024-11-13T21:21:25.071Z"
   },
   {
    "duration": 4,
    "start_time": "2024-11-13T21:21:25.110Z"
   },
   {
    "duration": 838,
    "start_time": "2024-11-13T21:21:25.116Z"
   },
   {
    "duration": 0,
    "start_time": "2024-11-13T21:21:25.956Z"
   },
   {
    "duration": 0,
    "start_time": "2024-11-13T21:21:25.957Z"
   },
   {
    "duration": 0,
    "start_time": "2024-11-13T21:21:25.959Z"
   },
   {
    "duration": 0,
    "start_time": "2024-11-13T21:21:25.960Z"
   },
   {
    "duration": 0,
    "start_time": "2024-11-13T21:21:25.961Z"
   },
   {
    "duration": 0,
    "start_time": "2024-11-13T21:21:25.962Z"
   },
   {
    "duration": 0,
    "start_time": "2024-11-13T21:21:25.963Z"
   },
   {
    "duration": 0,
    "start_time": "2024-11-13T21:21:25.965Z"
   },
   {
    "duration": 0,
    "start_time": "2024-11-13T21:21:25.966Z"
   },
   {
    "duration": 0,
    "start_time": "2024-11-13T21:21:25.967Z"
   },
   {
    "duration": 0,
    "start_time": "2024-11-13T21:21:25.969Z"
   },
   {
    "duration": 0,
    "start_time": "2024-11-13T21:21:25.970Z"
   },
   {
    "duration": 0,
    "start_time": "2024-11-13T21:21:25.972Z"
   },
   {
    "duration": 0,
    "start_time": "2024-11-13T21:21:25.973Z"
   },
   {
    "duration": 0,
    "start_time": "2024-11-13T21:21:25.974Z"
   },
   {
    "duration": 0,
    "start_time": "2024-11-13T21:21:25.975Z"
   },
   {
    "duration": 0,
    "start_time": "2024-11-13T21:21:25.976Z"
   },
   {
    "duration": 0,
    "start_time": "2024-11-13T21:21:26.009Z"
   },
   {
    "duration": 0,
    "start_time": "2024-11-13T21:21:26.010Z"
   },
   {
    "duration": 0,
    "start_time": "2024-11-13T21:21:26.011Z"
   },
   {
    "duration": 0,
    "start_time": "2024-11-13T21:21:26.012Z"
   },
   {
    "duration": 0,
    "start_time": "2024-11-13T21:21:26.014Z"
   },
   {
    "duration": 0,
    "start_time": "2024-11-13T21:21:26.015Z"
   },
   {
    "duration": 0,
    "start_time": "2024-11-13T21:21:26.017Z"
   },
   {
    "duration": 0,
    "start_time": "2024-11-13T21:21:26.018Z"
   },
   {
    "duration": 0,
    "start_time": "2024-11-13T21:21:26.020Z"
   },
   {
    "duration": 0,
    "start_time": "2024-11-13T21:21:26.021Z"
   },
   {
    "duration": 0,
    "start_time": "2024-11-13T21:21:26.023Z"
   },
   {
    "duration": 0,
    "start_time": "2024-11-13T21:21:26.024Z"
   },
   {
    "duration": 0,
    "start_time": "2024-11-13T21:21:26.026Z"
   },
   {
    "duration": 0,
    "start_time": "2024-11-13T21:21:26.027Z"
   },
   {
    "duration": 0,
    "start_time": "2024-11-13T21:21:26.029Z"
   },
   {
    "duration": 2586,
    "start_time": "2024-11-13T21:55:26.004Z"
   },
   {
    "duration": 37,
    "start_time": "2024-11-13T21:55:28.592Z"
   },
   {
    "duration": 12,
    "start_time": "2024-11-13T21:55:28.630Z"
   },
   {
    "duration": 6,
    "start_time": "2024-11-13T21:55:28.644Z"
   },
   {
    "duration": 13,
    "start_time": "2024-11-13T21:55:28.653Z"
   },
   {
    "duration": 3,
    "start_time": "2024-11-13T21:55:28.667Z"
   },
   {
    "duration": 14,
    "start_time": "2024-11-13T21:55:28.672Z"
   },
   {
    "duration": 38,
    "start_time": "2024-11-13T21:55:28.688Z"
   },
   {
    "duration": 3,
    "start_time": "2024-11-13T21:55:28.727Z"
   },
   {
    "duration": 3,
    "start_time": "2024-11-13T21:55:28.732Z"
   },
   {
    "duration": 843,
    "start_time": "2024-11-13T21:55:28.736Z"
   },
   {
    "duration": 0,
    "start_time": "2024-11-13T21:55:29.582Z"
   },
   {
    "duration": 0,
    "start_time": "2024-11-13T21:55:29.584Z"
   },
   {
    "duration": 0,
    "start_time": "2024-11-13T21:55:29.585Z"
   },
   {
    "duration": 0,
    "start_time": "2024-11-13T21:55:29.586Z"
   },
   {
    "duration": 0,
    "start_time": "2024-11-13T21:55:29.588Z"
   },
   {
    "duration": 0,
    "start_time": "2024-11-13T21:55:29.589Z"
   },
   {
    "duration": 0,
    "start_time": "2024-11-13T21:55:29.589Z"
   },
   {
    "duration": 0,
    "start_time": "2024-11-13T21:55:29.591Z"
   },
   {
    "duration": 0,
    "start_time": "2024-11-13T21:55:29.592Z"
   },
   {
    "duration": 0,
    "start_time": "2024-11-13T21:55:29.593Z"
   },
   {
    "duration": 0,
    "start_time": "2024-11-13T21:55:29.594Z"
   },
   {
    "duration": 0,
    "start_time": "2024-11-13T21:55:29.595Z"
   },
   {
    "duration": 0,
    "start_time": "2024-11-13T21:55:29.624Z"
   },
   {
    "duration": 0,
    "start_time": "2024-11-13T21:55:29.626Z"
   },
   {
    "duration": 0,
    "start_time": "2024-11-13T21:55:29.628Z"
   },
   {
    "duration": 0,
    "start_time": "2024-11-13T21:55:29.629Z"
   },
   {
    "duration": 0,
    "start_time": "2024-11-13T21:55:29.631Z"
   },
   {
    "duration": 0,
    "start_time": "2024-11-13T21:55:29.632Z"
   },
   {
    "duration": 0,
    "start_time": "2024-11-13T21:55:29.633Z"
   },
   {
    "duration": 0,
    "start_time": "2024-11-13T21:55:29.635Z"
   },
   {
    "duration": 0,
    "start_time": "2024-11-13T21:55:29.636Z"
   },
   {
    "duration": 0,
    "start_time": "2024-11-13T21:55:29.637Z"
   },
   {
    "duration": 0,
    "start_time": "2024-11-13T21:55:29.638Z"
   },
   {
    "duration": 0,
    "start_time": "2024-11-13T21:55:29.640Z"
   },
   {
    "duration": 0,
    "start_time": "2024-11-13T21:55:29.641Z"
   },
   {
    "duration": 0,
    "start_time": "2024-11-13T21:55:29.643Z"
   },
   {
    "duration": 0,
    "start_time": "2024-11-13T21:55:29.644Z"
   },
   {
    "duration": 0,
    "start_time": "2024-11-13T21:55:29.645Z"
   },
   {
    "duration": 0,
    "start_time": "2024-11-13T21:55:29.647Z"
   },
   {
    "duration": 0,
    "start_time": "2024-11-13T21:55:29.648Z"
   },
   {
    "duration": 0,
    "start_time": "2024-11-13T21:55:29.649Z"
   },
   {
    "duration": 0,
    "start_time": "2024-11-13T21:55:29.650Z"
   },
   {
    "duration": 10,
    "start_time": "2024-11-13T21:55:55.605Z"
   },
   {
    "duration": 4,
    "start_time": "2024-11-13T21:55:56.475Z"
   },
   {
    "duration": 3,
    "start_time": "2024-11-13T21:55:56.512Z"
   },
   {
    "duration": 5,
    "start_time": "2024-11-13T21:55:56.816Z"
   },
   {
    "duration": 4,
    "start_time": "2024-11-13T21:55:56.845Z"
   },
   {
    "duration": 7,
    "start_time": "2024-11-13T21:55:57.181Z"
   },
   {
    "duration": 24,
    "start_time": "2024-11-13T21:55:57.491Z"
   },
   {
    "duration": 7,
    "start_time": "2024-11-13T21:55:57.830Z"
   },
   {
    "duration": 5,
    "start_time": "2024-11-13T21:55:58.515Z"
   },
   {
    "duration": 4,
    "start_time": "2024-11-13T21:55:58.798Z"
   },
   {
    "duration": 4,
    "start_time": "2024-11-13T21:55:58.847Z"
   },
   {
    "duration": 7,
    "start_time": "2024-11-13T21:55:59.154Z"
   },
   {
    "duration": 5,
    "start_time": "2024-11-13T21:55:59.542Z"
   },
   {
    "duration": 12,
    "start_time": "2024-11-13T21:56:01.246Z"
   },
   {
    "duration": 240,
    "start_time": "2024-11-13T21:56:02.946Z"
   },
   {
    "duration": 5,
    "start_time": "2024-11-13T21:56:04.935Z"
   },
   {
    "duration": 195,
    "start_time": "2024-11-13T21:56:04.968Z"
   },
   {
    "duration": 291,
    "start_time": "2024-11-13T21:56:19.310Z"
   },
   {
    "duration": 472,
    "start_time": "2024-11-13T21:56:45.443Z"
   },
   {
    "duration": 376,
    "start_time": "2024-11-13T21:57:04.984Z"
   },
   {
    "duration": 175,
    "start_time": "2024-11-13T23:59:22.492Z"
   },
   {
    "duration": 2734,
    "start_time": "2024-11-13T23:59:39.114Z"
   },
   {
    "duration": 41,
    "start_time": "2024-11-13T23:59:41.850Z"
   },
   {
    "duration": 12,
    "start_time": "2024-11-13T23:59:41.893Z"
   },
   {
    "duration": 7,
    "start_time": "2024-11-13T23:59:41.908Z"
   },
   {
    "duration": 25,
    "start_time": "2024-11-13T23:59:41.918Z"
   },
   {
    "duration": 3,
    "start_time": "2024-11-13T23:59:41.945Z"
   },
   {
    "duration": 22,
    "start_time": "2024-11-13T23:59:41.950Z"
   },
   {
    "duration": 12,
    "start_time": "2024-11-13T23:59:41.974Z"
   },
   {
    "duration": 4,
    "start_time": "2024-11-13T23:59:41.987Z"
   },
   {
    "duration": 4,
    "start_time": "2024-11-13T23:59:41.993Z"
   },
   {
    "duration": 42,
    "start_time": "2024-11-13T23:59:41.998Z"
   },
   {
    "duration": 4,
    "start_time": "2024-11-13T23:59:42.042Z"
   },
   {
    "duration": 4,
    "start_time": "2024-11-13T23:59:42.048Z"
   },
   {
    "duration": 4,
    "start_time": "2024-11-13T23:59:42.056Z"
   },
   {
    "duration": 4,
    "start_time": "2024-11-13T23:59:42.062Z"
   },
   {
    "duration": 7,
    "start_time": "2024-11-13T23:59:42.067Z"
   },
   {
    "duration": 67,
    "start_time": "2024-11-13T23:59:42.075Z"
   },
   {
    "duration": 4,
    "start_time": "2024-11-13T23:59:42.144Z"
   },
   {
    "duration": 5,
    "start_time": "2024-11-13T23:59:42.149Z"
   },
   {
    "duration": 4,
    "start_time": "2024-11-13T23:59:42.156Z"
   },
   {
    "duration": 4,
    "start_time": "2024-11-13T23:59:42.162Z"
   },
   {
    "duration": 8,
    "start_time": "2024-11-13T23:59:42.167Z"
   },
   {
    "duration": 5,
    "start_time": "2024-11-13T23:59:42.177Z"
   },
   {
    "duration": 47,
    "start_time": "2024-11-13T23:59:42.184Z"
   },
   {
    "duration": 259,
    "start_time": "2024-11-13T23:59:42.233Z"
   },
   {
    "duration": 6,
    "start_time": "2024-11-13T23:59:42.494Z"
   },
   {
    "duration": 215,
    "start_time": "2024-11-13T23:59:42.501Z"
   },
   {
    "duration": 401,
    "start_time": "2024-11-13T23:59:42.719Z"
   },
   {
    "duration": 13,
    "start_time": "2024-11-13T23:59:43.130Z"
   },
   {
    "duration": 4,
    "start_time": "2024-11-13T23:59:43.145Z"
   },
   {
    "duration": 2,
    "start_time": "2024-11-13T23:59:43.151Z"
   },
   {
    "duration": 415,
    "start_time": "2024-11-13T23:59:43.155Z"
   },
   {
    "duration": 6,
    "start_time": "2024-11-13T23:59:43.572Z"
   },
   {
    "duration": 1,
    "start_time": "2024-11-13T23:59:43.579Z"
   },
   {
    "duration": 0,
    "start_time": "2024-11-13T23:59:43.581Z"
   },
   {
    "duration": 0,
    "start_time": "2024-11-13T23:59:43.582Z"
   },
   {
    "duration": 0,
    "start_time": "2024-11-13T23:59:43.583Z"
   },
   {
    "duration": 0,
    "start_time": "2024-11-13T23:59:43.585Z"
   },
   {
    "duration": 0,
    "start_time": "2024-11-13T23:59:43.587Z"
   },
   {
    "duration": 0,
    "start_time": "2024-11-13T23:59:43.588Z"
   },
   {
    "duration": 0,
    "start_time": "2024-11-13T23:59:43.590Z"
   },
   {
    "duration": 19,
    "start_time": "2024-11-14T00:00:03.199Z"
   },
   {
    "duration": 221,
    "start_time": "2024-11-14T00:08:08.634Z"
   },
   {
    "duration": 222,
    "start_time": "2024-11-14T00:09:29.251Z"
   },
   {
    "duration": 915,
    "start_time": "2024-11-14T00:31:03.456Z"
   },
   {
    "duration": 27,
    "start_time": "2024-11-14T00:31:04.373Z"
   },
   {
    "duration": 11,
    "start_time": "2024-11-14T00:31:04.402Z"
   },
   {
    "duration": 19,
    "start_time": "2024-11-14T00:31:04.415Z"
   },
   {
    "duration": 13,
    "start_time": "2024-11-14T00:31:04.435Z"
   },
   {
    "duration": 3,
    "start_time": "2024-11-14T00:31:04.450Z"
   },
   {
    "duration": 15,
    "start_time": "2024-11-14T00:31:04.454Z"
   },
   {
    "duration": 11,
    "start_time": "2024-11-14T00:31:04.472Z"
   },
   {
    "duration": 3,
    "start_time": "2024-11-14T00:31:04.485Z"
   },
   {
    "duration": 3,
    "start_time": "2024-11-14T00:31:04.492Z"
   },
   {
    "duration": 44,
    "start_time": "2024-11-14T00:31:04.497Z"
   },
   {
    "duration": 5,
    "start_time": "2024-11-14T00:31:04.543Z"
   },
   {
    "duration": 4,
    "start_time": "2024-11-14T00:31:04.550Z"
   },
   {
    "duration": 4,
    "start_time": "2024-11-14T00:31:04.556Z"
   },
   {
    "duration": 4,
    "start_time": "2024-11-14T00:31:04.561Z"
   },
   {
    "duration": 6,
    "start_time": "2024-11-14T00:31:04.568Z"
   },
   {
    "duration": 20,
    "start_time": "2024-11-14T00:31:04.575Z"
   },
   {
    "duration": 4,
    "start_time": "2024-11-14T00:31:04.632Z"
   },
   {
    "duration": 5,
    "start_time": "2024-11-14T00:31:04.638Z"
   },
   {
    "duration": 3,
    "start_time": "2024-11-14T00:31:04.645Z"
   },
   {
    "duration": 3,
    "start_time": "2024-11-14T00:31:04.650Z"
   },
   {
    "duration": 8,
    "start_time": "2024-11-14T00:31:04.654Z"
   },
   {
    "duration": 5,
    "start_time": "2024-11-14T00:31:04.664Z"
   },
   {
    "duration": 13,
    "start_time": "2024-11-14T00:31:04.671Z"
   },
   {
    "duration": 302,
    "start_time": "2024-11-14T00:31:04.686Z"
   },
   {
    "duration": 7,
    "start_time": "2024-11-14T00:31:04.990Z"
   },
   {
    "duration": 264,
    "start_time": "2024-11-14T00:31:04.998Z"
   },
   {
    "duration": 314,
    "start_time": "2024-11-14T00:31:05.266Z"
   },
   {
    "duration": 237,
    "start_time": "2024-11-14T00:31:05.581Z"
   },
   {
    "duration": 399,
    "start_time": "2024-11-14T00:31:05.819Z"
   },
   {
    "duration": 12,
    "start_time": "2024-11-14T00:31:06.220Z"
   },
   {
    "duration": 0,
    "start_time": "2024-11-14T00:31:06.233Z"
   },
   {
    "duration": 0,
    "start_time": "2024-11-14T00:31:06.235Z"
   },
   {
    "duration": 0,
    "start_time": "2024-11-14T00:31:06.236Z"
   },
   {
    "duration": 0,
    "start_time": "2024-11-14T00:31:06.238Z"
   },
   {
    "duration": 0,
    "start_time": "2024-11-14T00:31:06.239Z"
   },
   {
    "duration": 0,
    "start_time": "2024-11-14T00:31:06.240Z"
   },
   {
    "duration": 0,
    "start_time": "2024-11-14T00:31:06.241Z"
   },
   {
    "duration": 0,
    "start_time": "2024-11-14T00:31:06.241Z"
   },
   {
    "duration": 465,
    "start_time": "2024-11-14T00:51:12.558Z"
   },
   {
    "duration": 398,
    "start_time": "2024-11-14T00:55:25.762Z"
   },
   {
    "duration": 2656,
    "start_time": "2024-11-14T14:02:46.729Z"
   },
   {
    "duration": 36,
    "start_time": "2024-11-14T14:02:49.388Z"
   },
   {
    "duration": 12,
    "start_time": "2024-11-14T14:02:49.426Z"
   },
   {
    "duration": 6,
    "start_time": "2024-11-14T14:02:49.440Z"
   },
   {
    "duration": 12,
    "start_time": "2024-11-14T14:02:49.449Z"
   },
   {
    "duration": 4,
    "start_time": "2024-11-14T14:02:49.463Z"
   },
   {
    "duration": 41,
    "start_time": "2024-11-14T14:02:49.468Z"
   },
   {
    "duration": 11,
    "start_time": "2024-11-14T14:02:49.510Z"
   },
   {
    "duration": 3,
    "start_time": "2024-11-14T14:02:49.523Z"
   },
   {
    "duration": 3,
    "start_time": "2024-11-14T14:02:49.528Z"
   },
   {
    "duration": 10,
    "start_time": "2024-11-14T14:02:49.532Z"
   },
   {
    "duration": 4,
    "start_time": "2024-11-14T14:02:49.543Z"
   },
   {
    "duration": 4,
    "start_time": "2024-11-14T14:02:49.548Z"
   },
   {
    "duration": 4,
    "start_time": "2024-11-14T14:02:49.556Z"
   },
   {
    "duration": 4,
    "start_time": "2024-11-14T14:02:49.562Z"
   },
   {
    "duration": 7,
    "start_time": "2024-11-14T14:02:49.610Z"
   },
   {
    "duration": 20,
    "start_time": "2024-11-14T14:02:49.618Z"
   },
   {
    "duration": 3,
    "start_time": "2024-11-14T14:02:49.639Z"
   },
   {
    "duration": 2,
    "start_time": "2024-11-14T14:02:49.644Z"
   },
   {
    "duration": 2,
    "start_time": "2024-11-14T14:02:49.648Z"
   },
   {
    "duration": 4,
    "start_time": "2024-11-14T14:02:49.652Z"
   },
   {
    "duration": 3,
    "start_time": "2024-11-14T14:02:49.658Z"
   },
   {
    "duration": 3,
    "start_time": "2024-11-14T14:02:49.663Z"
   },
   {
    "duration": 8,
    "start_time": "2024-11-14T14:02:49.709Z"
   },
   {
    "duration": 5,
    "start_time": "2024-11-14T14:02:49.718Z"
   },
   {
    "duration": 10,
    "start_time": "2024-11-14T14:02:49.725Z"
   },
   {
    "duration": 284,
    "start_time": "2024-11-14T14:02:49.737Z"
   },
   {
    "duration": 5,
    "start_time": "2024-11-14T14:02:50.023Z"
   },
   {
    "duration": 219,
    "start_time": "2024-11-14T14:02:50.029Z"
   },
   {
    "duration": 359,
    "start_time": "2024-11-14T14:02:50.250Z"
   },
   {
    "duration": 222,
    "start_time": "2024-11-14T14:02:50.611Z"
   },
   {
    "duration": 390,
    "start_time": "2024-11-14T14:02:50.835Z"
   },
   {
    "duration": 5,
    "start_time": "2024-11-14T14:02:51.227Z"
   },
   {
    "duration": 0,
    "start_time": "2024-11-14T14:02:51.233Z"
   },
   {
    "duration": 0,
    "start_time": "2024-11-14T14:02:51.234Z"
   },
   {
    "duration": 0,
    "start_time": "2024-11-14T14:02:51.236Z"
   },
   {
    "duration": 0,
    "start_time": "2024-11-14T14:02:51.237Z"
   },
   {
    "duration": 0,
    "start_time": "2024-11-14T14:02:51.238Z"
   },
   {
    "duration": 0,
    "start_time": "2024-11-14T14:02:51.239Z"
   },
   {
    "duration": 0,
    "start_time": "2024-11-14T14:02:51.240Z"
   },
   {
    "duration": 0,
    "start_time": "2024-11-14T14:02:51.242Z"
   },
   {
    "duration": 0,
    "start_time": "2024-11-14T14:02:51.243Z"
   },
   {
    "duration": 4,
    "start_time": "2024-11-14T14:06:22.020Z"
   },
   {
    "duration": 852,
    "start_time": "2024-11-14T14:07:21.262Z"
   },
   {
    "duration": 57,
    "start_time": "2024-11-14T14:09:36.468Z"
   },
   {
    "duration": 4,
    "start_time": "2024-11-14T14:10:30.788Z"
   },
   {
    "duration": 47,
    "start_time": "2024-11-14T14:10:32.290Z"
   },
   {
    "duration": 39,
    "start_time": "2024-11-14T14:11:09.663Z"
   },
   {
    "duration": 831,
    "start_time": "2024-11-14T14:11:33.169Z"
   },
   {
    "duration": 25,
    "start_time": "2024-11-14T14:11:34.002Z"
   },
   {
    "duration": 11,
    "start_time": "2024-11-14T14:11:34.028Z"
   },
   {
    "duration": 6,
    "start_time": "2024-11-14T14:11:34.041Z"
   },
   {
    "duration": 12,
    "start_time": "2024-11-14T14:11:34.049Z"
   },
   {
    "duration": 2,
    "start_time": "2024-11-14T14:11:34.063Z"
   },
   {
    "duration": 43,
    "start_time": "2024-11-14T14:11:34.067Z"
   },
   {
    "duration": 11,
    "start_time": "2024-11-14T14:11:34.111Z"
   },
   {
    "duration": 3,
    "start_time": "2024-11-14T14:11:34.123Z"
   },
   {
    "duration": 3,
    "start_time": "2024-11-14T14:11:34.129Z"
   },
   {
    "duration": 10,
    "start_time": "2024-11-14T14:11:34.133Z"
   },
   {
    "duration": 4,
    "start_time": "2024-11-14T14:11:34.146Z"
   },
   {
    "duration": 3,
    "start_time": "2024-11-14T14:11:34.151Z"
   },
   {
    "duration": 4,
    "start_time": "2024-11-14T14:11:34.156Z"
   },
   {
    "duration": 4,
    "start_time": "2024-11-14T14:11:34.162Z"
   },
   {
    "duration": 47,
    "start_time": "2024-11-14T14:11:34.167Z"
   },
   {
    "duration": 20,
    "start_time": "2024-11-14T14:11:34.215Z"
   },
   {
    "duration": 4,
    "start_time": "2024-11-14T14:11:34.236Z"
   },
   {
    "duration": 4,
    "start_time": "2024-11-14T14:11:34.242Z"
   },
   {
    "duration": 5,
    "start_time": "2024-11-14T14:11:34.247Z"
   },
   {
    "duration": 4,
    "start_time": "2024-11-14T14:11:34.255Z"
   },
   {
    "duration": 3,
    "start_time": "2024-11-14T14:11:34.261Z"
   },
   {
    "duration": 44,
    "start_time": "2024-11-14T14:11:34.266Z"
   },
   {
    "duration": 7,
    "start_time": "2024-11-14T14:11:34.311Z"
   },
   {
    "duration": 4,
    "start_time": "2024-11-14T14:11:34.320Z"
   },
   {
    "duration": 10,
    "start_time": "2024-11-14T14:11:34.326Z"
   },
   {
    "duration": 267,
    "start_time": "2024-11-14T14:11:34.337Z"
   },
   {
    "duration": 7,
    "start_time": "2024-11-14T14:11:34.607Z"
   },
   {
    "duration": 252,
    "start_time": "2024-11-14T14:11:34.616Z"
   },
   {
    "duration": 309,
    "start_time": "2024-11-14T14:11:34.870Z"
   },
   {
    "duration": 239,
    "start_time": "2024-11-14T14:11:35.181Z"
   },
   {
    "duration": 380,
    "start_time": "2024-11-14T14:11:35.422Z"
   },
   {
    "duration": 6,
    "start_time": "2024-11-14T14:11:35.804Z"
   },
   {
    "duration": 0,
    "start_time": "2024-11-14T14:11:35.812Z"
   },
   {
    "duration": 0,
    "start_time": "2024-11-14T14:11:35.813Z"
   },
   {
    "duration": 0,
    "start_time": "2024-11-14T14:11:35.814Z"
   },
   {
    "duration": 0,
    "start_time": "2024-11-14T14:11:35.815Z"
   },
   {
    "duration": 0,
    "start_time": "2024-11-14T14:11:35.816Z"
   },
   {
    "duration": 0,
    "start_time": "2024-11-14T14:11:35.817Z"
   },
   {
    "duration": 0,
    "start_time": "2024-11-14T14:11:35.818Z"
   },
   {
    "duration": 0,
    "start_time": "2024-11-14T14:11:35.819Z"
   },
   {
    "duration": 0,
    "start_time": "2024-11-14T14:11:35.820Z"
   },
   {
    "duration": 465,
    "start_time": "2024-11-14T14:14:25.704Z"
   },
   {
    "duration": 221,
    "start_time": "2024-11-14T14:15:08.809Z"
   },
   {
    "duration": 861,
    "start_time": "2024-11-14T14:17:29.060Z"
   },
   {
    "duration": 24,
    "start_time": "2024-11-14T14:17:29.924Z"
   },
   {
    "duration": 12,
    "start_time": "2024-11-14T14:17:29.950Z"
   },
   {
    "duration": 7,
    "start_time": "2024-11-14T14:17:29.963Z"
   },
   {
    "duration": 12,
    "start_time": "2024-11-14T14:17:29.973Z"
   },
   {
    "duration": 2,
    "start_time": "2024-11-14T14:17:30.009Z"
   },
   {
    "duration": 15,
    "start_time": "2024-11-14T14:17:30.013Z"
   },
   {
    "duration": 12,
    "start_time": "2024-11-14T14:17:30.029Z"
   },
   {
    "duration": 3,
    "start_time": "2024-11-14T14:17:30.042Z"
   },
   {
    "duration": 3,
    "start_time": "2024-11-14T14:17:30.047Z"
   },
   {
    "duration": 9,
    "start_time": "2024-11-14T14:17:30.052Z"
   },
   {
    "duration": 4,
    "start_time": "2024-11-14T14:17:30.063Z"
   },
   {
    "duration": 40,
    "start_time": "2024-11-14T14:17:30.068Z"
   },
   {
    "duration": 4,
    "start_time": "2024-11-14T14:17:30.113Z"
   },
   {
    "duration": 4,
    "start_time": "2024-11-14T14:17:30.119Z"
   },
   {
    "duration": 7,
    "start_time": "2024-11-14T14:17:30.124Z"
   },
   {
    "duration": 18,
    "start_time": "2024-11-14T14:17:30.133Z"
   },
   {
    "duration": 3,
    "start_time": "2024-11-14T14:17:30.153Z"
   },
   {
    "duration": 5,
    "start_time": "2024-11-14T14:17:30.157Z"
   },
   {
    "duration": 46,
    "start_time": "2024-11-14T14:17:30.163Z"
   },
   {
    "duration": 4,
    "start_time": "2024-11-14T14:17:30.211Z"
   },
   {
    "duration": 4,
    "start_time": "2024-11-14T14:17:30.217Z"
   },
   {
    "duration": 4,
    "start_time": "2024-11-14T14:17:30.223Z"
   },
   {
    "duration": 8,
    "start_time": "2024-11-14T14:17:30.228Z"
   },
   {
    "duration": 5,
    "start_time": "2024-11-14T14:17:30.237Z"
   },
   {
    "duration": 10,
    "start_time": "2024-11-14T14:17:30.243Z"
   },
   {
    "duration": 275,
    "start_time": "2024-11-14T14:17:30.255Z"
   },
   {
    "duration": 6,
    "start_time": "2024-11-14T14:17:30.532Z"
   },
   {
    "duration": 258,
    "start_time": "2024-11-14T14:17:30.539Z"
   },
   {
    "duration": 312,
    "start_time": "2024-11-14T14:17:30.800Z"
   },
   {
    "duration": 224,
    "start_time": "2024-11-14T14:17:31.114Z"
   },
   {
    "duration": 472,
    "start_time": "2024-11-14T14:17:31.339Z"
   },
   {
    "duration": 0,
    "start_time": "2024-11-14T14:17:31.813Z"
   },
   {
    "duration": 0,
    "start_time": "2024-11-14T14:17:31.814Z"
   },
   {
    "duration": 0,
    "start_time": "2024-11-14T14:17:31.815Z"
   },
   {
    "duration": 0,
    "start_time": "2024-11-14T14:17:31.816Z"
   },
   {
    "duration": 0,
    "start_time": "2024-11-14T14:17:31.817Z"
   },
   {
    "duration": 0,
    "start_time": "2024-11-14T14:17:31.819Z"
   },
   {
    "duration": 0,
    "start_time": "2024-11-14T14:17:31.820Z"
   },
   {
    "duration": 0,
    "start_time": "2024-11-14T14:17:31.821Z"
   },
   {
    "duration": 0,
    "start_time": "2024-11-14T14:17:31.822Z"
   },
   {
    "duration": 0,
    "start_time": "2024-11-14T14:17:31.823Z"
   },
   {
    "duration": 176,
    "start_time": "2024-11-14T14:18:23.804Z"
   },
   {
    "duration": 14,
    "start_time": "2024-11-14T14:19:11.277Z"
   },
   {
    "duration": 11,
    "start_time": "2024-11-14T14:20:05.020Z"
   },
   {
    "duration": 631,
    "start_time": "2024-11-14T14:21:52.426Z"
   },
   {
    "duration": 38,
    "start_time": "2024-11-14T14:23:38.516Z"
   },
   {
    "duration": 3,
    "start_time": "2024-11-14T14:47:33.248Z"
   },
   {
    "duration": 28,
    "start_time": "2024-11-14T14:47:35.525Z"
   },
   {
    "duration": 4,
    "start_time": "2024-11-14T14:48:32.893Z"
   },
   {
    "duration": 29,
    "start_time": "2024-11-14T14:48:34.243Z"
   },
   {
    "duration": 46,
    "start_time": "2024-11-14T14:49:46.438Z"
   },
   {
    "duration": 868,
    "start_time": "2024-11-14T14:50:04.727Z"
   },
   {
    "duration": 28,
    "start_time": "2024-11-14T14:50:05.597Z"
   },
   {
    "duration": 11,
    "start_time": "2024-11-14T14:50:05.626Z"
   },
   {
    "duration": 6,
    "start_time": "2024-11-14T14:50:05.639Z"
   },
   {
    "duration": 13,
    "start_time": "2024-11-14T14:50:05.647Z"
   },
   {
    "duration": 3,
    "start_time": "2024-11-14T14:50:05.662Z"
   },
   {
    "duration": 43,
    "start_time": "2024-11-14T14:50:05.667Z"
   },
   {
    "duration": 10,
    "start_time": "2024-11-14T14:50:05.712Z"
   },
   {
    "duration": 3,
    "start_time": "2024-11-14T14:50:05.724Z"
   },
   {
    "duration": 3,
    "start_time": "2024-11-14T14:50:05.728Z"
   },
   {
    "duration": 9,
    "start_time": "2024-11-14T14:50:05.733Z"
   },
   {
    "duration": 3,
    "start_time": "2024-11-14T14:50:05.744Z"
   },
   {
    "duration": 4,
    "start_time": "2024-11-14T14:50:05.749Z"
   },
   {
    "duration": 3,
    "start_time": "2024-11-14T14:50:05.757Z"
   },
   {
    "duration": 4,
    "start_time": "2024-11-14T14:50:05.762Z"
   },
   {
    "duration": 6,
    "start_time": "2024-11-14T14:50:05.808Z"
   },
   {
    "duration": 19,
    "start_time": "2024-11-14T14:50:05.816Z"
   },
   {
    "duration": 3,
    "start_time": "2024-11-14T14:50:05.836Z"
   },
   {
    "duration": 3,
    "start_time": "2024-11-14T14:50:05.841Z"
   },
   {
    "duration": 4,
    "start_time": "2024-11-14T14:50:05.846Z"
   },
   {
    "duration": 5,
    "start_time": "2024-11-14T14:50:05.851Z"
   },
   {
    "duration": 11,
    "start_time": "2024-11-14T14:50:05.857Z"
   },
   {
    "duration": 40,
    "start_time": "2024-11-14T14:50:05.870Z"
   },
   {
    "duration": 804,
    "start_time": "2024-11-14T14:50:05.912Z"
   },
   {
    "duration": 0,
    "start_time": "2024-11-14T14:50:06.718Z"
   },
   {
    "duration": 0,
    "start_time": "2024-11-14T14:50:06.720Z"
   },
   {
    "duration": 0,
    "start_time": "2024-11-14T14:50:06.721Z"
   },
   {
    "duration": 0,
    "start_time": "2024-11-14T14:50:06.723Z"
   },
   {
    "duration": 0,
    "start_time": "2024-11-14T14:50:06.724Z"
   },
   {
    "duration": 0,
    "start_time": "2024-11-14T14:50:06.726Z"
   },
   {
    "duration": 0,
    "start_time": "2024-11-14T14:50:06.727Z"
   },
   {
    "duration": 0,
    "start_time": "2024-11-14T14:50:06.729Z"
   },
   {
    "duration": 0,
    "start_time": "2024-11-14T14:50:06.730Z"
   },
   {
    "duration": 0,
    "start_time": "2024-11-14T14:50:06.730Z"
   },
   {
    "duration": 0,
    "start_time": "2024-11-14T14:50:06.732Z"
   },
   {
    "duration": 0,
    "start_time": "2024-11-14T14:50:06.733Z"
   },
   {
    "duration": 0,
    "start_time": "2024-11-14T14:50:06.734Z"
   },
   {
    "duration": 0,
    "start_time": "2024-11-14T14:50:06.735Z"
   },
   {
    "duration": 0,
    "start_time": "2024-11-14T14:50:06.736Z"
   },
   {
    "duration": 0,
    "start_time": "2024-11-14T14:50:06.738Z"
   },
   {
    "duration": 0,
    "start_time": "2024-11-14T14:50:06.739Z"
   },
   {
    "duration": 0,
    "start_time": "2024-11-14T14:50:06.740Z"
   },
   {
    "duration": 0,
    "start_time": "2024-11-14T14:50:06.741Z"
   },
   {
    "duration": 0,
    "start_time": "2024-11-14T14:50:06.743Z"
   },
   {
    "duration": 3,
    "start_time": "2024-11-14T14:50:27.345Z"
   },
   {
    "duration": 47,
    "start_time": "2024-11-14T14:50:28.309Z"
   },
   {
    "duration": 879,
    "start_time": "2024-11-14T14:51:39.932Z"
   },
   {
    "duration": 24,
    "start_time": "2024-11-14T14:51:40.813Z"
   },
   {
    "duration": 11,
    "start_time": "2024-11-14T14:51:40.839Z"
   },
   {
    "duration": 6,
    "start_time": "2024-11-14T14:51:40.852Z"
   },
   {
    "duration": 13,
    "start_time": "2024-11-14T14:51:40.860Z"
   },
   {
    "duration": 2,
    "start_time": "2024-11-14T14:51:40.875Z"
   },
   {
    "duration": 42,
    "start_time": "2024-11-14T14:51:40.879Z"
   },
   {
    "duration": 10,
    "start_time": "2024-11-14T14:51:40.923Z"
   },
   {
    "duration": 3,
    "start_time": "2024-11-14T14:51:40.935Z"
   },
   {
    "duration": 3,
    "start_time": "2024-11-14T14:51:40.941Z"
   },
   {
    "duration": 9,
    "start_time": "2024-11-14T14:51:40.946Z"
   },
   {
    "duration": 3,
    "start_time": "2024-11-14T14:51:40.957Z"
   },
   {
    "duration": 4,
    "start_time": "2024-11-14T14:51:40.962Z"
   },
   {
    "duration": 4,
    "start_time": "2024-11-14T14:51:40.968Z"
   },
   {
    "duration": 3,
    "start_time": "2024-11-14T14:51:41.009Z"
   },
   {
    "duration": 7,
    "start_time": "2024-11-14T14:51:41.014Z"
   },
   {
    "duration": 19,
    "start_time": "2024-11-14T14:51:41.022Z"
   },
   {
    "duration": 3,
    "start_time": "2024-11-14T14:51:41.043Z"
   },
   {
    "duration": 4,
    "start_time": "2024-11-14T14:51:41.048Z"
   },
   {
    "duration": 4,
    "start_time": "2024-11-14T14:51:41.054Z"
   },
   {
    "duration": 4,
    "start_time": "2024-11-14T14:51:41.059Z"
   },
   {
    "duration": 48,
    "start_time": "2024-11-14T14:51:41.065Z"
   },
   {
    "duration": 3,
    "start_time": "2024-11-14T14:51:41.114Z"
   },
   {
    "duration": 3,
    "start_time": "2024-11-14T14:51:41.118Z"
   },
   {
    "duration": 3,
    "start_time": "2024-11-14T14:51:41.123Z"
   },
   {
    "duration": 6,
    "start_time": "2024-11-14T14:51:41.128Z"
   },
   {
    "duration": 4,
    "start_time": "2024-11-14T14:51:41.136Z"
   },
   {
    "duration": 11,
    "start_time": "2024-11-14T14:51:41.144Z"
   },
   {
    "duration": 279,
    "start_time": "2024-11-14T14:51:41.156Z"
   },
   {
    "duration": 6,
    "start_time": "2024-11-14T14:51:41.437Z"
   },
   {
    "duration": 245,
    "start_time": "2024-11-14T14:51:41.445Z"
   },
   {
    "duration": 308,
    "start_time": "2024-11-14T14:51:41.692Z"
   },
   {
    "duration": 223,
    "start_time": "2024-11-14T14:51:42.002Z"
   },
   {
    "duration": 458,
    "start_time": "2024-11-14T14:51:42.226Z"
   },
   {
    "duration": 0,
    "start_time": "2024-11-14T14:51:42.685Z"
   },
   {
    "duration": 0,
    "start_time": "2024-11-14T14:51:42.689Z"
   },
   {
    "duration": 0,
    "start_time": "2024-11-14T14:51:42.690Z"
   },
   {
    "duration": 0,
    "start_time": "2024-11-14T14:51:42.691Z"
   },
   {
    "duration": 0,
    "start_time": "2024-11-14T14:51:42.692Z"
   },
   {
    "duration": 0,
    "start_time": "2024-11-14T14:51:42.709Z"
   },
   {
    "duration": 0,
    "start_time": "2024-11-14T14:51:42.710Z"
   },
   {
    "duration": 0,
    "start_time": "2024-11-14T14:51:42.711Z"
   },
   {
    "duration": 1,
    "start_time": "2024-11-14T14:51:42.712Z"
   },
   {
    "duration": 0,
    "start_time": "2024-11-14T14:51:42.714Z"
   },
   {
    "duration": 785,
    "start_time": "2024-11-14T14:54:02.086Z"
   },
   {
    "duration": 3,
    "start_time": "2024-11-14T14:55:01.809Z"
   },
   {
    "duration": 5,
    "start_time": "2024-11-14T14:55:19.185Z"
   },
   {
    "duration": 374,
    "start_time": "2024-11-14T14:56:10.896Z"
   },
   {
    "duration": 47,
    "start_time": "2024-11-14T14:56:30.331Z"
   },
   {
    "duration": 336,
    "start_time": "2024-11-14T15:21:21.339Z"
   },
   {
    "duration": 13391,
    "start_time": "2024-11-14T15:21:36.780Z"
   },
   {
    "duration": 2399,
    "start_time": "2024-11-14T15:22:24.960Z"
   },
   {
    "duration": 411,
    "start_time": "2024-11-14T16:08:17.544Z"
   },
   {
    "duration": 8,
    "start_time": "2024-11-14T16:08:26.573Z"
   },
   {
    "duration": 19,
    "start_time": "2024-11-14T16:08:48.483Z"
   },
   {
    "duration": 5,
    "start_time": "2024-11-14T16:11:21.561Z"
   },
   {
    "duration": 190,
    "start_time": "2024-11-14T16:11:41.449Z"
   },
   {
    "duration": 46,
    "start_time": "2024-11-14T16:12:09.441Z"
   },
   {
    "duration": 30,
    "start_time": "2024-11-14T16:12:28.309Z"
   },
   {
    "duration": 5,
    "start_time": "2024-11-14T16:13:50.436Z"
   },
   {
    "duration": 4,
    "start_time": "2024-11-14T16:14:21.708Z"
   },
   {
    "duration": 872,
    "start_time": "2024-11-14T16:14:35.526Z"
   },
   {
    "duration": 29,
    "start_time": "2024-11-14T16:14:36.400Z"
   },
   {
    "duration": 11,
    "start_time": "2024-11-14T16:14:36.433Z"
   },
   {
    "duration": 6,
    "start_time": "2024-11-14T16:14:36.445Z"
   },
   {
    "duration": 13,
    "start_time": "2024-11-14T16:14:36.454Z"
   },
   {
    "duration": 3,
    "start_time": "2024-11-14T16:14:36.468Z"
   },
   {
    "duration": 36,
    "start_time": "2024-11-14T16:14:36.474Z"
   },
   {
    "duration": 11,
    "start_time": "2024-11-14T16:14:36.511Z"
   },
   {
    "duration": 3,
    "start_time": "2024-11-14T16:14:36.523Z"
   },
   {
    "duration": 3,
    "start_time": "2024-11-14T16:14:36.527Z"
   },
   {
    "duration": 9,
    "start_time": "2024-11-14T16:14:36.532Z"
   },
   {
    "duration": 4,
    "start_time": "2024-11-14T16:14:36.543Z"
   },
   {
    "duration": 4,
    "start_time": "2024-11-14T16:14:36.548Z"
   },
   {
    "duration": 4,
    "start_time": "2024-11-14T16:14:36.555Z"
   },
   {
    "duration": 4,
    "start_time": "2024-11-14T16:14:36.560Z"
   },
   {
    "duration": 7,
    "start_time": "2024-11-14T16:14:36.608Z"
   },
   {
    "duration": 19,
    "start_time": "2024-11-14T16:14:36.616Z"
   },
   {
    "duration": 4,
    "start_time": "2024-11-14T16:14:36.637Z"
   },
   {
    "duration": 4,
    "start_time": "2024-11-14T16:14:36.642Z"
   },
   {
    "duration": 4,
    "start_time": "2024-11-14T16:14:36.647Z"
   },
   {
    "duration": 4,
    "start_time": "2024-11-14T16:14:36.652Z"
   },
   {
    "duration": 10,
    "start_time": "2024-11-14T16:14:36.658Z"
   },
   {
    "duration": 40,
    "start_time": "2024-11-14T16:14:36.670Z"
   },
   {
    "duration": 3,
    "start_time": "2024-11-14T16:14:36.711Z"
   },
   {
    "duration": 4,
    "start_time": "2024-11-14T16:14:36.715Z"
   },
   {
    "duration": 7,
    "start_time": "2024-11-14T16:14:36.720Z"
   },
   {
    "duration": 4,
    "start_time": "2024-11-14T16:14:36.728Z"
   },
   {
    "duration": 11,
    "start_time": "2024-11-14T16:14:36.734Z"
   },
   {
    "duration": 280,
    "start_time": "2024-11-14T16:14:36.747Z"
   },
   {
    "duration": 5,
    "start_time": "2024-11-14T16:14:37.029Z"
   },
   {
    "duration": 276,
    "start_time": "2024-11-14T16:14:37.035Z"
   },
   {
    "duration": 336,
    "start_time": "2024-11-14T16:14:37.313Z"
   },
   {
    "duration": 274,
    "start_time": "2024-11-14T16:14:37.651Z"
   },
   {
    "duration": 387,
    "start_time": "2024-11-14T16:14:37.927Z"
   },
   {
    "duration": 17,
    "start_time": "2024-11-14T16:14:38.315Z"
   },
   {
    "duration": 165,
    "start_time": "2024-11-14T16:14:38.334Z"
   },
   {
    "duration": 0,
    "start_time": "2024-11-14T16:14:38.501Z"
   },
   {
    "duration": 0,
    "start_time": "2024-11-14T16:14:38.502Z"
   },
   {
    "duration": 0,
    "start_time": "2024-11-14T16:14:38.509Z"
   },
   {
    "duration": 0,
    "start_time": "2024-11-14T16:14:38.510Z"
   },
   {
    "duration": 0,
    "start_time": "2024-11-14T16:14:38.512Z"
   },
   {
    "duration": 0,
    "start_time": "2024-11-14T16:14:38.513Z"
   },
   {
    "duration": 0,
    "start_time": "2024-11-14T16:14:38.514Z"
   },
   {
    "duration": 0,
    "start_time": "2024-11-14T16:14:38.515Z"
   },
   {
    "duration": 0,
    "start_time": "2024-11-14T16:14:38.516Z"
   },
   {
    "duration": 0,
    "start_time": "2024-11-14T16:14:38.517Z"
   },
   {
    "duration": 4,
    "start_time": "2024-11-14T16:15:36.288Z"
   },
   {
    "duration": 18,
    "start_time": "2024-11-14T16:18:32.120Z"
   },
   {
    "duration": 171,
    "start_time": "2024-11-14T16:25:45.689Z"
   },
   {
    "duration": 2189,
    "start_time": "2024-11-14T16:25:53.754Z"
   },
   {
    "duration": 16,
    "start_time": "2024-11-14T16:29:48.411Z"
   },
   {
    "duration": 18,
    "start_time": "2024-11-14T16:30:07.253Z"
   },
   {
    "duration": 839,
    "start_time": "2024-11-14T16:31:27.197Z"
   },
   {
    "duration": 25,
    "start_time": "2024-11-14T16:31:28.039Z"
   },
   {
    "duration": 12,
    "start_time": "2024-11-14T16:31:28.065Z"
   },
   {
    "duration": 7,
    "start_time": "2024-11-14T16:31:28.079Z"
   },
   {
    "duration": 30,
    "start_time": "2024-11-14T16:31:28.089Z"
   },
   {
    "duration": 3,
    "start_time": "2024-11-14T16:31:28.120Z"
   },
   {
    "duration": 15,
    "start_time": "2024-11-14T16:31:28.125Z"
   },
   {
    "duration": 11,
    "start_time": "2024-11-14T16:31:28.141Z"
   },
   {
    "duration": 3,
    "start_time": "2024-11-14T16:31:28.153Z"
   },
   {
    "duration": 4,
    "start_time": "2024-11-14T16:31:28.158Z"
   },
   {
    "duration": 9,
    "start_time": "2024-11-14T16:31:28.164Z"
   },
   {
    "duration": 3,
    "start_time": "2024-11-14T16:31:28.209Z"
   },
   {
    "duration": 5,
    "start_time": "2024-11-14T16:31:28.213Z"
   },
   {
    "duration": 5,
    "start_time": "2024-11-14T16:31:28.221Z"
   },
   {
    "duration": 4,
    "start_time": "2024-11-14T16:31:28.228Z"
   },
   {
    "duration": 7,
    "start_time": "2024-11-14T16:31:28.234Z"
   },
   {
    "duration": 20,
    "start_time": "2024-11-14T16:31:28.242Z"
   },
   {
    "duration": 4,
    "start_time": "2024-11-14T16:31:28.264Z"
   },
   {
    "duration": 39,
    "start_time": "2024-11-14T16:31:28.271Z"
   },
   {
    "duration": 4,
    "start_time": "2024-11-14T16:31:28.312Z"
   },
   {
    "duration": 5,
    "start_time": "2024-11-14T16:31:28.317Z"
   },
   {
    "duration": 9,
    "start_time": "2024-11-14T16:31:28.324Z"
   },
   {
    "duration": 2,
    "start_time": "2024-11-14T16:31:28.335Z"
   },
   {
    "duration": 3,
    "start_time": "2024-11-14T16:31:28.339Z"
   },
   {
    "duration": 4,
    "start_time": "2024-11-14T16:31:28.343Z"
   },
   {
    "duration": 7,
    "start_time": "2024-11-14T16:31:28.348Z"
   },
   {
    "duration": 4,
    "start_time": "2024-11-14T16:31:28.359Z"
   },
   {
    "duration": 47,
    "start_time": "2024-11-14T16:31:28.366Z"
   },
   {
    "duration": 259,
    "start_time": "2024-11-14T16:31:28.415Z"
   },
   {
    "duration": 8,
    "start_time": "2024-11-14T16:31:28.676Z"
   },
   {
    "duration": 250,
    "start_time": "2024-11-14T16:31:28.687Z"
   },
   {
    "duration": 305,
    "start_time": "2024-11-14T16:31:28.939Z"
   },
   {
    "duration": 277,
    "start_time": "2024-11-14T16:31:29.246Z"
   },
   {
    "duration": 403,
    "start_time": "2024-11-14T16:31:29.525Z"
   },
   {
    "duration": 17,
    "start_time": "2024-11-14T16:31:29.929Z"
   },
   {
    "duration": 155,
    "start_time": "2024-11-14T16:31:29.947Z"
   },
   {
    "duration": 0,
    "start_time": "2024-11-14T16:31:30.110Z"
   },
   {
    "duration": 0,
    "start_time": "2024-11-14T16:31:30.113Z"
   },
   {
    "duration": 0,
    "start_time": "2024-11-14T16:31:30.114Z"
   },
   {
    "duration": 0,
    "start_time": "2024-11-14T16:31:30.116Z"
   },
   {
    "duration": 0,
    "start_time": "2024-11-14T16:31:30.117Z"
   },
   {
    "duration": 0,
    "start_time": "2024-11-14T16:31:30.119Z"
   },
   {
    "duration": 0,
    "start_time": "2024-11-14T16:31:30.120Z"
   },
   {
    "duration": 0,
    "start_time": "2024-11-14T16:31:30.121Z"
   },
   {
    "duration": 0,
    "start_time": "2024-11-14T16:31:30.122Z"
   },
   {
    "duration": 0,
    "start_time": "2024-11-14T16:31:30.124Z"
   },
   {
    "duration": 0,
    "start_time": "2024-11-14T16:31:30.125Z"
   },
   {
    "duration": 0,
    "start_time": "2024-11-14T16:31:30.126Z"
   },
   {
    "duration": 0,
    "start_time": "2024-11-14T16:31:30.127Z"
   },
   {
    "duration": 172,
    "start_time": "2024-11-14T16:31:45.250Z"
   },
   {
    "duration": 8,
    "start_time": "2024-11-14T16:32:05.854Z"
   },
   {
    "duration": 4,
    "start_time": "2024-11-14T16:34:59.412Z"
   },
   {
    "duration": 18,
    "start_time": "2024-11-14T16:38:14.728Z"
   },
   {
    "duration": 9,
    "start_time": "2024-11-14T16:38:22.902Z"
   },
   {
    "duration": 5,
    "start_time": "2024-11-14T16:45:19.442Z"
   },
   {
    "duration": 4,
    "start_time": "2024-11-14T16:52:02.249Z"
   },
   {
    "duration": 4,
    "start_time": "2024-11-14T16:52:04.541Z"
   },
   {
    "duration": 95,
    "start_time": "2024-11-14T17:12:39.526Z"
   },
   {
    "duration": 5,
    "start_time": "2024-11-14T17:13:47.636Z"
   },
   {
    "duration": 20,
    "start_time": "2024-11-14T17:13:57.720Z"
   },
   {
    "duration": 28,
    "start_time": "2024-11-14T17:14:09.260Z"
   },
   {
    "duration": 165,
    "start_time": "2024-11-14T17:15:08.647Z"
   },
   {
    "duration": 2542,
    "start_time": "2024-11-15T15:30:13.875Z"
   },
   {
    "duration": 36,
    "start_time": "2024-11-15T15:30:16.419Z"
   },
   {
    "duration": 11,
    "start_time": "2024-11-15T15:30:16.457Z"
   },
   {
    "duration": 6,
    "start_time": "2024-11-15T15:30:16.470Z"
   },
   {
    "duration": 18,
    "start_time": "2024-11-15T15:30:16.478Z"
   },
   {
    "duration": 3,
    "start_time": "2024-11-15T15:30:16.498Z"
   },
   {
    "duration": 16,
    "start_time": "2024-11-15T15:30:16.503Z"
   },
   {
    "duration": 12,
    "start_time": "2024-11-15T15:30:16.520Z"
   },
   {
    "duration": 3,
    "start_time": "2024-11-15T15:30:16.534Z"
   },
   {
    "duration": 3,
    "start_time": "2024-11-15T15:30:16.541Z"
   },
   {
    "duration": 47,
    "start_time": "2024-11-15T15:30:16.545Z"
   },
   {
    "duration": 5,
    "start_time": "2024-11-15T15:30:16.594Z"
   },
   {
    "duration": 3,
    "start_time": "2024-11-15T15:30:16.601Z"
   },
   {
    "duration": 4,
    "start_time": "2024-11-15T15:30:16.605Z"
   },
   {
    "duration": 3,
    "start_time": "2024-11-15T15:30:16.611Z"
   },
   {
    "duration": 6,
    "start_time": "2024-11-15T15:30:16.616Z"
   },
   {
    "duration": 20,
    "start_time": "2024-11-15T15:30:16.624Z"
   },
   {
    "duration": 43,
    "start_time": "2024-11-15T15:30:16.646Z"
   },
   {
    "duration": 4,
    "start_time": "2024-11-15T15:30:16.691Z"
   },
   {
    "duration": 3,
    "start_time": "2024-11-15T15:30:16.697Z"
   },
   {
    "duration": 4,
    "start_time": "2024-11-15T15:30:16.702Z"
   },
   {
    "duration": 11,
    "start_time": "2024-11-15T15:30:16.708Z"
   },
   {
    "duration": 3,
    "start_time": "2024-11-15T15:30:16.721Z"
   },
   {
    "duration": 3,
    "start_time": "2024-11-15T15:30:16.726Z"
   },
   {
    "duration": 3,
    "start_time": "2024-11-15T15:30:16.732Z"
   },
   {
    "duration": 49,
    "start_time": "2024-11-15T15:30:16.738Z"
   },
   {
    "duration": 5,
    "start_time": "2024-11-15T15:30:16.789Z"
   },
   {
    "duration": 10,
    "start_time": "2024-11-15T15:30:16.798Z"
   },
   {
    "duration": 266,
    "start_time": "2024-11-15T15:30:16.810Z"
   },
   {
    "duration": 6,
    "start_time": "2024-11-15T15:30:17.086Z"
   },
   {
    "duration": 201,
    "start_time": "2024-11-15T15:30:17.094Z"
   },
   {
    "duration": 304,
    "start_time": "2024-11-15T15:30:17.297Z"
   },
   {
    "duration": 340,
    "start_time": "2024-11-15T15:30:17.603Z"
   },
   {
    "duration": 123340,
    "start_time": "2024-11-15T15:30:17.946Z"
   },
   {
    "duration": 3,
    "start_time": "2024-11-15T15:32:21.288Z"
   },
   {
    "duration": 6,
    "start_time": "2024-11-15T15:32:21.293Z"
   },
   {
    "duration": 0,
    "start_time": "2024-11-15T15:32:21.300Z"
   },
   {
    "duration": 0,
    "start_time": "2024-11-15T15:32:21.301Z"
   },
   {
    "duration": 0,
    "start_time": "2024-11-15T15:32:21.302Z"
   },
   {
    "duration": 0,
    "start_time": "2024-11-15T15:32:21.303Z"
   },
   {
    "duration": 0,
    "start_time": "2024-11-15T15:32:21.304Z"
   },
   {
    "duration": 0,
    "start_time": "2024-11-15T15:32:21.305Z"
   },
   {
    "duration": 0,
    "start_time": "2024-11-15T15:32:21.306Z"
   },
   {
    "duration": 0,
    "start_time": "2024-11-15T15:32:21.307Z"
   },
   {
    "duration": 0,
    "start_time": "2024-11-15T15:32:21.308Z"
   },
   {
    "duration": 0,
    "start_time": "2024-11-15T15:32:21.309Z"
   },
   {
    "duration": 4,
    "start_time": "2024-11-15T15:32:55.923Z"
   },
   {
    "duration": 2192,
    "start_time": "2024-11-15T15:34:53.939Z"
   },
   {
    "duration": 11282,
    "start_time": "2024-11-15T15:35:12.377Z"
   },
   {
    "duration": 139,
    "start_time": "2024-11-15T15:35:44.454Z"
   },
   {
    "duration": 11,
    "start_time": "2024-11-15T15:38:17.747Z"
   },
   {
    "duration": 144,
    "start_time": "2024-11-15T15:39:03.604Z"
   },
   {
    "duration": 163,
    "start_time": "2024-11-15T15:40:43.093Z"
   },
   {
    "duration": 144,
    "start_time": "2024-11-15T15:43:45.866Z"
   },
   {
    "duration": 143,
    "start_time": "2024-11-15T15:46:50.315Z"
   },
   {
    "duration": 146,
    "start_time": "2024-11-15T15:47:47.955Z"
   },
   {
    "duration": 13851,
    "start_time": "2024-11-15T16:20:34.835Z"
   },
   {
    "duration": 143,
    "start_time": "2024-11-15T16:20:58.976Z"
   },
   {
    "duration": 195,
    "start_time": "2024-11-15T17:24:03.291Z"
   },
   {
    "duration": 493,
    "start_time": "2024-11-15T17:24:20.116Z"
   },
   {
    "duration": 191,
    "start_time": "2024-11-15T17:24:35.584Z"
   },
   {
    "duration": 198,
    "start_time": "2024-11-15T17:24:50.384Z"
   },
   {
    "duration": 792,
    "start_time": "2024-11-15T17:27:45.211Z"
   },
   {
    "duration": 24,
    "start_time": "2024-11-15T17:27:46.004Z"
   },
   {
    "duration": 11,
    "start_time": "2024-11-15T17:27:46.029Z"
   },
   {
    "duration": 6,
    "start_time": "2024-11-15T17:27:46.042Z"
   },
   {
    "duration": 14,
    "start_time": "2024-11-15T17:27:46.050Z"
   },
   {
    "duration": 3,
    "start_time": "2024-11-15T17:27:46.086Z"
   },
   {
    "duration": 15,
    "start_time": "2024-11-15T17:27:46.090Z"
   },
   {
    "duration": 11,
    "start_time": "2024-11-15T17:27:46.107Z"
   },
   {
    "duration": 3,
    "start_time": "2024-11-15T17:27:46.120Z"
   },
   {
    "duration": 2,
    "start_time": "2024-11-15T17:27:46.126Z"
   },
   {
    "duration": 10,
    "start_time": "2024-11-15T17:27:46.130Z"
   },
   {
    "duration": 3,
    "start_time": "2024-11-15T17:27:46.142Z"
   },
   {
    "duration": 40,
    "start_time": "2024-11-15T17:27:46.147Z"
   },
   {
    "duration": 4,
    "start_time": "2024-11-15T17:27:46.188Z"
   },
   {
    "duration": 4,
    "start_time": "2024-11-15T17:27:46.194Z"
   },
   {
    "duration": 6,
    "start_time": "2024-11-15T17:27:46.199Z"
   },
   {
    "duration": 20,
    "start_time": "2024-11-15T17:27:46.207Z"
   },
   {
    "duration": 3,
    "start_time": "2024-11-15T17:27:46.229Z"
   },
   {
    "duration": 4,
    "start_time": "2024-11-15T17:27:46.234Z"
   },
   {
    "duration": 4,
    "start_time": "2024-11-15T17:27:46.240Z"
   },
   {
    "duration": 45,
    "start_time": "2024-11-15T17:27:46.245Z"
   },
   {
    "duration": 10,
    "start_time": "2024-11-15T17:27:46.291Z"
   },
   {
    "duration": 2,
    "start_time": "2024-11-15T17:27:46.303Z"
   },
   {
    "duration": 2,
    "start_time": "2024-11-15T17:27:46.307Z"
   },
   {
    "duration": 3,
    "start_time": "2024-11-15T17:27:46.311Z"
   },
   {
    "duration": 6,
    "start_time": "2024-11-15T17:27:46.316Z"
   },
   {
    "duration": 4,
    "start_time": "2024-11-15T17:27:46.324Z"
   },
   {
    "duration": 10,
    "start_time": "2024-11-15T17:27:46.332Z"
   },
   {
    "duration": 283,
    "start_time": "2024-11-15T17:27:46.343Z"
   },
   {
    "duration": 5,
    "start_time": "2024-11-15T17:27:46.628Z"
   },
   {
    "duration": 255,
    "start_time": "2024-11-15T17:27:46.635Z"
   },
   {
    "duration": 306,
    "start_time": "2024-11-15T17:27:46.892Z"
   },
   {
    "duration": 268,
    "start_time": "2024-11-15T17:27:47.199Z"
   },
   {
    "duration": 4,
    "start_time": "2024-11-15T17:29:50.275Z"
   },
   {
    "duration": 5,
    "start_time": "2024-11-15T17:29:50.287Z"
   },
   {
    "duration": 0,
    "start_time": "2024-11-15T17:29:50.293Z"
   },
   {
    "duration": 0,
    "start_time": "2024-11-15T17:29:50.294Z"
   },
   {
    "duration": 0,
    "start_time": "2024-11-15T17:29:50.295Z"
   },
   {
    "duration": 0,
    "start_time": "2024-11-15T17:29:50.296Z"
   },
   {
    "duration": 0,
    "start_time": "2024-11-15T17:29:50.297Z"
   },
   {
    "duration": 0,
    "start_time": "2024-11-15T17:29:50.299Z"
   },
   {
    "duration": 0,
    "start_time": "2024-11-15T17:29:50.300Z"
   },
   {
    "duration": 0,
    "start_time": "2024-11-15T17:29:50.301Z"
   },
   {
    "duration": 0,
    "start_time": "2024-11-15T17:29:50.302Z"
   },
   {
    "duration": 0,
    "start_time": "2024-11-15T17:29:50.303Z"
   },
   {
    "duration": 0,
    "start_time": "2024-11-15T17:29:50.304Z"
   },
   {
    "duration": 184,
    "start_time": "2024-11-15T20:33:39.070Z"
   },
   {
    "duration": 2658,
    "start_time": "2024-11-15T20:33:55.413Z"
   },
   {
    "duration": 36,
    "start_time": "2024-11-15T20:33:58.073Z"
   },
   {
    "duration": 12,
    "start_time": "2024-11-15T20:33:58.111Z"
   },
   {
    "duration": 7,
    "start_time": "2024-11-15T20:33:58.125Z"
   },
   {
    "duration": 14,
    "start_time": "2024-11-15T20:33:58.134Z"
   },
   {
    "duration": 2,
    "start_time": "2024-11-15T20:33:58.150Z"
   },
   {
    "duration": 16,
    "start_time": "2024-11-15T20:33:58.154Z"
   },
   {
    "duration": 40,
    "start_time": "2024-11-15T20:33:58.171Z"
   },
   {
    "duration": 3,
    "start_time": "2024-11-15T20:33:58.214Z"
   },
   {
    "duration": 4,
    "start_time": "2024-11-15T20:33:58.221Z"
   },
   {
    "duration": 11,
    "start_time": "2024-11-15T20:33:58.227Z"
   },
   {
    "duration": 5,
    "start_time": "2024-11-15T20:33:58.240Z"
   },
   {
    "duration": 5,
    "start_time": "2024-11-15T20:33:58.248Z"
   },
   {
    "duration": 4,
    "start_time": "2024-11-15T20:33:58.255Z"
   },
   {
    "duration": 4,
    "start_time": "2024-11-15T20:33:58.261Z"
   },
   {
    "duration": 45,
    "start_time": "2024-11-15T20:33:58.266Z"
   },
   {
    "duration": 20,
    "start_time": "2024-11-15T20:33:58.312Z"
   },
   {
    "duration": 4,
    "start_time": "2024-11-15T20:33:58.334Z"
   },
   {
    "duration": 4,
    "start_time": "2024-11-15T20:33:58.339Z"
   },
   {
    "duration": 4,
    "start_time": "2024-11-15T20:33:58.344Z"
   },
   {
    "duration": 4,
    "start_time": "2024-11-15T20:33:58.349Z"
   },
   {
    "duration": 10,
    "start_time": "2024-11-15T20:33:58.355Z"
   },
   {
    "duration": 3,
    "start_time": "2024-11-15T20:33:58.406Z"
   },
   {
    "duration": 4,
    "start_time": "2024-11-15T20:33:58.410Z"
   },
   {
    "duration": 4,
    "start_time": "2024-11-15T20:33:58.415Z"
   },
   {
    "duration": 7,
    "start_time": "2024-11-15T20:33:58.421Z"
   },
   {
    "duration": 5,
    "start_time": "2024-11-15T20:33:58.430Z"
   },
   {
    "duration": 10,
    "start_time": "2024-11-15T20:33:58.439Z"
   },
   {
    "duration": 289,
    "start_time": "2024-11-15T20:33:58.451Z"
   },
   {
    "duration": 5,
    "start_time": "2024-11-15T20:33:58.743Z"
   },
   {
    "duration": 215,
    "start_time": "2024-11-15T20:33:58.750Z"
   },
   {
    "duration": 385,
    "start_time": "2024-11-15T20:33:58.967Z"
   },
   {
    "duration": 275,
    "start_time": "2024-11-15T20:33:59.354Z"
   },
   {
    "duration": 851,
    "start_time": "2024-11-15T20:36:31.615Z"
   },
   {
    "duration": 25,
    "start_time": "2024-11-15T20:36:32.469Z"
   },
   {
    "duration": 25,
    "start_time": "2024-11-15T20:36:32.496Z"
   },
   {
    "duration": 8,
    "start_time": "2024-11-15T20:36:32.524Z"
   },
   {
    "duration": 14,
    "start_time": "2024-11-15T20:36:32.534Z"
   },
   {
    "duration": 3,
    "start_time": "2024-11-15T20:36:32.903Z"
   },
   {
    "duration": 17,
    "start_time": "2024-11-15T20:36:32.942Z"
   },
   {
    "duration": 11,
    "start_time": "2024-11-15T20:36:33.243Z"
   },
   {
    "duration": 3,
    "start_time": "2024-11-15T20:36:33.279Z"
   },
   {
    "duration": 3,
    "start_time": "2024-11-15T20:36:33.605Z"
   },
   {
    "duration": 15,
    "start_time": "2024-11-15T20:36:33.644Z"
   },
   {
    "duration": 4,
    "start_time": "2024-11-15T20:36:33.946Z"
   },
   {
    "duration": 3,
    "start_time": "2024-11-15T20:36:33.973Z"
   },
   {
    "duration": 4,
    "start_time": "2024-11-15T20:36:34.302Z"
   },
   {
    "duration": 4,
    "start_time": "2024-11-15T20:36:34.335Z"
   },
   {
    "duration": 7,
    "start_time": "2024-11-15T20:36:34.671Z"
   },
   {
    "duration": 21,
    "start_time": "2024-11-15T20:36:35.128Z"
   },
   {
    "duration": 4,
    "start_time": "2024-11-15T20:36:35.362Z"
   },
   {
    "duration": 4,
    "start_time": "2024-11-15T20:36:36.107Z"
   },
   {
    "duration": 3,
    "start_time": "2024-11-15T20:36:37.315Z"
   },
   {
    "duration": 4,
    "start_time": "2024-11-15T20:36:37.349Z"
   },
   {
    "duration": 11,
    "start_time": "2024-11-15T20:36:37.665Z"
   },
   {
    "duration": 3,
    "start_time": "2024-11-15T20:36:37.698Z"
   },
   {
    "duration": 3,
    "start_time": "2024-11-15T20:36:38.049Z"
   },
   {
    "duration": 3,
    "start_time": "2024-11-15T20:36:39.139Z"
   },
   {
    "duration": 6,
    "start_time": "2024-11-15T20:36:39.156Z"
   },
   {
    "duration": 4,
    "start_time": "2024-11-15T20:36:40.757Z"
   },
   {
    "duration": 10,
    "start_time": "2024-11-15T20:36:41.601Z"
   },
   {
    "duration": 255,
    "start_time": "2024-11-15T20:36:47.270Z"
   },
   {
    "duration": 5,
    "start_time": "2024-11-15T20:36:50.335Z"
   },
   {
    "duration": 203,
    "start_time": "2024-11-15T20:36:51.331Z"
   },
   {
    "duration": 406,
    "start_time": "2024-11-15T20:36:58.656Z"
   },
   {
    "duration": 282,
    "start_time": "2024-11-15T20:37:26.298Z"
   },
   {
    "duration": 4,
    "start_time": "2024-11-15T20:37:56.454Z"
   },
   {
    "duration": 200,
    "start_time": "2024-11-15T20:38:02.152Z"
   },
   {
    "duration": 199,
    "start_time": "2024-11-15T20:38:03.729Z"
   },
   {
    "duration": 197,
    "start_time": "2024-11-15T20:38:04.864Z"
   },
   {
    "duration": 140,
    "start_time": "2024-11-15T20:38:09.034Z"
   },
   {
    "duration": 217,
    "start_time": "2024-11-15T20:38:11.735Z"
   },
   {
    "duration": 153,
    "start_time": "2024-11-15T20:38:15.301Z"
   },
   {
    "duration": 15115,
    "start_time": "2024-11-15T20:56:16.835Z"
   },
   {
    "duration": 147,
    "start_time": "2024-11-15T20:57:08.921Z"
   },
   {
    "duration": 9,
    "start_time": "2024-11-15T20:58:16.045Z"
   },
   {
    "duration": 7,
    "start_time": "2024-11-15T21:28:30.000Z"
   },
   {
    "duration": 267,
    "start_time": "2024-11-15T21:46:16.600Z"
   },
   {
    "duration": 124870,
    "start_time": "2024-11-15T21:46:22.888Z"
   },
   {
    "duration": 7,
    "start_time": "2024-11-15T21:48:27.761Z"
   },
   {
    "duration": 162,
    "start_time": "2024-11-15T21:49:02.791Z"
   },
   {
    "duration": 210,
    "start_time": "2024-11-15T21:49:32.818Z"
   },
   {
    "duration": 203,
    "start_time": "2024-11-15T21:49:54.418Z"
   },
   {
    "duration": 6,
    "start_time": "2024-11-15T21:57:43.111Z"
   },
   {
    "duration": 5,
    "start_time": "2024-11-15T22:02:56.269Z"
   },
   {
    "duration": 793,
    "start_time": "2024-11-15T22:03:46.182Z"
   },
   {
    "duration": 40,
    "start_time": "2024-11-15T22:03:46.977Z"
   },
   {
    "duration": 11,
    "start_time": "2024-11-15T22:03:47.019Z"
   },
   {
    "duration": 6,
    "start_time": "2024-11-15T22:03:47.033Z"
   },
   {
    "duration": 12,
    "start_time": "2024-11-15T22:03:47.040Z"
   },
   {
    "duration": 3,
    "start_time": "2024-11-15T22:03:47.054Z"
   },
   {
    "duration": 14,
    "start_time": "2024-11-15T22:03:47.058Z"
   },
   {
    "duration": 35,
    "start_time": "2024-11-15T22:03:47.074Z"
   },
   {
    "duration": 3,
    "start_time": "2024-11-15T22:03:47.110Z"
   },
   {
    "duration": 3,
    "start_time": "2024-11-15T22:03:47.117Z"
   },
   {
    "duration": 10,
    "start_time": "2024-11-15T22:03:47.122Z"
   },
   {
    "duration": 4,
    "start_time": "2024-11-15T22:03:47.134Z"
   },
   {
    "duration": 5,
    "start_time": "2024-11-15T22:03:47.139Z"
   },
   {
    "duration": 5,
    "start_time": "2024-11-15T22:03:47.145Z"
   },
   {
    "duration": 3,
    "start_time": "2024-11-15T22:03:47.153Z"
   },
   {
    "duration": 53,
    "start_time": "2024-11-15T22:03:47.158Z"
   },
   {
    "duration": 20,
    "start_time": "2024-11-15T22:03:47.213Z"
   },
   {
    "duration": 4,
    "start_time": "2024-11-15T22:03:47.234Z"
   },
   {
    "duration": 4,
    "start_time": "2024-11-15T22:03:47.239Z"
   },
   {
    "duration": 4,
    "start_time": "2024-11-15T22:03:47.244Z"
   },
   {
    "duration": 4,
    "start_time": "2024-11-15T22:03:47.249Z"
   },
   {
    "duration": 10,
    "start_time": "2024-11-15T22:03:47.254Z"
   },
   {
    "duration": 3,
    "start_time": "2024-11-15T22:03:47.265Z"
   },
   {
    "duration": 3,
    "start_time": "2024-11-15T22:03:47.306Z"
   },
   {
    "duration": 4,
    "start_time": "2024-11-15T22:03:47.311Z"
   },
   {
    "duration": 7,
    "start_time": "2024-11-15T22:03:47.316Z"
   },
   {
    "duration": 4,
    "start_time": "2024-11-15T22:03:47.325Z"
   },
   {
    "duration": 11,
    "start_time": "2024-11-15T22:03:47.333Z"
   },
   {
    "duration": 282,
    "start_time": "2024-11-15T22:03:47.345Z"
   },
   {
    "duration": 6,
    "start_time": "2024-11-15T22:03:47.629Z"
   },
   {
    "duration": 251,
    "start_time": "2024-11-15T22:03:47.637Z"
   },
   {
    "duration": 317,
    "start_time": "2024-11-15T22:03:47.890Z"
   },
   {
    "duration": 301,
    "start_time": "2024-11-15T22:03:48.211Z"
   },
   {
    "duration": 211,
    "start_time": "2024-11-15T22:03:48.514Z"
   },
   {
    "duration": 6,
    "start_time": "2024-11-15T22:03:48.727Z"
   },
   {
    "duration": 4,
    "start_time": "2024-11-15T22:03:48.734Z"
   },
   {
    "duration": 0,
    "start_time": "2024-11-15T22:03:48.740Z"
   },
   {
    "duration": 0,
    "start_time": "2024-11-15T22:03:48.741Z"
   },
   {
    "duration": 0,
    "start_time": "2024-11-15T22:03:48.742Z"
   },
   {
    "duration": 0,
    "start_time": "2024-11-15T22:03:48.744Z"
   },
   {
    "duration": 0,
    "start_time": "2024-11-15T22:03:48.744Z"
   },
   {
    "duration": 0,
    "start_time": "2024-11-15T22:03:48.745Z"
   },
   {
    "duration": 0,
    "start_time": "2024-11-15T22:03:48.746Z"
   },
   {
    "duration": 1,
    "start_time": "2024-11-15T22:03:48.747Z"
   },
   {
    "duration": 0,
    "start_time": "2024-11-15T22:03:48.749Z"
   },
   {
    "duration": 0,
    "start_time": "2024-11-15T22:03:48.751Z"
   },
   {
    "duration": 4,
    "start_time": "2024-11-15T22:04:56.781Z"
   },
   {
    "duration": 4,
    "start_time": "2024-11-15T22:05:51.982Z"
   },
   {
    "duration": 5,
    "start_time": "2024-11-15T22:06:05.455Z"
   },
   {
    "duration": 4,
    "start_time": "2024-11-15T22:07:57.221Z"
   },
   {
    "duration": 230,
    "start_time": "2024-11-15T22:09:00.576Z"
   },
   {
    "duration": 5,
    "start_time": "2024-11-15T22:09:26.940Z"
   },
   {
    "duration": 4,
    "start_time": "2024-11-15T22:50:23.846Z"
   },
   {
    "duration": 882,
    "start_time": "2024-11-15T23:19:02.139Z"
   },
   {
    "duration": 24,
    "start_time": "2024-11-15T23:19:03.023Z"
   },
   {
    "duration": 12,
    "start_time": "2024-11-15T23:19:03.049Z"
   },
   {
    "duration": 7,
    "start_time": "2024-11-15T23:19:03.063Z"
   },
   {
    "duration": 34,
    "start_time": "2024-11-15T23:19:03.072Z"
   },
   {
    "duration": 4,
    "start_time": "2024-11-15T23:19:03.108Z"
   },
   {
    "duration": 17,
    "start_time": "2024-11-15T23:19:03.114Z"
   },
   {
    "duration": 12,
    "start_time": "2024-11-15T23:19:03.133Z"
   },
   {
    "duration": 3,
    "start_time": "2024-11-15T23:19:03.147Z"
   },
   {
    "duration": 3,
    "start_time": "2024-11-15T23:19:03.154Z"
   },
   {
    "duration": 10,
    "start_time": "2024-11-15T23:19:03.159Z"
   },
   {
    "duration": 38,
    "start_time": "2024-11-15T23:19:03.171Z"
   },
   {
    "duration": 4,
    "start_time": "2024-11-15T23:19:03.211Z"
   },
   {
    "duration": 4,
    "start_time": "2024-11-15T23:19:03.217Z"
   },
   {
    "duration": 4,
    "start_time": "2024-11-15T23:19:03.223Z"
   },
   {
    "duration": 12,
    "start_time": "2024-11-15T23:19:03.228Z"
   },
   {
    "duration": 20,
    "start_time": "2024-11-15T23:19:03.242Z"
   },
   {
    "duration": 4,
    "start_time": "2024-11-15T23:19:03.264Z"
   },
   {
    "duration": 4,
    "start_time": "2024-11-15T23:19:03.305Z"
   },
   {
    "duration": 4,
    "start_time": "2024-11-15T23:19:03.311Z"
   },
   {
    "duration": 5,
    "start_time": "2024-11-15T23:19:03.317Z"
   },
   {
    "duration": 11,
    "start_time": "2024-11-15T23:19:03.323Z"
   },
   {
    "duration": 3,
    "start_time": "2024-11-15T23:19:03.335Z"
   },
   {
    "duration": 3,
    "start_time": "2024-11-15T23:19:03.340Z"
   },
   {
    "duration": 5,
    "start_time": "2024-11-15T23:19:03.345Z"
   },
   {
    "duration": 7,
    "start_time": "2024-11-15T23:19:03.351Z"
   },
   {
    "duration": 45,
    "start_time": "2024-11-15T23:19:03.360Z"
   },
   {
    "duration": 14,
    "start_time": "2024-11-15T23:19:03.410Z"
   },
   {
    "duration": 265,
    "start_time": "2024-11-15T23:19:03.426Z"
   },
   {
    "duration": 12,
    "start_time": "2024-11-15T23:19:03.693Z"
   },
   {
    "duration": 250,
    "start_time": "2024-11-15T23:19:03.707Z"
   },
   {
    "duration": 320,
    "start_time": "2024-11-15T23:19:03.959Z"
   },
   {
    "duration": 262,
    "start_time": "2024-11-15T23:19:04.280Z"
   },
   {
    "duration": 215,
    "start_time": "2024-11-15T23:19:04.544Z"
   },
   {
    "duration": 3,
    "start_time": "2024-11-15T23:19:04.761Z"
   },
   {
    "duration": 5,
    "start_time": "2024-11-15T23:19:04.766Z"
   },
   {
    "duration": 0,
    "start_time": "2024-11-15T23:19:04.773Z"
   },
   {
    "duration": 0,
    "start_time": "2024-11-15T23:19:04.774Z"
   },
   {
    "duration": 0,
    "start_time": "2024-11-15T23:19:04.776Z"
   },
   {
    "duration": 0,
    "start_time": "2024-11-15T23:19:04.777Z"
   },
   {
    "duration": 0,
    "start_time": "2024-11-15T23:19:04.779Z"
   },
   {
    "duration": 0,
    "start_time": "2024-11-15T23:19:04.804Z"
   },
   {
    "duration": 0,
    "start_time": "2024-11-15T23:19:04.806Z"
   },
   {
    "duration": 0,
    "start_time": "2024-11-15T23:19:04.807Z"
   },
   {
    "duration": 0,
    "start_time": "2024-11-15T23:19:04.808Z"
   },
   {
    "duration": 0,
    "start_time": "2024-11-15T23:19:04.809Z"
   },
   {
    "duration": 5,
    "start_time": "2024-11-15T23:20:27.950Z"
   },
   {
    "duration": 4,
    "start_time": "2024-11-15T23:24:52.683Z"
   },
   {
    "duration": 3,
    "start_time": "2024-11-15T23:31:20.030Z"
   },
   {
    "duration": 4,
    "start_time": "2024-11-15T23:31:43.211Z"
   },
   {
    "duration": 5,
    "start_time": "2024-11-15T23:32:13.901Z"
   },
   {
    "duration": 4,
    "start_time": "2024-11-15T23:44:23.495Z"
   },
   {
    "duration": 4,
    "start_time": "2024-11-15T23:44:30.093Z"
   },
   {
    "duration": 119,
    "start_time": "2024-11-15T23:45:23.126Z"
   },
   {
    "duration": 118,
    "start_time": "2024-11-15T23:46:10.656Z"
   },
   {
    "duration": 19343,
    "start_time": "2024-11-15T23:47:39.103Z"
   },
   {
    "duration": 20202,
    "start_time": "2024-11-15T23:48:38.785Z"
   },
   {
    "duration": 30778,
    "start_time": "2024-11-15T23:49:21.304Z"
   },
   {
    "duration": 19868,
    "start_time": "2024-11-15T23:50:45.506Z"
   },
   {
    "duration": 20275,
    "start_time": "2024-11-15T23:51:13.835Z"
   },
   {
    "duration": 1207,
    "start_time": "2024-11-15T23:57:23.718Z"
   },
   {
    "duration": 131,
    "start_time": "2024-11-15T23:57:48.789Z"
   },
   {
    "duration": 21810,
    "start_time": "2024-11-15T23:58:35.787Z"
   },
   {
    "duration": 160,
    "start_time": "2024-11-16T00:02:47.382Z"
   },
   {
    "duration": 788,
    "start_time": "2024-11-16T00:06:05.592Z"
   },
   {
    "duration": 29,
    "start_time": "2024-11-16T00:06:06.382Z"
   },
   {
    "duration": 13,
    "start_time": "2024-11-16T00:06:06.412Z"
   },
   {
    "duration": 6,
    "start_time": "2024-11-16T00:06:06.427Z"
   },
   {
    "duration": 12,
    "start_time": "2024-11-16T00:06:06.435Z"
   },
   {
    "duration": 3,
    "start_time": "2024-11-16T00:06:06.448Z"
   },
   {
    "duration": 15,
    "start_time": "2024-11-16T00:06:06.452Z"
   },
   {
    "duration": 41,
    "start_time": "2024-11-16T00:06:06.468Z"
   },
   {
    "duration": 4,
    "start_time": "2024-11-16T00:06:06.511Z"
   },
   {
    "duration": 4,
    "start_time": "2024-11-16T00:06:06.519Z"
   },
   {
    "duration": 14,
    "start_time": "2024-11-16T00:06:06.524Z"
   },
   {
    "duration": 3,
    "start_time": "2024-11-16T00:06:06.540Z"
   },
   {
    "duration": 5,
    "start_time": "2024-11-16T00:06:06.552Z"
   },
   {
    "duration": 6,
    "start_time": "2024-11-16T00:06:06.560Z"
   },
   {
    "duration": 4,
    "start_time": "2024-11-16T00:06:06.567Z"
   },
   {
    "duration": 32,
    "start_time": "2024-11-16T00:06:06.573Z"
   },
   {
    "duration": 19,
    "start_time": "2024-11-16T00:06:06.607Z"
   },
   {
    "duration": 3,
    "start_time": "2024-11-16T00:06:06.628Z"
   },
   {
    "duration": 3,
    "start_time": "2024-11-16T00:06:06.633Z"
   },
   {
    "duration": 3,
    "start_time": "2024-11-16T00:06:06.638Z"
   },
   {
    "duration": 4,
    "start_time": "2024-11-16T00:06:06.643Z"
   },
   {
    "duration": 11,
    "start_time": "2024-11-16T00:06:06.649Z"
   },
   {
    "duration": 2,
    "start_time": "2024-11-16T00:06:06.662Z"
   },
   {
    "duration": 3,
    "start_time": "2024-11-16T00:06:06.666Z"
   },
   {
    "duration": 4,
    "start_time": "2024-11-16T00:06:06.704Z"
   },
   {
    "duration": 20,
    "start_time": "2024-11-16T00:06:06.710Z"
   },
   {
    "duration": 4,
    "start_time": "2024-11-16T00:06:06.731Z"
   },
   {
    "duration": 10,
    "start_time": "2024-11-16T00:06:06.739Z"
   },
   {
    "duration": 273,
    "start_time": "2024-11-16T00:06:06.751Z"
   },
   {
    "duration": 5,
    "start_time": "2024-11-16T00:06:07.026Z"
   },
   {
    "duration": 243,
    "start_time": "2024-11-16T00:06:07.033Z"
   },
   {
    "duration": 304,
    "start_time": "2024-11-16T00:06:07.278Z"
   },
   {
    "duration": 258,
    "start_time": "2024-11-16T00:06:07.584Z"
   },
   {
    "duration": 225,
    "start_time": "2024-11-16T00:06:07.844Z"
   },
   {
    "duration": 3,
    "start_time": "2024-11-16T00:06:08.071Z"
   },
   {
    "duration": 127,
    "start_time": "2024-11-16T00:06:08.076Z"
   },
   {
    "duration": 155,
    "start_time": "2024-11-16T00:06:08.205Z"
   },
   {
    "duration": 196,
    "start_time": "2024-11-16T00:06:08.363Z"
   },
   {
    "duration": 263,
    "start_time": "2024-11-16T00:06:08.561Z"
   },
   {
    "duration": 209,
    "start_time": "2024-11-16T00:06:08.826Z"
   },
   {
    "duration": 145,
    "start_time": "2024-11-16T00:06:09.037Z"
   },
   {
    "duration": 151,
    "start_time": "2024-11-16T00:06:09.184Z"
   },
   {
    "duration": 148,
    "start_time": "2024-11-16T00:06:09.337Z"
   },
   {
    "duration": 18,
    "start_time": "2024-11-16T00:06:09.487Z"
   },
   {
    "duration": 7,
    "start_time": "2024-11-16T00:06:09.507Z"
   },
   {
    "duration": 2896,
    "start_time": "2024-11-16T23:36:46.247Z"
   },
   {
    "duration": 37,
    "start_time": "2024-11-16T23:36:49.145Z"
   },
   {
    "duration": 12,
    "start_time": "2024-11-16T23:36:49.184Z"
   },
   {
    "duration": 7,
    "start_time": "2024-11-16T23:36:52.272Z"
   },
   {
    "duration": 13,
    "start_time": "2024-11-16T23:36:54.181Z"
   },
   {
    "duration": 810,
    "start_time": "2024-11-17T00:01:40.583Z"
   },
   {
    "duration": 25,
    "start_time": "2024-11-17T00:01:41.395Z"
   },
   {
    "duration": 19,
    "start_time": "2024-11-17T00:01:41.422Z"
   },
   {
    "duration": 7,
    "start_time": "2024-11-17T00:01:41.444Z"
   },
   {
    "duration": 13,
    "start_time": "2024-11-17T00:01:41.452Z"
   },
   {
    "duration": 3,
    "start_time": "2024-11-17T00:01:41.466Z"
   },
   {
    "duration": 15,
    "start_time": "2024-11-17T00:01:41.470Z"
   },
   {
    "duration": 44,
    "start_time": "2024-11-17T00:01:41.487Z"
   },
   {
    "duration": 3,
    "start_time": "2024-11-17T00:01:41.533Z"
   },
   {
    "duration": 3,
    "start_time": "2024-11-17T00:01:41.539Z"
   },
   {
    "duration": 11,
    "start_time": "2024-11-17T00:01:41.544Z"
   },
   {
    "duration": 4,
    "start_time": "2024-11-17T00:01:41.556Z"
   },
   {
    "duration": 4,
    "start_time": "2024-11-17T00:01:41.561Z"
   },
   {
    "duration": 4,
    "start_time": "2024-11-17T00:01:41.567Z"
   },
   {
    "duration": 5,
    "start_time": "2024-11-17T00:01:41.572Z"
   },
   {
    "duration": 7,
    "start_time": "2024-11-17T00:01:41.580Z"
   },
   {
    "duration": 60,
    "start_time": "2024-11-17T00:01:41.589Z"
   },
   {
    "duration": 4,
    "start_time": "2024-11-17T00:01:41.651Z"
   },
   {
    "duration": 4,
    "start_time": "2024-11-17T00:01:41.656Z"
   },
   {
    "duration": 3,
    "start_time": "2024-11-17T00:01:41.662Z"
   },
   {
    "duration": 4,
    "start_time": "2024-11-17T00:01:41.667Z"
   },
   {
    "duration": 11,
    "start_time": "2024-11-17T00:01:41.673Z"
   },
   {
    "duration": 3,
    "start_time": "2024-11-17T00:01:41.687Z"
   },
   {
    "duration": 3,
    "start_time": "2024-11-17T00:01:41.691Z"
   },
   {
    "duration": 4,
    "start_time": "2024-11-17T00:01:41.733Z"
   },
   {
    "duration": 7,
    "start_time": "2024-11-17T00:01:41.738Z"
   },
   {
    "duration": 5,
    "start_time": "2024-11-17T00:01:41.746Z"
   },
   {
    "duration": 11,
    "start_time": "2024-11-17T00:01:41.756Z"
   },
   {
    "duration": 293,
    "start_time": "2024-11-17T00:01:41.769Z"
   },
   {
    "duration": 5,
    "start_time": "2024-11-17T00:01:42.064Z"
   },
   {
    "duration": 263,
    "start_time": "2024-11-17T00:01:42.071Z"
   },
   {
    "duration": 320,
    "start_time": "2024-11-17T00:01:42.336Z"
   },
   {
    "duration": 267,
    "start_time": "2024-11-17T00:01:42.658Z"
   },
   {
    "duration": 218,
    "start_time": "2024-11-17T00:01:42.931Z"
   },
   {
    "duration": 4,
    "start_time": "2024-11-17T00:01:43.151Z"
   },
   {
    "duration": 141,
    "start_time": "2024-11-17T00:01:43.157Z"
   },
   {
    "duration": 157,
    "start_time": "2024-11-17T00:01:43.300Z"
   },
   {
    "duration": 209,
    "start_time": "2024-11-17T00:01:43.459Z"
   },
   {
    "duration": 282,
    "start_time": "2024-11-17T00:01:43.671Z"
   },
   {
    "duration": 221,
    "start_time": "2024-11-17T00:01:43.954Z"
   },
   {
    "duration": 156,
    "start_time": "2024-11-17T00:01:44.177Z"
   },
   {
    "duration": 159,
    "start_time": "2024-11-17T00:01:44.336Z"
   },
   {
    "duration": 151,
    "start_time": "2024-11-17T00:01:44.497Z"
   },
   {
    "duration": 4,
    "start_time": "2024-11-17T00:01:56.544Z"
   },
   {
    "duration": 7,
    "start_time": "2024-11-17T00:02:00.488Z"
   },
   {
    "duration": 2590,
    "start_time": "2024-11-21T13:54:44.941Z"
   },
   {
    "duration": 39,
    "start_time": "2024-11-21T13:54:47.533Z"
   },
   {
    "duration": 12,
    "start_time": "2024-11-21T13:54:47.573Z"
   },
   {
    "duration": 7,
    "start_time": "2024-11-21T13:54:47.587Z"
   },
   {
    "duration": 12,
    "start_time": "2024-11-21T13:54:47.596Z"
   },
   {
    "duration": 2,
    "start_time": "2024-11-21T13:54:47.610Z"
   },
   {
    "duration": 14,
    "start_time": "2024-11-21T13:54:47.614Z"
   },
   {
    "duration": 48,
    "start_time": "2024-11-21T13:54:47.630Z"
   },
   {
    "duration": 3,
    "start_time": "2024-11-21T13:54:47.679Z"
   },
   {
    "duration": 3,
    "start_time": "2024-11-21T13:54:47.684Z"
   },
   {
    "duration": 9,
    "start_time": "2024-11-21T13:54:47.689Z"
   },
   {
    "duration": 4,
    "start_time": "2024-11-21T13:54:47.700Z"
   },
   {
    "duration": 4,
    "start_time": "2024-11-21T13:54:47.705Z"
   },
   {
    "duration": 4,
    "start_time": "2024-11-21T13:54:47.712Z"
   },
   {
    "duration": 5,
    "start_time": "2024-11-21T13:54:47.718Z"
   },
   {
    "duration": 6,
    "start_time": "2024-11-21T13:54:47.725Z"
   },
   {
    "duration": 20,
    "start_time": "2024-11-21T13:54:47.769Z"
   },
   {
    "duration": 4,
    "start_time": "2024-11-21T13:54:47.790Z"
   },
   {
    "duration": 4,
    "start_time": "2024-11-21T13:54:47.796Z"
   },
   {
    "duration": 4,
    "start_time": "2024-11-21T13:54:47.801Z"
   },
   {
    "duration": 6,
    "start_time": "2024-11-21T13:54:47.806Z"
   },
   {
    "duration": 11,
    "start_time": "2024-11-21T13:54:47.813Z"
   },
   {
    "duration": 3,
    "start_time": "2024-11-21T13:54:47.826Z"
   },
   {
    "duration": 41,
    "start_time": "2024-11-21T13:54:47.830Z"
   },
   {
    "duration": 4,
    "start_time": "2024-11-21T13:54:47.872Z"
   },
   {
    "duration": 6,
    "start_time": "2024-11-21T13:54:47.877Z"
   },
   {
    "duration": 4,
    "start_time": "2024-11-21T13:54:47.884Z"
   },
   {
    "duration": 10,
    "start_time": "2024-11-21T13:54:47.891Z"
   },
   {
    "duration": 273,
    "start_time": "2024-11-21T13:54:47.903Z"
   },
   {
    "duration": 5,
    "start_time": "2024-11-21T13:54:48.178Z"
   },
   {
    "duration": 208,
    "start_time": "2024-11-21T13:54:48.185Z"
   },
   {
    "duration": 308,
    "start_time": "2024-11-21T13:54:48.395Z"
   },
   {
    "duration": 259,
    "start_time": "2024-11-21T13:54:48.705Z"
   },
   {
    "duration": 264,
    "start_time": "2024-11-21T13:54:48.966Z"
   },
   {
    "duration": 3,
    "start_time": "2024-11-21T13:54:49.232Z"
   },
   {
    "duration": 126,
    "start_time": "2024-11-21T13:54:49.237Z"
   },
   {
    "duration": 150,
    "start_time": "2024-11-21T13:54:49.369Z"
   },
   {
    "duration": 203,
    "start_time": "2024-11-21T13:54:49.521Z"
   },
   {
    "duration": 204,
    "start_time": "2024-11-21T13:54:49.726Z"
   },
   {
    "duration": 202,
    "start_time": "2024-11-21T13:54:49.932Z"
   },
   {
    "duration": 149,
    "start_time": "2024-11-21T13:54:50.138Z"
   },
   {
    "duration": 156,
    "start_time": "2024-11-21T13:54:50.289Z"
   },
   {
    "duration": 214,
    "start_time": "2024-11-21T13:54:50.446Z"
   },
   {
    "duration": 12,
    "start_time": "2024-11-21T13:54:50.661Z"
   },
   {
    "duration": 7,
    "start_time": "2024-11-21T13:54:50.675Z"
   },
   {
    "duration": 5,
    "start_time": "2024-11-21T14:07:48.734Z"
   },
   {
    "duration": 5,
    "start_time": "2024-11-21T14:08:28.103Z"
   },
   {
    "duration": 4,
    "start_time": "2024-11-21T14:11:04.626Z"
   },
   {
    "duration": 4,
    "start_time": "2024-11-21T14:11:41.204Z"
   },
   {
    "duration": 844,
    "start_time": "2024-11-21T14:11:56.192Z"
   },
   {
    "duration": 24,
    "start_time": "2024-11-21T14:11:57.038Z"
   },
   {
    "duration": 17,
    "start_time": "2024-11-21T14:11:57.064Z"
   },
   {
    "duration": 7,
    "start_time": "2024-11-21T14:11:57.083Z"
   },
   {
    "duration": 13,
    "start_time": "2024-11-21T14:11:57.092Z"
   },
   {
    "duration": 3,
    "start_time": "2024-11-21T14:11:57.106Z"
   },
   {
    "duration": 14,
    "start_time": "2024-11-21T14:11:57.110Z"
   },
   {
    "duration": 45,
    "start_time": "2024-11-21T14:11:57.126Z"
   },
   {
    "duration": 4,
    "start_time": "2024-11-21T14:11:57.173Z"
   },
   {
    "duration": 4,
    "start_time": "2024-11-21T14:11:57.179Z"
   },
   {
    "duration": 4,
    "start_time": "2024-11-21T14:11:57.185Z"
   },
   {
    "duration": 4,
    "start_time": "2024-11-21T14:11:57.190Z"
   },
   {
    "duration": 11,
    "start_time": "2024-11-21T14:11:57.196Z"
   },
   {
    "duration": 4,
    "start_time": "2024-11-21T14:11:57.210Z"
   },
   {
    "duration": 4,
    "start_time": "2024-11-21T14:11:57.216Z"
   },
   {
    "duration": 4,
    "start_time": "2024-11-21T14:11:57.222Z"
   },
   {
    "duration": 44,
    "start_time": "2024-11-21T14:11:57.227Z"
   },
   {
    "duration": 7,
    "start_time": "2024-11-21T14:11:57.273Z"
   },
   {
    "duration": 19,
    "start_time": "2024-11-21T14:11:57.282Z"
   },
   {
    "duration": 3,
    "start_time": "2024-11-21T14:11:57.304Z"
   },
   {
    "duration": 3,
    "start_time": "2024-11-21T14:11:57.309Z"
   },
   {
    "duration": 4,
    "start_time": "2024-11-21T14:11:57.313Z"
   },
   {
    "duration": 4,
    "start_time": "2024-11-21T14:11:57.320Z"
   },
   {
    "duration": 45,
    "start_time": "2024-11-21T14:11:57.325Z"
   },
   {
    "duration": 3,
    "start_time": "2024-11-21T14:11:57.371Z"
   },
   {
    "duration": 3,
    "start_time": "2024-11-21T14:11:57.376Z"
   },
   {
    "duration": 3,
    "start_time": "2024-11-21T14:11:57.381Z"
   },
   {
    "duration": 7,
    "start_time": "2024-11-21T14:11:57.385Z"
   },
   {
    "duration": 4,
    "start_time": "2024-11-21T14:11:57.393Z"
   },
   {
    "duration": 10,
    "start_time": "2024-11-21T14:11:57.399Z"
   },
   {
    "duration": 283,
    "start_time": "2024-11-21T14:11:57.411Z"
   },
   {
    "duration": 6,
    "start_time": "2024-11-21T14:11:57.696Z"
   },
   {
    "duration": 256,
    "start_time": "2024-11-21T14:11:57.703Z"
   },
   {
    "duration": 310,
    "start_time": "2024-11-21T14:11:57.961Z"
   },
   {
    "duration": 253,
    "start_time": "2024-11-21T14:11:58.274Z"
   },
   {
    "duration": 215,
    "start_time": "2024-11-21T14:11:58.530Z"
   },
   {
    "duration": 5,
    "start_time": "2024-11-21T14:11:58.747Z"
   },
   {
    "duration": 129,
    "start_time": "2024-11-21T14:11:58.754Z"
   },
   {
    "duration": 155,
    "start_time": "2024-11-21T14:11:58.884Z"
   },
   {
    "duration": 200,
    "start_time": "2024-11-21T14:11:59.040Z"
   },
   {
    "duration": 259,
    "start_time": "2024-11-21T14:11:59.245Z"
   },
   {
    "duration": 197,
    "start_time": "2024-11-21T14:11:59.506Z"
   },
   {
    "duration": 158,
    "start_time": "2024-11-21T14:11:59.705Z"
   },
   {
    "duration": 148,
    "start_time": "2024-11-21T14:11:59.870Z"
   },
   {
    "duration": 148,
    "start_time": "2024-11-21T14:12:00.020Z"
   },
   {
    "duration": 8,
    "start_time": "2024-11-21T14:12:00.171Z"
   },
   {
    "duration": 8,
    "start_time": "2024-11-21T14:12:00.180Z"
   },
   {
    "duration": 2862,
    "start_time": "2024-11-21T14:16:41.683Z"
   },
   {
    "duration": 8,
    "start_time": "2024-11-21T14:17:12.892Z"
   },
   {
    "duration": 813,
    "start_time": "2024-11-21T14:20:37.394Z"
   },
   {
    "duration": 24,
    "start_time": "2024-11-21T14:20:38.209Z"
   },
   {
    "duration": 11,
    "start_time": "2024-11-21T14:20:38.234Z"
   },
   {
    "duration": 6,
    "start_time": "2024-11-21T14:20:38.247Z"
   },
   {
    "duration": 13,
    "start_time": "2024-11-21T14:20:38.269Z"
   },
   {
    "duration": 3,
    "start_time": "2024-11-21T14:20:38.283Z"
   },
   {
    "duration": 14,
    "start_time": "2024-11-21T14:20:38.287Z"
   },
   {
    "duration": 11,
    "start_time": "2024-11-21T14:20:38.303Z"
   },
   {
    "duration": 2,
    "start_time": "2024-11-21T14:20:38.316Z"
   },
   {
    "duration": 3,
    "start_time": "2024-11-21T14:20:38.322Z"
   },
   {
    "duration": 3,
    "start_time": "2024-11-21T14:20:38.327Z"
   },
   {
    "duration": 39,
    "start_time": "2024-11-21T14:20:38.332Z"
   },
   {
    "duration": 11,
    "start_time": "2024-11-21T14:20:38.372Z"
   },
   {
    "duration": 4,
    "start_time": "2024-11-21T14:20:38.385Z"
   },
   {
    "duration": 4,
    "start_time": "2024-11-21T14:20:38.390Z"
   },
   {
    "duration": 4,
    "start_time": "2024-11-21T14:20:38.395Z"
   },
   {
    "duration": 4,
    "start_time": "2024-11-21T14:20:38.400Z"
   },
   {
    "duration": 6,
    "start_time": "2024-11-21T14:20:38.405Z"
   },
   {
    "duration": 59,
    "start_time": "2024-11-21T14:20:38.412Z"
   },
   {
    "duration": 4,
    "start_time": "2024-11-21T14:20:38.472Z"
   },
   {
    "duration": 3,
    "start_time": "2024-11-21T14:20:38.478Z"
   },
   {
    "duration": 4,
    "start_time": "2024-11-21T14:20:38.482Z"
   },
   {
    "duration": 3,
    "start_time": "2024-11-21T14:20:38.488Z"
   },
   {
    "duration": 10,
    "start_time": "2024-11-21T14:20:38.493Z"
   },
   {
    "duration": 3,
    "start_time": "2024-11-21T14:20:38.505Z"
   },
   {
    "duration": 4,
    "start_time": "2024-11-21T14:20:38.510Z"
   },
   {
    "duration": 3,
    "start_time": "2024-11-21T14:20:38.515Z"
   },
   {
    "duration": 49,
    "start_time": "2024-11-21T14:20:38.522Z"
   },
   {
    "duration": 5,
    "start_time": "2024-11-21T14:20:38.573Z"
   },
   {
    "duration": 11,
    "start_time": "2024-11-21T14:20:38.579Z"
   },
   {
    "duration": 271,
    "start_time": "2024-11-21T14:20:38.591Z"
   },
   {
    "duration": 9,
    "start_time": "2024-11-21T14:20:38.864Z"
   },
   {
    "duration": 245,
    "start_time": "2024-11-21T14:20:38.874Z"
   },
   {
    "duration": 306,
    "start_time": "2024-11-21T14:20:39.121Z"
   },
   {
    "duration": 268,
    "start_time": "2024-11-21T14:20:39.428Z"
   },
   {
    "duration": 217,
    "start_time": "2024-11-21T14:20:39.698Z"
   },
   {
    "duration": 4,
    "start_time": "2024-11-21T14:20:39.916Z"
   },
   {
    "duration": 128,
    "start_time": "2024-11-21T14:20:39.922Z"
   },
   {
    "duration": 151,
    "start_time": "2024-11-21T14:20:40.052Z"
   },
   {
    "duration": 198,
    "start_time": "2024-11-21T14:20:40.205Z"
   },
   {
    "duration": 265,
    "start_time": "2024-11-21T14:20:40.405Z"
   },
   {
    "duration": 202,
    "start_time": "2024-11-21T14:20:40.672Z"
   },
   {
    "duration": 153,
    "start_time": "2024-11-21T14:20:40.876Z"
   },
   {
    "duration": 150,
    "start_time": "2024-11-21T14:20:41.031Z"
   },
   {
    "duration": 148,
    "start_time": "2024-11-21T14:20:41.182Z"
   },
   {
    "duration": 10,
    "start_time": "2024-11-21T14:20:41.332Z"
   },
   {
    "duration": 7,
    "start_time": "2024-11-21T14:20:41.344Z"
   },
   {
    "duration": 3,
    "start_time": "2024-11-21T14:21:22.495Z"
   },
   {
    "duration": 807,
    "start_time": "2024-11-21T14:21:34.789Z"
   },
   {
    "duration": 23,
    "start_time": "2024-11-21T14:21:35.598Z"
   },
   {
    "duration": 11,
    "start_time": "2024-11-21T14:21:35.623Z"
   },
   {
    "duration": 7,
    "start_time": "2024-11-21T14:21:35.636Z"
   },
   {
    "duration": 33,
    "start_time": "2024-11-21T14:21:35.644Z"
   },
   {
    "duration": 2,
    "start_time": "2024-11-21T14:21:35.679Z"
   },
   {
    "duration": 15,
    "start_time": "2024-11-21T14:21:35.683Z"
   },
   {
    "duration": 12,
    "start_time": "2024-11-21T14:21:35.699Z"
   },
   {
    "duration": 3,
    "start_time": "2024-11-21T14:21:35.712Z"
   },
   {
    "duration": 3,
    "start_time": "2024-11-21T14:21:35.718Z"
   },
   {
    "duration": 3,
    "start_time": "2024-11-21T14:21:35.723Z"
   },
   {
    "duration": 3,
    "start_time": "2024-11-21T14:21:35.728Z"
   },
   {
    "duration": 46,
    "start_time": "2024-11-21T14:21:35.733Z"
   },
   {
    "duration": 3,
    "start_time": "2024-11-21T14:21:35.781Z"
   },
   {
    "duration": 3,
    "start_time": "2024-11-21T14:21:35.786Z"
   },
   {
    "duration": 4,
    "start_time": "2024-11-21T14:21:35.791Z"
   },
   {
    "duration": 3,
    "start_time": "2024-11-21T14:21:35.797Z"
   },
   {
    "duration": 6,
    "start_time": "2024-11-21T14:21:35.802Z"
   },
   {
    "duration": 19,
    "start_time": "2024-11-21T14:21:35.810Z"
   },
   {
    "duration": 42,
    "start_time": "2024-11-21T14:21:35.830Z"
   },
   {
    "duration": 4,
    "start_time": "2024-11-21T14:21:35.874Z"
   },
   {
    "duration": 4,
    "start_time": "2024-11-21T14:21:35.879Z"
   },
   {
    "duration": 4,
    "start_time": "2024-11-21T14:21:35.884Z"
   },
   {
    "duration": 10,
    "start_time": "2024-11-21T14:21:35.889Z"
   },
   {
    "duration": 3,
    "start_time": "2024-11-21T14:21:35.901Z"
   },
   {
    "duration": 3,
    "start_time": "2024-11-21T14:21:35.906Z"
   },
   {
    "duration": 4,
    "start_time": "2024-11-21T14:21:35.911Z"
   },
   {
    "duration": 6,
    "start_time": "2024-11-21T14:21:35.919Z"
   },
   {
    "duration": 46,
    "start_time": "2024-11-21T14:21:35.926Z"
   },
   {
    "duration": 10,
    "start_time": "2024-11-21T14:21:35.974Z"
   },
   {
    "duration": 262,
    "start_time": "2024-11-21T14:21:35.986Z"
   },
   {
    "duration": 5,
    "start_time": "2024-11-21T14:21:36.250Z"
   },
   {
    "duration": 254,
    "start_time": "2024-11-21T14:21:36.270Z"
   },
   {
    "duration": 334,
    "start_time": "2024-11-21T14:21:36.526Z"
   },
   {
    "duration": 267,
    "start_time": "2024-11-21T14:21:36.862Z"
   },
   {
    "duration": 224,
    "start_time": "2024-11-21T14:21:37.131Z"
   },
   {
    "duration": 4,
    "start_time": "2024-11-21T14:21:37.356Z"
   },
   {
    "duration": 127,
    "start_time": "2024-11-21T14:21:37.361Z"
   },
   {
    "duration": 153,
    "start_time": "2024-11-21T14:21:37.490Z"
   },
   {
    "duration": 202,
    "start_time": "2024-11-21T14:21:37.645Z"
   },
   {
    "duration": 275,
    "start_time": "2024-11-21T14:21:37.849Z"
   },
   {
    "duration": 200,
    "start_time": "2024-11-21T14:21:38.126Z"
   },
   {
    "duration": 160,
    "start_time": "2024-11-21T14:21:38.329Z"
   },
   {
    "duration": 156,
    "start_time": "2024-11-21T14:21:38.491Z"
   },
   {
    "duration": 153,
    "start_time": "2024-11-21T14:21:38.649Z"
   },
   {
    "duration": 8,
    "start_time": "2024-11-21T14:21:38.804Z"
   },
   {
    "duration": 7,
    "start_time": "2024-11-21T14:21:38.814Z"
   },
   {
    "duration": 216,
    "start_time": "2024-11-21T14:39:41.389Z"
   },
   {
    "duration": 14,
    "start_time": "2024-11-21T14:41:21.678Z"
   },
   {
    "duration": 18,
    "start_time": "2024-11-21T14:42:44.149Z"
   },
   {
    "duration": 478,
    "start_time": "2024-11-21T14:44:04.503Z"
   },
   {
    "duration": 133,
    "start_time": "2024-11-21T14:44:32.681Z"
   },
   {
    "duration": 15,
    "start_time": "2024-11-21T14:51:38.379Z"
   },
   {
    "duration": 15,
    "start_time": "2024-11-21T14:51:50.751Z"
   },
   {
    "duration": 56,
    "start_time": "2024-11-21T14:56:46.500Z"
   },
   {
    "duration": 14,
    "start_time": "2024-11-21T14:57:14.090Z"
   },
   {
    "duration": 211,
    "start_time": "2024-11-21T14:59:13.253Z"
   },
   {
    "duration": 288,
    "start_time": "2024-11-21T15:00:34.264Z"
   },
   {
    "duration": 116,
    "start_time": "2024-11-21T15:03:05.021Z"
   },
   {
    "duration": 161,
    "start_time": "2024-11-21T15:03:55.733Z"
   },
   {
    "duration": 164,
    "start_time": "2024-11-21T15:05:38.269Z"
   },
   {
    "duration": 198,
    "start_time": "2024-11-21T15:05:53.752Z"
   },
   {
    "duration": 826,
    "start_time": "2024-11-21T15:06:09.375Z"
   },
   {
    "duration": 24,
    "start_time": "2024-11-21T15:06:10.204Z"
   },
   {
    "duration": 12,
    "start_time": "2024-11-21T15:06:10.230Z"
   },
   {
    "duration": 26,
    "start_time": "2024-11-21T15:06:10.244Z"
   },
   {
    "duration": 13,
    "start_time": "2024-11-21T15:06:10.271Z"
   },
   {
    "duration": 3,
    "start_time": "2024-11-21T15:06:10.285Z"
   },
   {
    "duration": 15,
    "start_time": "2024-11-21T15:06:10.290Z"
   },
   {
    "duration": 11,
    "start_time": "2024-11-21T15:06:10.306Z"
   },
   {
    "duration": 4,
    "start_time": "2024-11-21T15:06:10.318Z"
   },
   {
    "duration": 3,
    "start_time": "2024-11-21T15:06:10.325Z"
   },
   {
    "duration": 4,
    "start_time": "2024-11-21T15:06:10.329Z"
   },
   {
    "duration": 36,
    "start_time": "2024-11-21T15:06:10.335Z"
   },
   {
    "duration": 10,
    "start_time": "2024-11-21T15:06:10.373Z"
   },
   {
    "duration": 4,
    "start_time": "2024-11-21T15:06:10.384Z"
   },
   {
    "duration": 3,
    "start_time": "2024-11-21T15:06:10.391Z"
   },
   {
    "duration": 4,
    "start_time": "2024-11-21T15:06:10.395Z"
   },
   {
    "duration": 4,
    "start_time": "2024-11-21T15:06:10.400Z"
   },
   {
    "duration": 6,
    "start_time": "2024-11-21T15:06:10.406Z"
   },
   {
    "duration": 58,
    "start_time": "2024-11-21T15:06:10.413Z"
   },
   {
    "duration": 4,
    "start_time": "2024-11-21T15:06:10.472Z"
   },
   {
    "duration": 3,
    "start_time": "2024-11-21T15:06:10.477Z"
   },
   {
    "duration": 3,
    "start_time": "2024-11-21T15:06:10.482Z"
   },
   {
    "duration": 4,
    "start_time": "2024-11-21T15:06:10.487Z"
   },
   {
    "duration": 10,
    "start_time": "2024-11-21T15:06:10.492Z"
   },
   {
    "duration": 3,
    "start_time": "2024-11-21T15:06:10.503Z"
   },
   {
    "duration": 3,
    "start_time": "2024-11-21T15:06:10.508Z"
   },
   {
    "duration": 4,
    "start_time": "2024-11-21T15:06:10.512Z"
   },
   {
    "duration": 50,
    "start_time": "2024-11-21T15:06:10.520Z"
   },
   {
    "duration": 5,
    "start_time": "2024-11-21T15:06:10.572Z"
   },
   {
    "duration": 11,
    "start_time": "2024-11-21T15:06:10.578Z"
   },
   {
    "duration": 259,
    "start_time": "2024-11-21T15:06:10.590Z"
   },
   {
    "duration": 6,
    "start_time": "2024-11-21T15:06:10.851Z"
   },
   {
    "duration": 244,
    "start_time": "2024-11-21T15:06:10.870Z"
   },
   {
    "duration": 332,
    "start_time": "2024-11-21T15:06:11.116Z"
   },
   {
    "duration": 260,
    "start_time": "2024-11-21T15:06:11.450Z"
   },
   {
    "duration": 213,
    "start_time": "2024-11-21T15:06:11.712Z"
   },
   {
    "duration": 227,
    "start_time": "2024-11-21T15:06:11.927Z"
   },
   {
    "duration": 0,
    "start_time": "2024-11-21T15:06:12.156Z"
   },
   {
    "duration": 0,
    "start_time": "2024-11-21T15:06:12.156Z"
   },
   {
    "duration": 0,
    "start_time": "2024-11-21T15:06:12.158Z"
   },
   {
    "duration": 0,
    "start_time": "2024-11-21T15:06:12.160Z"
   },
   {
    "duration": 0,
    "start_time": "2024-11-21T15:06:12.161Z"
   },
   {
    "duration": 0,
    "start_time": "2024-11-21T15:06:12.170Z"
   },
   {
    "duration": 0,
    "start_time": "2024-11-21T15:06:12.172Z"
   },
   {
    "duration": 0,
    "start_time": "2024-11-21T15:06:12.173Z"
   },
   {
    "duration": 0,
    "start_time": "2024-11-21T15:06:12.175Z"
   },
   {
    "duration": 0,
    "start_time": "2024-11-21T15:06:12.176Z"
   },
   {
    "duration": 0,
    "start_time": "2024-11-21T15:06:12.177Z"
   },
   {
    "duration": 0,
    "start_time": "2024-11-21T15:06:12.178Z"
   },
   {
    "duration": 14,
    "start_time": "2024-11-21T15:06:39.645Z"
   },
   {
    "duration": 275,
    "start_time": "2024-11-21T15:06:44.464Z"
   },
   {
    "duration": 13,
    "start_time": "2024-11-21T15:06:58.425Z"
   },
   {
    "duration": 195,
    "start_time": "2024-11-21T15:06:59.237Z"
   },
   {
    "duration": 178,
    "start_time": "2024-11-21T15:07:23.346Z"
   },
   {
    "duration": 155,
    "start_time": "2024-11-21T15:07:31.918Z"
   },
   {
    "duration": 4,
    "start_time": "2024-11-21T15:07:50.969Z"
   },
   {
    "duration": 112,
    "start_time": "2024-11-21T15:07:51.018Z"
   },
   {
    "duration": 141,
    "start_time": "2024-11-21T15:07:51.307Z"
   },
   {
    "duration": 193,
    "start_time": "2024-11-21T15:07:53.252Z"
   },
   {
    "duration": 192,
    "start_time": "2024-11-21T15:07:54.187Z"
   },
   {
    "duration": 192,
    "start_time": "2024-11-21T15:07:54.799Z"
   },
   {
    "duration": 217,
    "start_time": "2024-11-21T15:07:55.158Z"
   },
   {
    "duration": 141,
    "start_time": "2024-11-21T15:07:55.995Z"
   },
   {
    "duration": 156,
    "start_time": "2024-11-21T15:07:56.451Z"
   },
   {
    "duration": 8,
    "start_time": "2024-11-21T15:08:02.681Z"
   },
   {
    "duration": 16,
    "start_time": "2024-11-21T15:16:17.388Z"
   },
   {
    "duration": 16,
    "start_time": "2024-11-21T15:16:52.418Z"
   },
   {
    "duration": 21,
    "start_time": "2024-11-21T15:17:09.752Z"
   },
   {
    "duration": 6,
    "start_time": "2024-11-21T15:18:19.478Z"
   },
   {
    "duration": 804,
    "start_time": "2024-11-21T15:18:31.233Z"
   },
   {
    "duration": 24,
    "start_time": "2024-11-21T15:18:32.039Z"
   },
   {
    "duration": 13,
    "start_time": "2024-11-21T15:18:32.065Z"
   },
   {
    "duration": 6,
    "start_time": "2024-11-21T15:18:32.081Z"
   },
   {
    "duration": 12,
    "start_time": "2024-11-21T15:18:32.088Z"
   },
   {
    "duration": 2,
    "start_time": "2024-11-21T15:18:32.102Z"
   },
   {
    "duration": 15,
    "start_time": "2024-11-21T15:18:32.106Z"
   },
   {
    "duration": 12,
    "start_time": "2024-11-21T15:18:32.122Z"
   },
   {
    "duration": 36,
    "start_time": "2024-11-21T15:18:32.135Z"
   },
   {
    "duration": 3,
    "start_time": "2024-11-21T15:18:32.175Z"
   },
   {
    "duration": 3,
    "start_time": "2024-11-21T15:18:32.180Z"
   },
   {
    "duration": 2,
    "start_time": "2024-11-21T15:18:32.185Z"
   },
   {
    "duration": 11,
    "start_time": "2024-11-21T15:18:32.189Z"
   },
   {
    "duration": 4,
    "start_time": "2024-11-21T15:18:32.201Z"
   },
   {
    "duration": 3,
    "start_time": "2024-11-21T15:18:32.207Z"
   },
   {
    "duration": 4,
    "start_time": "2024-11-21T15:18:32.213Z"
   },
   {
    "duration": 4,
    "start_time": "2024-11-21T15:18:32.219Z"
   },
   {
    "duration": 7,
    "start_time": "2024-11-21T15:18:32.271Z"
   },
   {
    "duration": 20,
    "start_time": "2024-11-21T15:18:32.279Z"
   },
   {
    "duration": 3,
    "start_time": "2024-11-21T15:18:32.301Z"
   },
   {
    "duration": 4,
    "start_time": "2024-11-21T15:18:32.306Z"
   },
   {
    "duration": 3,
    "start_time": "2024-11-21T15:18:32.312Z"
   },
   {
    "duration": 4,
    "start_time": "2024-11-21T15:18:32.317Z"
   },
   {
    "duration": 11,
    "start_time": "2024-11-21T15:18:32.322Z"
   },
   {
    "duration": 4,
    "start_time": "2024-11-21T15:18:32.369Z"
   },
   {
    "duration": 3,
    "start_time": "2024-11-21T15:18:32.375Z"
   },
   {
    "duration": 4,
    "start_time": "2024-11-21T15:18:32.380Z"
   },
   {
    "duration": 7,
    "start_time": "2024-11-21T15:18:32.389Z"
   },
   {
    "duration": 5,
    "start_time": "2024-11-21T15:18:32.397Z"
   },
   {
    "duration": 11,
    "start_time": "2024-11-21T15:18:32.404Z"
   },
   {
    "duration": 284,
    "start_time": "2024-11-21T15:18:32.416Z"
   },
   {
    "duration": 6,
    "start_time": "2024-11-21T15:18:32.702Z"
   },
   {
    "duration": 253,
    "start_time": "2024-11-21T15:18:32.710Z"
   },
   {
    "duration": 323,
    "start_time": "2024-11-21T15:18:32.970Z"
   },
   {
    "duration": 262,
    "start_time": "2024-11-21T15:18:33.295Z"
   },
   {
    "duration": 214,
    "start_time": "2024-11-21T15:18:33.558Z"
   },
   {
    "duration": 15,
    "start_time": "2024-11-21T15:18:33.773Z"
   },
   {
    "duration": 174,
    "start_time": "2024-11-21T15:18:33.789Z"
   },
   {
    "duration": 3,
    "start_time": "2024-11-21T15:18:33.970Z"
   },
   {
    "duration": 122,
    "start_time": "2024-11-21T15:18:33.975Z"
   },
   {
    "duration": 153,
    "start_time": "2024-11-21T15:18:34.099Z"
   },
   {
    "duration": 213,
    "start_time": "2024-11-21T15:18:34.254Z"
   },
   {
    "duration": 274,
    "start_time": "2024-11-21T15:18:34.470Z"
   },
   {
    "duration": 205,
    "start_time": "2024-11-21T15:18:34.746Z"
   },
   {
    "duration": 148,
    "start_time": "2024-11-21T15:18:34.953Z"
   },
   {
    "duration": 170,
    "start_time": "2024-11-21T15:18:35.103Z"
   },
   {
    "duration": 149,
    "start_time": "2024-11-21T15:18:35.276Z"
   },
   {
    "duration": 4,
    "start_time": "2024-11-21T15:18:35.427Z"
   },
   {
    "duration": 0,
    "start_time": "2024-11-21T15:18:35.433Z"
   },
   {
    "duration": 8,
    "start_time": "2024-11-21T15:18:49.530Z"
   },
   {
    "duration": 2519,
    "start_time": "2024-11-21T15:51:19.575Z"
   },
   {
    "duration": 36,
    "start_time": "2024-11-21T15:51:22.096Z"
   },
   {
    "duration": 11,
    "start_time": "2024-11-21T15:51:22.134Z"
   },
   {
    "duration": 7,
    "start_time": "2024-11-21T15:51:22.147Z"
   },
   {
    "duration": 13,
    "start_time": "2024-11-21T15:51:22.156Z"
   },
   {
    "duration": 17,
    "start_time": "2024-11-21T15:51:22.170Z"
   },
   {
    "duration": 15,
    "start_time": "2024-11-21T15:51:22.189Z"
   },
   {
    "duration": 11,
    "start_time": "2024-11-21T15:51:22.206Z"
   },
   {
    "duration": 3,
    "start_time": "2024-11-21T15:51:22.219Z"
   },
   {
    "duration": 3,
    "start_time": "2024-11-21T15:51:22.226Z"
   },
   {
    "duration": 2,
    "start_time": "2024-11-21T15:51:22.231Z"
   },
   {
    "duration": 3,
    "start_time": "2024-11-21T15:51:22.236Z"
   },
   {
    "duration": 53,
    "start_time": "2024-11-21T15:51:22.241Z"
   },
   {
    "duration": 4,
    "start_time": "2024-11-21T15:51:22.296Z"
   },
   {
    "duration": 4,
    "start_time": "2024-11-21T15:51:22.301Z"
   },
   {
    "duration": 4,
    "start_time": "2024-11-21T15:51:22.307Z"
   },
   {
    "duration": 4,
    "start_time": "2024-11-21T15:51:22.313Z"
   },
   {
    "duration": 7,
    "start_time": "2024-11-21T15:51:22.319Z"
   },
   {
    "duration": 20,
    "start_time": "2024-11-21T15:51:22.329Z"
   },
   {
    "duration": 37,
    "start_time": "2024-11-21T15:51:22.351Z"
   },
   {
    "duration": 4,
    "start_time": "2024-11-21T15:51:22.390Z"
   },
   {
    "duration": 4,
    "start_time": "2024-11-21T15:51:22.396Z"
   },
   {
    "duration": 4,
    "start_time": "2024-11-21T15:51:22.402Z"
   },
   {
    "duration": 10,
    "start_time": "2024-11-21T15:51:22.408Z"
   },
   {
    "duration": 3,
    "start_time": "2024-11-21T15:51:22.420Z"
   },
   {
    "duration": 3,
    "start_time": "2024-11-21T15:51:22.425Z"
   },
   {
    "duration": 4,
    "start_time": "2024-11-21T15:51:22.429Z"
   },
   {
    "duration": 50,
    "start_time": "2024-11-21T15:51:22.437Z"
   },
   {
    "duration": 6,
    "start_time": "2024-11-21T15:51:22.488Z"
   },
   {
    "duration": 11,
    "start_time": "2024-11-21T15:51:22.495Z"
   },
   {
    "duration": 260,
    "start_time": "2024-11-21T15:51:22.508Z"
   },
   {
    "duration": 16,
    "start_time": "2024-11-21T15:51:22.770Z"
   },
   {
    "duration": 203,
    "start_time": "2024-11-21T15:51:22.788Z"
   },
   {
    "duration": 348,
    "start_time": "2024-11-21T15:51:22.993Z"
   },
   {
    "duration": 345,
    "start_time": "2024-11-21T15:51:23.344Z"
   },
   {
    "duration": 213,
    "start_time": "2024-11-21T15:51:23.691Z"
   },
   {
    "duration": 18,
    "start_time": "2024-11-21T15:51:23.906Z"
   },
   {
    "duration": 173,
    "start_time": "2024-11-21T15:51:23.926Z"
   },
   {
    "duration": 3,
    "start_time": "2024-11-21T15:51:24.102Z"
   },
   {
    "duration": 132,
    "start_time": "2024-11-21T15:51:24.106Z"
   },
   {
    "duration": 166,
    "start_time": "2024-11-21T15:51:24.240Z"
   },
   {
    "duration": 209,
    "start_time": "2024-11-21T15:51:24.408Z"
   },
   {
    "duration": 206,
    "start_time": "2024-11-21T15:51:24.619Z"
   },
   {
    "duration": 221,
    "start_time": "2024-11-21T15:51:24.827Z"
   },
   {
    "duration": 228,
    "start_time": "2024-11-21T15:51:25.050Z"
   },
   {
    "duration": 153,
    "start_time": "2024-11-21T15:51:25.280Z"
   },
   {
    "duration": 153,
    "start_time": "2024-11-21T15:51:25.435Z"
   },
   {
    "duration": 8,
    "start_time": "2024-11-21T15:51:25.591Z"
   },
   {
    "duration": 229,
    "start_time": "2024-11-21T15:51:25.602Z"
   },
   {
    "duration": 0,
    "start_time": "2024-11-21T15:51:25.832Z"
   },
   {
    "duration": 6,
    "start_time": "2024-11-21T15:56:34.470Z"
   },
   {
    "duration": 9,
    "start_time": "2024-11-21T15:57:25.989Z"
   },
   {
    "duration": 9,
    "start_time": "2024-11-21T16:07:50.724Z"
   }
  ],
  "kernelspec": {
   "display_name": "Python 3 (ipykernel)",
   "language": "python",
   "name": "python3"
  },
  "language_info": {
   "codemirror_mode": {
    "name": "ipython",
    "version": 3
   },
   "file_extension": ".py",
   "mimetype": "text/x-python",
   "name": "python",
   "nbconvert_exporter": "python",
   "pygments_lexer": "ipython3",
   "version": "3.9.19"
  },
  "toc": {
   "base_numbering": 1,
   "nav_menu": {},
   "number_sections": true,
   "sideBar": true,
   "skip_h1_title": true,
   "title_cell": "Table of Contents",
   "title_sidebar": "Contents",
   "toc_cell": false,
   "toc_position": {},
   "toc_section_display": true,
   "toc_window_display": false
  }
 },
 "nbformat": 4,
 "nbformat_minor": 2
}
